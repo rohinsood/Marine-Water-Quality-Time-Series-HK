{
 "cells": [
  {
   "cell_type": "markdown",
   "metadata": {
    "id": "bl3AKmzrS9Ea"
   },
   "source": [
    "# **Estimation of water quality in Hong Kong using Sentinel-2 images in GEE and artificial neural network (ANN) in Google Colab environment**\n",
    "\n",
    "This is the second part of python codes used in the article. The codes are tested inside Google Colab environment using Hong Kong water as the study area."
   ]
  },
  {
   "cell_type": "markdown",
   "metadata": {
    "id": "5S6-DoMKTCdf"
   },
   "source": [
    "**Import required libraries & Initialize Google Earth Engine session**"
   ]
  },
  {
   "cell_type": "code",
   "execution_count": 2,
   "metadata": {
    "id": "-YTf5EwSJAbR"
   },
   "outputs": [],
   "source": [
    "import ee\n",
    "import numpy as np\n",
    "import pandas as pd\n",
    "from datetime import datetime\n",
    "from sklearn.metrics import r2_score, mean_squared_error, mean_absolute_error, root_mean_squared_error\n",
    "from sklearn.neural_network import MLPRegressor\n",
    "from sklearn.model_selection import GridSearchCV, TimeSeriesSplit\n",
    "from sklearn.preprocessing import StandardScaler\n",
    "ee.Authenticate()\n",
    "ee.Initialize()"
   ]
  },
  {
   "cell_type": "markdown",
   "metadata": {
    "id": "270h9bUtTImO"
   },
   "source": [
    "# Step 1 - Match image data & in-situ station data\n",
    "\n",
    "Sun glint correction & water mask are performed to each image in this step"
   ]
  },
  {
   "cell_type": "code",
   "execution_count": null,
   "metadata": {},
   "outputs": [],
   "source": [
    "df_url = pd.read_csv(\"https://raw.githubusercontent.com/ivanhykwong/Marine-Water-Quality-Time-Series-HK/main/MarineQuality_2015-2020.csv\")\n",
    "df_url[\"Chlorophyll-a\"].max()"
   ]
  },
  {
   "cell_type": "code",
   "execution_count": 7,
   "metadata": {
    "id": "ZZtgGOLYdssE"
   },
   "outputs": [
    {
     "name": "stdout",
     "output_type": "stream",
     "text": [
      "2015-10-23\n",
      "(54, 43)\n",
      "2015-11-22\n",
      "(62, 43)\n",
      "2016-01-01\n",
      "(73, 43)\n",
      "2016-05-30\n",
      "(31, 43)\n",
      "2016-06-19\n",
      "(56, 43)\n",
      "2016-07-29\n",
      "(42, 43)\n",
      "2016-09-17\n",
      "(71, 43)\n",
      "2016-09-27\n",
      "(70, 43)\n",
      "2016-10-27\n",
      "(46, 43)\n",
      "2016-12-16\n",
      "(74, 43)\n",
      "2016-12-26\n",
      "(59, 43)\n",
      "2017-01-25\n",
      "(76, 43)\n",
      "2017-02-04\n",
      "(74, 43)\n",
      "2017-02-14\n",
      "(72, 43)\n",
      "2017-07-09\n",
      "(44, 43)\n",
      "2017-07-29\n",
      "(22, 43)\n",
      "2017-08-13\n",
      "(35, 43)\n",
      "2017-08-18\n",
      "(45, 43)\n",
      "2017-09-12\n",
      "(48, 43)\n",
      "2017-09-17\n",
      "(70, 43)\n",
      "2017-09-27\n",
      "(68, 43)\n",
      "2017-10-02\n",
      "(43, 43)\n",
      "2017-10-12\n",
      "(69, 43)\n",
      "2017-10-22\n",
      "(76, 43)\n",
      "2017-10-27\n",
      "(75, 43)\n",
      "2017-11-01\n",
      "(76, 43)\n",
      "2017-11-16\n",
      "(55, 43)\n",
      "2017-12-06\n",
      "(76, 43)\n",
      "2017-12-11\n",
      "(76, 43)\n",
      "2017-12-21\n",
      "(71, 43)\n",
      "2017-12-31\n",
      "(76, 43)\n",
      "2018-01-15\n",
      "(74, 43)\n",
      "2018-03-11\n",
      "(49, 43)\n",
      "2018-03-16\n",
      "(72, 43)\n",
      "2018-03-21\n",
      "(34, 43)\n",
      "2018-03-31\n",
      "(33, 43)\n",
      "2018-04-05\n",
      "(22, 43)\n",
      "2018-04-10\n",
      "(30, 43)\n",
      "2018-05-15\n",
      "(22, 43)\n",
      "2018-05-20\n",
      "(39, 43)\n",
      "2018-05-25\n",
      "(17, 43)\n",
      "2018-05-30\n",
      "(50, 43)\n",
      "2018-07-29\n",
      "(48, 43)\n",
      "2018-08-08\n",
      "(20, 43)\n",
      "2018-10-02\n",
      "(68, 43)\n",
      "2018-10-07\n",
      "(68, 43)\n",
      "2018-10-22\n",
      "(41, 43)\n",
      "2018-11-06\n",
      "(73, 43)\n",
      "2018-11-21\n",
      "(72, 43)\n",
      "2018-12-21\n",
      "(56, 43)\n",
      "2018-12-26\n",
      "(75, 43)\n",
      "2019-01-25\n",
      "(76, 43)\n",
      "2019-04-05\n",
      "(40, 43)\n",
      "2019-04-25\n",
      "(15, 43)\n",
      "2019-06-14\n",
      "(24, 43)\n",
      "2019-08-08\n",
      "(30, 43)\n",
      "2019-08-13\n",
      "(37, 43)\n",
      "2019-09-07\n",
      "(68, 43)\n",
      "2019-09-17\n",
      "(28, 43)\n",
      "2019-09-22\n",
      "(72, 43)\n",
      "2019-09-27\n",
      "(50, 43)\n",
      "2019-10-02\n",
      "(74, 43)\n",
      "2019-10-12\n",
      "(47, 43)\n",
      "2019-10-17\n",
      "(76, 43)\n",
      "2019-10-22\n",
      "(44, 43)\n",
      "2019-11-01\n",
      "(67, 43)\n",
      "2019-11-11\n",
      "(76, 43)\n",
      "2019-11-16\n",
      "(36, 43)\n",
      "2019-11-21\n",
      "(76, 43)\n",
      "2019-12-01\n",
      "(76, 43)\n",
      "2019-12-11\n",
      "(76, 43)\n",
      "2019-12-26\n",
      "(76, 43)\n",
      "2020-01-05\n",
      "(50, 43)\n",
      "2020-01-30\n",
      "(76, 43)\n",
      "2020-03-15\n",
      "(44, 43)\n",
      "2020-04-09\n",
      "(58, 43)\n",
      "2020-04-19\n",
      "(18, 43)\n",
      "2020-04-29\n",
      "(49, 43)\n",
      "2020-05-04\n",
      "(11, 43)\n",
      "2020-06-18\n",
      "(36, 43)\n",
      "2020-06-28\n",
      "(47, 43)\n",
      "2020-07-13\n",
      "(48, 43)\n",
      "2020-07-23\n",
      "(54, 43)\n",
      "2020-07-28\n",
      "(52, 43)\n",
      "2020-08-22\n",
      "(51, 43)\n",
      "2020-09-01\n",
      "(49, 43)\n",
      "2020-10-11\n"
     ]
    },
    {
     "ename": "KeyboardInterrupt",
     "evalue": "",
     "output_type": "error",
     "traceback": [
      "\u001b[0;31m---------------------------------------------------------------------------\u001b[0m",
      "\u001b[0;31mKeyboardInterrupt\u001b[0m                         Traceback (most recent call last)",
      "Cell \u001b[0;32mIn[7], line 57\u001b[0m\n\u001b[1;32m     55\u001b[0m pt1_buf \u001b[39m=\u001b[39m pt1\u001b[39m.\u001b[39mbuffer(\u001b[39m20\u001b[39m)\n\u001b[1;32m     56\u001b[0m s2_dict \u001b[39m=\u001b[39m d1\u001b[39m.\u001b[39mreduceRegion(ee\u001b[39m.\u001b[39mReducer\u001b[39m.\u001b[39mmean(), pt1_buf\u001b[39m.\u001b[39mgeometry())\u001b[39m.\u001b[39mgetInfo()\n\u001b[0;32m---> 57\u001b[0m n \u001b[39m=\u001b[39m pt1_buf\u001b[39m.\u001b[39;49mgetInfo()[\u001b[39m'\u001b[39m\u001b[39mproperties\u001b[39m\u001b[39m'\u001b[39m][\u001b[39m'\u001b[39m\u001b[39mWaterStati\u001b[39m\u001b[39m'\u001b[39m]\n\u001b[1;32m     58\u001b[0m \u001b[39mfor\u001b[39;00m b \u001b[39min\u001b[39;00m [\u001b[39m'\u001b[39m\u001b[39mB1\u001b[39m\u001b[39m'\u001b[39m,\u001b[39m'\u001b[39m\u001b[39mB2\u001b[39m\u001b[39m'\u001b[39m,\u001b[39m'\u001b[39m\u001b[39mB3\u001b[39m\u001b[39m'\u001b[39m,\u001b[39m'\u001b[39m\u001b[39mB4\u001b[39m\u001b[39m'\u001b[39m,\u001b[39m'\u001b[39m\u001b[39mB5\u001b[39m\u001b[39m'\u001b[39m,\u001b[39m'\u001b[39m\u001b[39mB6\u001b[39m\u001b[39m'\u001b[39m,\u001b[39m'\u001b[39m\u001b[39mB7\u001b[39m\u001b[39m'\u001b[39m,\u001b[39m'\u001b[39m\u001b[39mB8\u001b[39m\u001b[39m'\u001b[39m,\u001b[39m'\u001b[39m\u001b[39mB8A\u001b[39m\u001b[39m'\u001b[39m,\u001b[39m'\u001b[39m\u001b[39mB11\u001b[39m\u001b[39m'\u001b[39m,\u001b[39m'\u001b[39m\u001b[39mB12\u001b[39m\u001b[39m'\u001b[39m]:\n\u001b[1;32m     59\u001b[0m   df\u001b[39m.\u001b[39mloc[df[\u001b[39m'\u001b[39m\u001b[39mStation\u001b[39m\u001b[39m'\u001b[39m] \u001b[39m==\u001b[39m n, b] \u001b[39m=\u001b[39m s2_dict[b]\n",
      "File \u001b[0;32m~/.local/lib/python3.10/site-packages/ee/computedobject.py:107\u001b[0m, in \u001b[0;36mComputedObject.getInfo\u001b[0;34m(self)\u001b[0m\n\u001b[1;32m    101\u001b[0m \u001b[39mdef\u001b[39;00m \u001b[39mgetInfo\u001b[39m(\u001b[39mself\u001b[39m) \u001b[39m-\u001b[39m\u001b[39m>\u001b[39m Optional[Any]:\n\u001b[1;32m    102\u001b[0m \u001b[39m  \u001b[39m\u001b[39m\"\"\"Fetch and return information about this object.\u001b[39;00m\n\u001b[1;32m    103\u001b[0m \n\u001b[1;32m    104\u001b[0m \u001b[39m  Returns:\u001b[39;00m\n\u001b[1;32m    105\u001b[0m \u001b[39m    The object can evaluate to anything.\u001b[39;00m\n\u001b[1;32m    106\u001b[0m \u001b[39m  \"\"\"\u001b[39;00m\n\u001b[0;32m--> 107\u001b[0m   \u001b[39mreturn\u001b[39;00m data\u001b[39m.\u001b[39;49mcomputeValue(\u001b[39mself\u001b[39;49m)\n",
      "File \u001b[0;32m~/.local/lib/python3.10/site-packages/ee/data.py:1108\u001b[0m, in \u001b[0;36mcomputeValue\u001b[0;34m(obj)\u001b[0m\n\u001b[1;32m   1105\u001b[0m body \u001b[39m=\u001b[39m {\u001b[39m'\u001b[39m\u001b[39mexpression\u001b[39m\u001b[39m'\u001b[39m: serializer\u001b[39m.\u001b[39mencode(obj, for_cloud_api\u001b[39m=\u001b[39m\u001b[39mTrue\u001b[39;00m)}\n\u001b[1;32m   1106\u001b[0m _maybe_populate_workload_tag(body)\n\u001b[0;32m-> 1108\u001b[0m \u001b[39mreturn\u001b[39;00m _execute_cloud_call(\n\u001b[1;32m   1109\u001b[0m     _get_cloud_projects()\n\u001b[1;32m   1110\u001b[0m     \u001b[39m.\u001b[39;49mvalue()\n\u001b[1;32m   1111\u001b[0m     \u001b[39m.\u001b[39;49mcompute(body\u001b[39m=\u001b[39;49mbody, project\u001b[39m=\u001b[39;49m_get_projects_path(), prettyPrint\u001b[39m=\u001b[39;49m\u001b[39mFalse\u001b[39;49;00m)\n\u001b[1;32m   1112\u001b[0m )[\u001b[39m'\u001b[39m\u001b[39mresult\u001b[39m\u001b[39m'\u001b[39m]\n",
      "File \u001b[0;32m~/.local/lib/python3.10/site-packages/ee/data.py:402\u001b[0m, in \u001b[0;36m_execute_cloud_call\u001b[0;34m(call, num_retries)\u001b[0m\n\u001b[1;32m    388\u001b[0m \u001b[39m\u001b[39m\u001b[39m\"\"\"Executes a Cloud API call and translates errors to EEExceptions.\u001b[39;00m\n\u001b[1;32m    389\u001b[0m \n\u001b[1;32m    390\u001b[0m \u001b[39mArgs:\u001b[39;00m\n\u001b[0;32m   (...)\u001b[0m\n\u001b[1;32m    399\u001b[0m \u001b[39m  EEException if the call fails.\u001b[39;00m\n\u001b[1;32m    400\u001b[0m \u001b[39m\"\"\"\u001b[39;00m\n\u001b[1;32m    401\u001b[0m \u001b[39mtry\u001b[39;00m:\n\u001b[0;32m--> 402\u001b[0m   \u001b[39mreturn\u001b[39;00m call\u001b[39m.\u001b[39;49mexecute(num_retries\u001b[39m=\u001b[39;49mnum_retries)\n\u001b[1;32m    403\u001b[0m \u001b[39mexcept\u001b[39;00m googleapiclient\u001b[39m.\u001b[39merrors\u001b[39m.\u001b[39mHttpError \u001b[39mas\u001b[39;00m e:\n\u001b[1;32m    404\u001b[0m   \u001b[39mraise\u001b[39;00m _translate_cloud_exception(e)\n",
      "File \u001b[0;32m~/.local/lib/python3.10/site-packages/googleapiclient/_helpers.py:130\u001b[0m, in \u001b[0;36mpositional.<locals>.positional_decorator.<locals>.positional_wrapper\u001b[0;34m(*args, **kwargs)\u001b[0m\n\u001b[1;32m    128\u001b[0m     \u001b[39melif\u001b[39;00m positional_parameters_enforcement \u001b[39m==\u001b[39m POSITIONAL_WARNING:\n\u001b[1;32m    129\u001b[0m         logger\u001b[39m.\u001b[39mwarning(message)\n\u001b[0;32m--> 130\u001b[0m \u001b[39mreturn\u001b[39;00m wrapped(\u001b[39m*\u001b[39;49margs, \u001b[39m*\u001b[39;49m\u001b[39m*\u001b[39;49mkwargs)\n",
      "File \u001b[0;32m~/.local/lib/python3.10/site-packages/googleapiclient/http.py:923\u001b[0m, in \u001b[0;36mHttpRequest.execute\u001b[0;34m(self, http, num_retries)\u001b[0m\n\u001b[1;32m    920\u001b[0m     \u001b[39mself\u001b[39m\u001b[39m.\u001b[39mheaders[\u001b[39m\"\u001b[39m\u001b[39mcontent-length\u001b[39m\u001b[39m\"\u001b[39m] \u001b[39m=\u001b[39m \u001b[39mstr\u001b[39m(\u001b[39mlen\u001b[39m(\u001b[39mself\u001b[39m\u001b[39m.\u001b[39mbody))\n\u001b[1;32m    922\u001b[0m \u001b[39m# Handle retries for server-side errors.\u001b[39;00m\n\u001b[0;32m--> 923\u001b[0m resp, content \u001b[39m=\u001b[39m _retry_request(\n\u001b[1;32m    924\u001b[0m     http,\n\u001b[1;32m    925\u001b[0m     num_retries,\n\u001b[1;32m    926\u001b[0m     \u001b[39m\"\u001b[39;49m\u001b[39mrequest\u001b[39;49m\u001b[39m\"\u001b[39;49m,\n\u001b[1;32m    927\u001b[0m     \u001b[39mself\u001b[39;49m\u001b[39m.\u001b[39;49m_sleep,\n\u001b[1;32m    928\u001b[0m     \u001b[39mself\u001b[39;49m\u001b[39m.\u001b[39;49m_rand,\n\u001b[1;32m    929\u001b[0m     \u001b[39mstr\u001b[39;49m(\u001b[39mself\u001b[39;49m\u001b[39m.\u001b[39;49muri),\n\u001b[1;32m    930\u001b[0m     method\u001b[39m=\u001b[39;49m\u001b[39mstr\u001b[39;49m(\u001b[39mself\u001b[39;49m\u001b[39m.\u001b[39;49mmethod),\n\u001b[1;32m    931\u001b[0m     body\u001b[39m=\u001b[39;49m\u001b[39mself\u001b[39;49m\u001b[39m.\u001b[39;49mbody,\n\u001b[1;32m    932\u001b[0m     headers\u001b[39m=\u001b[39;49m\u001b[39mself\u001b[39;49m\u001b[39m.\u001b[39;49mheaders,\n\u001b[1;32m    933\u001b[0m )\n\u001b[1;32m    935\u001b[0m \u001b[39mfor\u001b[39;00m callback \u001b[39min\u001b[39;00m \u001b[39mself\u001b[39m\u001b[39m.\u001b[39mresponse_callbacks:\n\u001b[1;32m    936\u001b[0m     callback(resp)\n",
      "File \u001b[0;32m~/.local/lib/python3.10/site-packages/googleapiclient/http.py:191\u001b[0m, in \u001b[0;36m_retry_request\u001b[0;34m(http, num_retries, req_type, sleep, rand, uri, method, *args, **kwargs)\u001b[0m\n\u001b[1;32m    189\u001b[0m \u001b[39mtry\u001b[39;00m:\n\u001b[1;32m    190\u001b[0m     exception \u001b[39m=\u001b[39m \u001b[39mNone\u001b[39;00m\n\u001b[0;32m--> 191\u001b[0m     resp, content \u001b[39m=\u001b[39m http\u001b[39m.\u001b[39;49mrequest(uri, method, \u001b[39m*\u001b[39;49margs, \u001b[39m*\u001b[39;49m\u001b[39m*\u001b[39;49mkwargs)\n\u001b[1;32m    192\u001b[0m \u001b[39m# Retry on SSL errors and socket timeout errors.\u001b[39;00m\n\u001b[1;32m    193\u001b[0m \u001b[39mexcept\u001b[39;00m _ssl_SSLError \u001b[39mas\u001b[39;00m ssl_error:\n",
      "File \u001b[0;32m~/.local/lib/python3.10/site-packages/google_auth_httplib2.py:218\u001b[0m, in \u001b[0;36mAuthorizedHttp.request\u001b[0;34m(self, uri, method, body, headers, redirections, connection_type, **kwargs)\u001b[0m\n\u001b[1;32m    215\u001b[0m     body_stream_position \u001b[39m=\u001b[39m body\u001b[39m.\u001b[39mtell()\n\u001b[1;32m    217\u001b[0m \u001b[39m# Make the request.\u001b[39;00m\n\u001b[0;32m--> 218\u001b[0m response, content \u001b[39m=\u001b[39m \u001b[39mself\u001b[39;49m\u001b[39m.\u001b[39;49mhttp\u001b[39m.\u001b[39;49mrequest(\n\u001b[1;32m    219\u001b[0m     uri,\n\u001b[1;32m    220\u001b[0m     method,\n\u001b[1;32m    221\u001b[0m     body\u001b[39m=\u001b[39;49mbody,\n\u001b[1;32m    222\u001b[0m     headers\u001b[39m=\u001b[39;49mrequest_headers,\n\u001b[1;32m    223\u001b[0m     redirections\u001b[39m=\u001b[39;49mredirections,\n\u001b[1;32m    224\u001b[0m     connection_type\u001b[39m=\u001b[39;49mconnection_type,\n\u001b[1;32m    225\u001b[0m     \u001b[39m*\u001b[39;49m\u001b[39m*\u001b[39;49mkwargs\n\u001b[1;32m    226\u001b[0m )\n\u001b[1;32m    228\u001b[0m \u001b[39m# If the response indicated that the credentials needed to be\u001b[39;00m\n\u001b[1;32m    229\u001b[0m \u001b[39m# refreshed, then refresh the credentials and re-attempt the\u001b[39;00m\n\u001b[1;32m    230\u001b[0m \u001b[39m# request.\u001b[39;00m\n\u001b[1;32m    231\u001b[0m \u001b[39m# A stored token may expire between the time it is retrieved and\u001b[39;00m\n\u001b[1;32m    232\u001b[0m \u001b[39m# the time the request is made, so we may need to try twice.\u001b[39;00m\n\u001b[1;32m    233\u001b[0m \u001b[39mif\u001b[39;00m (\n\u001b[1;32m    234\u001b[0m     response\u001b[39m.\u001b[39mstatus \u001b[39min\u001b[39;00m \u001b[39mself\u001b[39m\u001b[39m.\u001b[39m_refresh_status_codes\n\u001b[1;32m    235\u001b[0m     \u001b[39mand\u001b[39;00m _credential_refresh_attempt \u001b[39m<\u001b[39m \u001b[39mself\u001b[39m\u001b[39m.\u001b[39m_max_refresh_attempts\n\u001b[1;32m    236\u001b[0m ):\n",
      "File \u001b[0;32m~/.local/lib/python3.10/site-packages/ee/_cloud_api_utils.py:70\u001b[0m, in \u001b[0;36m_Http.request\u001b[0;34m(***failed resolving arguments***)\u001b[0m\n\u001b[1;32m     63\u001b[0m \u001b[39mdel\u001b[39;00m redirections  \u001b[39m# Ignored\u001b[39;00m\n\u001b[1;32m     65\u001b[0m \u001b[39mtry\u001b[39;00m:\n\u001b[1;32m     66\u001b[0m   \u001b[39m# googleapiclient is expecting an httplib2 object, and doesn't include\u001b[39;00m\n\u001b[1;32m     67\u001b[0m   \u001b[39m# requests error in the list of transient errors. Therefore, transient\u001b[39;00m\n\u001b[1;32m     68\u001b[0m   \u001b[39m# requests errors should be converted to kinds that googleapiclient\u001b[39;00m\n\u001b[1;32m     69\u001b[0m   \u001b[39m# consider transient.\u001b[39;00m\n\u001b[0;32m---> 70\u001b[0m   response \u001b[39m=\u001b[39m \u001b[39mself\u001b[39;49m\u001b[39m.\u001b[39;49m_session\u001b[39m.\u001b[39;49mrequest(\n\u001b[1;32m     71\u001b[0m       method, uri, data\u001b[39m=\u001b[39;49mbody, headers\u001b[39m=\u001b[39;49mheaders, timeout\u001b[39m=\u001b[39;49m\u001b[39mself\u001b[39;49m\u001b[39m.\u001b[39;49m_timeout\n\u001b[1;32m     72\u001b[0m   )\n\u001b[1;32m     73\u001b[0m \u001b[39mexcept\u001b[39;00m requests\u001b[39m.\u001b[39mexceptions\u001b[39m.\u001b[39mConnectionError \u001b[39mas\u001b[39;00m connection_error:\n\u001b[1;32m     74\u001b[0m   \u001b[39mraise\u001b[39;00m \u001b[39mConnectionError\u001b[39;00m(connection_error) \u001b[39mfrom\u001b[39;00m \u001b[39mconnection_error\u001b[39;00m\n",
      "File \u001b[0;32m~/.local/lib/python3.10/site-packages/requests/sessions.py:589\u001b[0m, in \u001b[0;36mSession.request\u001b[0;34m(self, method, url, params, data, headers, cookies, files, auth, timeout, allow_redirects, proxies, hooks, stream, verify, cert, json)\u001b[0m\n\u001b[1;32m    584\u001b[0m send_kwargs \u001b[39m=\u001b[39m {\n\u001b[1;32m    585\u001b[0m     \u001b[39m\"\u001b[39m\u001b[39mtimeout\u001b[39m\u001b[39m\"\u001b[39m: timeout,\n\u001b[1;32m    586\u001b[0m     \u001b[39m\"\u001b[39m\u001b[39mallow_redirects\u001b[39m\u001b[39m\"\u001b[39m: allow_redirects,\n\u001b[1;32m    587\u001b[0m }\n\u001b[1;32m    588\u001b[0m send_kwargs\u001b[39m.\u001b[39mupdate(settings)\n\u001b[0;32m--> 589\u001b[0m resp \u001b[39m=\u001b[39m \u001b[39mself\u001b[39;49m\u001b[39m.\u001b[39;49msend(prep, \u001b[39m*\u001b[39;49m\u001b[39m*\u001b[39;49msend_kwargs)\n\u001b[1;32m    591\u001b[0m \u001b[39mreturn\u001b[39;00m resp\n",
      "File \u001b[0;32m~/.local/lib/python3.10/site-packages/requests/sessions.py:703\u001b[0m, in \u001b[0;36mSession.send\u001b[0;34m(self, request, **kwargs)\u001b[0m\n\u001b[1;32m    700\u001b[0m start \u001b[39m=\u001b[39m preferred_clock()\n\u001b[1;32m    702\u001b[0m \u001b[39m# Send the request\u001b[39;00m\n\u001b[0;32m--> 703\u001b[0m r \u001b[39m=\u001b[39m adapter\u001b[39m.\u001b[39;49msend(request, \u001b[39m*\u001b[39;49m\u001b[39m*\u001b[39;49mkwargs)\n\u001b[1;32m    705\u001b[0m \u001b[39m# Total elapsed time of the request (approximately)\u001b[39;00m\n\u001b[1;32m    706\u001b[0m elapsed \u001b[39m=\u001b[39m preferred_clock() \u001b[39m-\u001b[39m start\n",
      "File \u001b[0;32m~/.local/lib/python3.10/site-packages/requests/adapters.py:486\u001b[0m, in \u001b[0;36mHTTPAdapter.send\u001b[0;34m(self, request, stream, timeout, verify, cert, proxies)\u001b[0m\n\u001b[1;32m    483\u001b[0m     timeout \u001b[39m=\u001b[39m TimeoutSauce(connect\u001b[39m=\u001b[39mtimeout, read\u001b[39m=\u001b[39mtimeout)\n\u001b[1;32m    485\u001b[0m \u001b[39mtry\u001b[39;00m:\n\u001b[0;32m--> 486\u001b[0m     resp \u001b[39m=\u001b[39m conn\u001b[39m.\u001b[39;49murlopen(\n\u001b[1;32m    487\u001b[0m         method\u001b[39m=\u001b[39;49mrequest\u001b[39m.\u001b[39;49mmethod,\n\u001b[1;32m    488\u001b[0m         url\u001b[39m=\u001b[39;49murl,\n\u001b[1;32m    489\u001b[0m         body\u001b[39m=\u001b[39;49mrequest\u001b[39m.\u001b[39;49mbody,\n\u001b[1;32m    490\u001b[0m         headers\u001b[39m=\u001b[39;49mrequest\u001b[39m.\u001b[39;49mheaders,\n\u001b[1;32m    491\u001b[0m         redirect\u001b[39m=\u001b[39;49m\u001b[39mFalse\u001b[39;49;00m,\n\u001b[1;32m    492\u001b[0m         assert_same_host\u001b[39m=\u001b[39;49m\u001b[39mFalse\u001b[39;49;00m,\n\u001b[1;32m    493\u001b[0m         preload_content\u001b[39m=\u001b[39;49m\u001b[39mFalse\u001b[39;49;00m,\n\u001b[1;32m    494\u001b[0m         decode_content\u001b[39m=\u001b[39;49m\u001b[39mFalse\u001b[39;49;00m,\n\u001b[1;32m    495\u001b[0m         retries\u001b[39m=\u001b[39;49m\u001b[39mself\u001b[39;49m\u001b[39m.\u001b[39;49mmax_retries,\n\u001b[1;32m    496\u001b[0m         timeout\u001b[39m=\u001b[39;49mtimeout,\n\u001b[1;32m    497\u001b[0m         chunked\u001b[39m=\u001b[39;49mchunked,\n\u001b[1;32m    498\u001b[0m     )\n\u001b[1;32m    500\u001b[0m \u001b[39mexcept\u001b[39;00m (ProtocolError, \u001b[39mOSError\u001b[39;00m) \u001b[39mas\u001b[39;00m err:\n\u001b[1;32m    501\u001b[0m     \u001b[39mraise\u001b[39;00m \u001b[39mConnectionError\u001b[39;00m(err, request\u001b[39m=\u001b[39mrequest)\n",
      "File \u001b[0;32m~/.local/lib/python3.10/site-packages/urllib3/connectionpool.py:790\u001b[0m, in \u001b[0;36mHTTPConnectionPool.urlopen\u001b[0;34m(self, method, url, body, headers, retries, redirect, assert_same_host, timeout, pool_timeout, release_conn, chunked, body_pos, preload_content, decode_content, **response_kw)\u001b[0m\n\u001b[1;32m    787\u001b[0m response_conn \u001b[39m=\u001b[39m conn \u001b[39mif\u001b[39;00m \u001b[39mnot\u001b[39;00m release_conn \u001b[39melse\u001b[39;00m \u001b[39mNone\u001b[39;00m\n\u001b[1;32m    789\u001b[0m \u001b[39m# Make the request on the HTTPConnection object\u001b[39;00m\n\u001b[0;32m--> 790\u001b[0m response \u001b[39m=\u001b[39m \u001b[39mself\u001b[39;49m\u001b[39m.\u001b[39;49m_make_request(\n\u001b[1;32m    791\u001b[0m     conn,\n\u001b[1;32m    792\u001b[0m     method,\n\u001b[1;32m    793\u001b[0m     url,\n\u001b[1;32m    794\u001b[0m     timeout\u001b[39m=\u001b[39;49mtimeout_obj,\n\u001b[1;32m    795\u001b[0m     body\u001b[39m=\u001b[39;49mbody,\n\u001b[1;32m    796\u001b[0m     headers\u001b[39m=\u001b[39;49mheaders,\n\u001b[1;32m    797\u001b[0m     chunked\u001b[39m=\u001b[39;49mchunked,\n\u001b[1;32m    798\u001b[0m     retries\u001b[39m=\u001b[39;49mretries,\n\u001b[1;32m    799\u001b[0m     response_conn\u001b[39m=\u001b[39;49mresponse_conn,\n\u001b[1;32m    800\u001b[0m     preload_content\u001b[39m=\u001b[39;49mpreload_content,\n\u001b[1;32m    801\u001b[0m     decode_content\u001b[39m=\u001b[39;49mdecode_content,\n\u001b[1;32m    802\u001b[0m     \u001b[39m*\u001b[39;49m\u001b[39m*\u001b[39;49mresponse_kw,\n\u001b[1;32m    803\u001b[0m )\n\u001b[1;32m    805\u001b[0m \u001b[39m# Everything went great!\u001b[39;00m\n\u001b[1;32m    806\u001b[0m clean_exit \u001b[39m=\u001b[39m \u001b[39mTrue\u001b[39;00m\n",
      "File \u001b[0;32m~/.local/lib/python3.10/site-packages/urllib3/connectionpool.py:536\u001b[0m, in \u001b[0;36mHTTPConnectionPool._make_request\u001b[0;34m(self, conn, method, url, body, headers, retries, timeout, chunked, response_conn, preload_content, decode_content, enforce_content_length)\u001b[0m\n\u001b[1;32m    534\u001b[0m \u001b[39m# Receive the response from the server\u001b[39;00m\n\u001b[1;32m    535\u001b[0m \u001b[39mtry\u001b[39;00m:\n\u001b[0;32m--> 536\u001b[0m     response \u001b[39m=\u001b[39m conn\u001b[39m.\u001b[39;49mgetresponse()\n\u001b[1;32m    537\u001b[0m \u001b[39mexcept\u001b[39;00m (BaseSSLError, \u001b[39mOSError\u001b[39;00m) \u001b[39mas\u001b[39;00m e:\n\u001b[1;32m    538\u001b[0m     \u001b[39mself\u001b[39m\u001b[39m.\u001b[39m_raise_timeout(err\u001b[39m=\u001b[39me, url\u001b[39m=\u001b[39murl, timeout_value\u001b[39m=\u001b[39mread_timeout)\n",
      "File \u001b[0;32m~/.local/lib/python3.10/site-packages/urllib3/connection.py:461\u001b[0m, in \u001b[0;36mHTTPConnection.getresponse\u001b[0;34m(self)\u001b[0m\n\u001b[1;32m    458\u001b[0m \u001b[39mfrom\u001b[39;00m \u001b[39m.\u001b[39;00m\u001b[39mresponse\u001b[39;00m \u001b[39mimport\u001b[39;00m HTTPResponse\n\u001b[1;32m    460\u001b[0m \u001b[39m# Get the response from http.client.HTTPConnection\u001b[39;00m\n\u001b[0;32m--> 461\u001b[0m httplib_response \u001b[39m=\u001b[39m \u001b[39msuper\u001b[39;49m()\u001b[39m.\u001b[39;49mgetresponse()\n\u001b[1;32m    463\u001b[0m \u001b[39mtry\u001b[39;00m:\n\u001b[1;32m    464\u001b[0m     assert_header_parsing(httplib_response\u001b[39m.\u001b[39mmsg)\n",
      "File \u001b[0;32m/usr/lib/python3.10/http/client.py:1375\u001b[0m, in \u001b[0;36mHTTPConnection.getresponse\u001b[0;34m(self)\u001b[0m\n\u001b[1;32m   1373\u001b[0m \u001b[39mtry\u001b[39;00m:\n\u001b[1;32m   1374\u001b[0m     \u001b[39mtry\u001b[39;00m:\n\u001b[0;32m-> 1375\u001b[0m         response\u001b[39m.\u001b[39;49mbegin()\n\u001b[1;32m   1376\u001b[0m     \u001b[39mexcept\u001b[39;00m \u001b[39mConnectionError\u001b[39;00m:\n\u001b[1;32m   1377\u001b[0m         \u001b[39mself\u001b[39m\u001b[39m.\u001b[39mclose()\n",
      "File \u001b[0;32m/usr/lib/python3.10/http/client.py:318\u001b[0m, in \u001b[0;36mHTTPResponse.begin\u001b[0;34m(self)\u001b[0m\n\u001b[1;32m    316\u001b[0m \u001b[39m# read until we get a non-100 response\u001b[39;00m\n\u001b[1;32m    317\u001b[0m \u001b[39mwhile\u001b[39;00m \u001b[39mTrue\u001b[39;00m:\n\u001b[0;32m--> 318\u001b[0m     version, status, reason \u001b[39m=\u001b[39m \u001b[39mself\u001b[39;49m\u001b[39m.\u001b[39;49m_read_status()\n\u001b[1;32m    319\u001b[0m     \u001b[39mif\u001b[39;00m status \u001b[39m!=\u001b[39m CONTINUE:\n\u001b[1;32m    320\u001b[0m         \u001b[39mbreak\u001b[39;00m\n",
      "File \u001b[0;32m/usr/lib/python3.10/http/client.py:279\u001b[0m, in \u001b[0;36mHTTPResponse._read_status\u001b[0;34m(self)\u001b[0m\n\u001b[1;32m    278\u001b[0m \u001b[39mdef\u001b[39;00m \u001b[39m_read_status\u001b[39m(\u001b[39mself\u001b[39m):\n\u001b[0;32m--> 279\u001b[0m     line \u001b[39m=\u001b[39m \u001b[39mstr\u001b[39m(\u001b[39mself\u001b[39;49m\u001b[39m.\u001b[39;49mfp\u001b[39m.\u001b[39;49mreadline(_MAXLINE \u001b[39m+\u001b[39;49m \u001b[39m1\u001b[39;49m), \u001b[39m\"\u001b[39m\u001b[39miso-8859-1\u001b[39m\u001b[39m\"\u001b[39m)\n\u001b[1;32m    280\u001b[0m     \u001b[39mif\u001b[39;00m \u001b[39mlen\u001b[39m(line) \u001b[39m>\u001b[39m _MAXLINE:\n\u001b[1;32m    281\u001b[0m         \u001b[39mraise\u001b[39;00m LineTooLong(\u001b[39m\"\u001b[39m\u001b[39mstatus line\u001b[39m\u001b[39m\"\u001b[39m)\n",
      "File \u001b[0;32m/usr/lib/python3.10/socket.py:705\u001b[0m, in \u001b[0;36mSocketIO.readinto\u001b[0;34m(self, b)\u001b[0m\n\u001b[1;32m    703\u001b[0m \u001b[39mwhile\u001b[39;00m \u001b[39mTrue\u001b[39;00m:\n\u001b[1;32m    704\u001b[0m     \u001b[39mtry\u001b[39;00m:\n\u001b[0;32m--> 705\u001b[0m         \u001b[39mreturn\u001b[39;00m \u001b[39mself\u001b[39;49m\u001b[39m.\u001b[39;49m_sock\u001b[39m.\u001b[39;49mrecv_into(b)\n\u001b[1;32m    706\u001b[0m     \u001b[39mexcept\u001b[39;00m timeout:\n\u001b[1;32m    707\u001b[0m         \u001b[39mself\u001b[39m\u001b[39m.\u001b[39m_timeout_occurred \u001b[39m=\u001b[39m \u001b[39mTrue\u001b[39;00m\n",
      "File \u001b[0;32m/usr/lib/python3.10/ssl.py:1303\u001b[0m, in \u001b[0;36mSSLSocket.recv_into\u001b[0;34m(self, buffer, nbytes, flags)\u001b[0m\n\u001b[1;32m   1299\u001b[0m     \u001b[39mif\u001b[39;00m flags \u001b[39m!=\u001b[39m \u001b[39m0\u001b[39m:\n\u001b[1;32m   1300\u001b[0m         \u001b[39mraise\u001b[39;00m \u001b[39mValueError\u001b[39;00m(\n\u001b[1;32m   1301\u001b[0m           \u001b[39m\"\u001b[39m\u001b[39mnon-zero flags not allowed in calls to recv_into() on \u001b[39m\u001b[39m%s\u001b[39;00m\u001b[39m\"\u001b[39m \u001b[39m%\u001b[39m\n\u001b[1;32m   1302\u001b[0m           \u001b[39mself\u001b[39m\u001b[39m.\u001b[39m\u001b[39m__class__\u001b[39m)\n\u001b[0;32m-> 1303\u001b[0m     \u001b[39mreturn\u001b[39;00m \u001b[39mself\u001b[39;49m\u001b[39m.\u001b[39;49mread(nbytes, buffer)\n\u001b[1;32m   1304\u001b[0m \u001b[39melse\u001b[39;00m:\n\u001b[1;32m   1305\u001b[0m     \u001b[39mreturn\u001b[39;00m \u001b[39msuper\u001b[39m()\u001b[39m.\u001b[39mrecv_into(buffer, nbytes, flags)\n",
      "File \u001b[0;32m/usr/lib/python3.10/ssl.py:1159\u001b[0m, in \u001b[0;36mSSLSocket.read\u001b[0;34m(self, len, buffer)\u001b[0m\n\u001b[1;32m   1157\u001b[0m \u001b[39mtry\u001b[39;00m:\n\u001b[1;32m   1158\u001b[0m     \u001b[39mif\u001b[39;00m buffer \u001b[39mis\u001b[39;00m \u001b[39mnot\u001b[39;00m \u001b[39mNone\u001b[39;00m:\n\u001b[0;32m-> 1159\u001b[0m         \u001b[39mreturn\u001b[39;00m \u001b[39mself\u001b[39;49m\u001b[39m.\u001b[39;49m_sslobj\u001b[39m.\u001b[39;49mread(\u001b[39mlen\u001b[39;49m, buffer)\n\u001b[1;32m   1160\u001b[0m     \u001b[39melse\u001b[39;00m:\n\u001b[1;32m   1161\u001b[0m         \u001b[39mreturn\u001b[39;00m \u001b[39mself\u001b[39m\u001b[39m.\u001b[39m_sslobj\u001b[39m.\u001b[39mread(\u001b[39mlen\u001b[39m)\n",
      "\u001b[0;31mKeyboardInterrupt\u001b[0m: "
     ]
    }
   ],
   "source": [
    "# Load image data & in-situ station data\n",
    "assetList = ee.data.getList({'id':\"projects/ee-rsrohinsood/assets/S2_Py6S_mask_m\"})\n",
    "url = 'https://raw.githubusercontent.com/ivanhykwong/Marine-Water-Quality-Time-Series-HK/main/MarineQuality_2015-2020.csv'\n",
    "station_list = ['TM2','TM3','TM4','TM5','TM6','TM7','TM8','SM1','SM2','SM3','SM4','SM5','SM6','SM7','SM9','SM10','SM11',\n",
    "                'SM12','SM13','SM17','SM18','SM19','SM20','PM1','PM2','PM3','PM4','PM6','PM7','PM8','PM9','PM11','JM3',\n",
    "                'JM4','DM1','DM2','DM3','DM4','DM5','NM1','NM2','NM3','NM5','NM6','NM8','MM1','MM2','MM3','MM4','MM5',\n",
    "                'MM6','MM7','MM8','MM13','MM14','MM15','MM16','MM17','MM19','WM1','WM2','WM3','WM4','EM1','EM2','EM3',\n",
    "                'VM1','VM2','VM4','VM5','VM6','VM7','VM8','VM12','VM14','VM15']\n",
    "df_url = pd.read_csv(url)\n",
    "df_url = df_url[df_url['Station'].isin(station_list)]\n",
    "# print(assetList)\n",
    "# print(len(assetList))\n",
    "aoi = ee.Geometry.Polygon([[[113.800, 22.570],[113.800, 22.120],[114.514, 22.120],[114.514, 22.570]]])\n",
    "df_data = pd.DataFrame()\n",
    "\n",
    "pts = ee.FeatureCollection(\"projects/ee-rsrohinsood/assets/MonitoringStation_wgs84_76\")\n",
    "pt_list = pts.toList(pts.size())\n",
    "\n",
    "for i in range(len(assetList)):\n",
    "  # Extract image date\n",
    "  assetid = assetList[i]['id']\n",
    "  # print(assetid)\n",
    "  d1 = ee.Image(assetid)\n",
    "  d1_date = d1.date().format('yyyy-MM-dd')\n",
    "  print(d1_date.getInfo())\n",
    "\n",
    "  # sun glint correction by subtracting half of B11 from all bands\n",
    "  # https://www.mdpi.com/2072-4292/1/4/697/htm\n",
    "  # https://eatlas.org.au/data/uuid/2932dc63-9c9b-465f-80bf-09073aacaf1c\n",
    "  swir_half = d1.select('B11').multiply(0.5)\n",
    "  d1 = d1.subtract(swir_half)\n",
    "\n",
    "  # water mask using MNDWI\n",
    "  green = d1.select('B3')\n",
    "  ndwi = d1.expression('(GREEN - SWIR) / (GREEN + SWIR)', {'GREEN': d1.select('B3'), 'SWIR': d1.select('B11')})\n",
    "  mask = ndwi.gte(0.0).bitwiseAnd(green.gte(0.0)) # MNDWI >= 0\n",
    "  d1 = d1.updateMask(mask)\n",
    "  d1 = ee.Image(d1)\n",
    "\n",
    "  # Find nearest date between image & station data\n",
    "  df = df_url.copy()\n",
    "  df['Dates'] = pd.to_datetime(df['Dates'], format='%Y-%m-%d')\n",
    "  imagedate = datetime.strptime(d1_date.getInfo(), '%Y-%m-%d')\n",
    "  df['Image_date'] = imagedate\n",
    "  df['Date_compare'] = abs(df['Dates'] - imagedate)\n",
    "  df = df.sort_values(by=['Date_compare'])\n",
    "  df = df.drop_duplicates(subset=['Station'])\n",
    "\n",
    "  if imagedate.year > 2020:\n",
    "    continue\n",
    "\n",
    "  df[['B1','B2','B3','B4','B5','B6','B7','B8','B8A','B11','B12']] = np.nan\n",
    "  for pt in range(pt_list.length().getInfo()):\n",
    "    pt1 = ee.Feature(pt_list.get(pt))\n",
    "    pt1_buf = pt1.buffer(20)\n",
    "    s2_dict = d1.reduceRegion(ee.Reducer.mean(), pt1_buf.geometry()).getInfo()\n",
    "    n = pt1_buf.getInfo()['properties']['WaterStati']\n",
    "    for b in ['B1','B2','B3','B4','B5','B6','B7','B8','B8A','B11','B12']:\n",
    "      df.loc[df['Station'] == n, b] = s2_dict[b]\n",
    "  df = df.dropna(subset = ['B2'])\n",
    "  df['n'] = df.shape[0]\n",
    "  print(df.shape)\n",
    "  \n",
    "  df.head()\n",
    "\n",
    "  # Combine all image dates\n",
    "  df_data = pd.concat([df_data, df])\n",
    "\n",
    "# Export tables\n",
    "df_data.to_csv('df_data.csv')"
   ]
  },
  {
   "cell_type": "markdown",
   "metadata": {
    "id": "lCerveSYTTfy"
   },
   "source": [
    "This block is written for inputing csv file as the data, skip this block if the dataframe is already loaded"
   ]
  },
  {
   "cell_type": "code",
   "execution_count": null,
   "metadata": {
    "id": "Iu7U3QGzs3S5"
   },
   "outputs": [],
   "source": [
    "# for inputing csv file as the data, skip this block if the dataframe is already loaded\n",
    "df_data = pd.read_csv('./data/df_data.csv')\n",
    "df_data['Image_date'] = pd.to_datetime(df_data['Image_date'], format='%Y-%m-%d')\n",
    "df_data['Date_compare'] = pd.to_timedelta(df_data['Date_compare'])\n",
    "df_data = df_data.drop(columns=['Unnamed: 0'])"
   ]
  },
  {
   "cell_type": "code",
   "execution_count": null,
   "metadata": {},
   "outputs": [],
   "source": [
    "df.shape()"
   ]
  },
  {
   "cell_type": "markdown",
   "metadata": {
    "id": "YUHga0c3T6QN"
   },
   "source": [
    "# Step 2 - Extract observations & create variables\n",
    "\n",
    "Extract observations with ≤1 day difference; remove outliers & compute band combinations"
   ]
  },
  {
   "cell_type": "code",
   "execution_count": 5,
   "metadata": {
    "id": "-qM8M5UUWB_7"
   },
   "outputs": [
    {
     "data": {
      "text/plain": [
       "53.0"
      ]
     },
     "execution_count": 5,
     "metadata": {},
     "output_type": "execute_result"
    }
   ],
   "source": [
    "# Extract observations with ≤1 day difference\n",
    "\n",
    "max_day_diff = 1\n",
    "\n",
    "df = df_data[['Image_date', 'Dates', 'Date_compare', 'n',\n",
    "              '5-day Biochemical Oxygen Demand mg_L', 'Ammonia Nitrogen mg_L', 'Chlorophyll-a ug_L', 'Dissolved Oxygen mg_L',\n",
    "              'E. coli cfu_100mL', 'Faecal Coliforms cfu_100mL', 'Nitrate Nitrogen mg_L', 'Nitrite Nitrogen mg_L',\n",
    "              'Orthophosphate Phosphorus mg_L', 'pH', 'Salinity psu', 'Secchi Disc Depth M', 'Silica mg_L',\n",
    "              'Suspended Solids mg_L', 'Temperature C', 'Total Inorganic Nitrogen mg_L', 'Total Kjeldahl Nitrogen mg_L',\n",
    "              'Total Nitrogen mg_L', 'Total Phosphorus mg_L', 'Turbidity NTU', 'Unionised Ammonia mg_L', 'Volatile Suspended Solids mg_L',\n",
    "              'B1', 'B2', 'B3', 'B4', 'B5', 'B6', 'B7', 'B8A', 'B11', 'B12']].copy()\n",
    "\n",
    "df = df.rename(columns={'Image_date': 'Image_Date', 'Dates': 'Station_Date',\n",
    "                        '5-day Biochemical Oxygen Demand mg_L': 'BOD', 'Ammonia Nitrogen mg_L': 'AmNi', 'Chlorophyll-a ug_L': 'Chla', 'Dissolved Oxygen mg_L': 'DO',\n",
    "                        'E. coli cfu_100mL': 'Ecoli', 'Faecal Coliforms cfu_100mL': 'FC', 'Nitrate Nitrogen mg_L': 'NitraNi', 'Nitrite Nitrogen mg_L': 'NitriNi',\n",
    "                        'Orthophosphate Phosphorus mg_L': 'OrPh', 'pH': 'pH', 'Salinity psu': 'Sal', 'Secchi Disc Depth M': 'SDD', 'Silica mg_L': 'Si',\n",
    "                        'Suspended Solids mg_L': 'SS', 'Temperature C': 'Temp', 'Total Inorganic Nitrogen mg_L': 'TIN', 'Total Kjeldahl Nitrogen mg_L': 'TKN',\n",
    "                        'Total Nitrogen mg_L': 'ToNi', 'Total Phosphorus mg_L': 'ToPh', 'Turbidity NTU': 'Tur', 'Unionised Ammonia mg_L': 'UnAm', 'Volatile Suspended Solids mg_L': 'VSS'})\n",
    "\n",
    "df['Date_compare'] = pd.to_numeric(df['Date_compare'].dt.days)\n",
    "df.insert(0, \"Date\", df[\"Image_Date\"])\n",
    "df['Image_Year'] = pd.DatetimeIndex(df['Image_Date']).year\n",
    "\n",
    "df = df[(df['Date_compare'] <= max_day_diff) & (df['n'] >= 10)].copy().drop(columns=['Image_Date', 'Station_Date', 'Date_compare', 'n'])\n",
    "\n",
    "# Remove outlier using Tukey’s fences method\n",
    "\n",
    "Q1 = df.quantile(q=0.25)\n",
    "Q3 = df.quantile(q=0.75)\n",
    "IQR = Q3 - Q1\n",
    "df = df[~((df < (Q1 - 1.5 * IQR)) |(df > (Q3 + 1.5 * IQR)))[['B1', 'B2', 'B3', 'B4', 'B5', 'B6', 'B7', 'B8A']].any(axis=1)]\n",
    "\n",
    "# Replace 0 to min/2 (avoid inf errors during evaluation)\n",
    "\n",
    "wq = ['BOD', 'AmNi', 'Chla', 'DO', 'Ecoli', 'FC', 'NitraNi', 'NitriNi', 'OrPh', 'pH', 'Sal', 'SDD', 'Si', 'SS', 'Temp', 'TIN', 'TKN', 'ToNi', 'ToPh', 'Tur', 'UnAm', 'VSS']\n",
    "for a in wq:\n",
    "  df[a]=df[a].replace(0, np.NaN)\n",
    "  df[a]=df[a].replace(np.NaN,df[a].min()/2)\n",
    "df[\"Chla\"].max()"
   ]
  },
  {
   "cell_type": "code",
   "execution_count": 40,
   "metadata": {},
   "outputs": [],
   "source": [
    "df.to_csv('data/df_data_graphing_filter.csv')"
   ]
  },
  {
   "cell_type": "code",
   "execution_count": null,
   "metadata": {
    "id": "Sldxw9LW4fSD"
   },
   "outputs": [],
   "source": [
    "# Create independent variables\n",
    "\n",
    "bands = ['B' + str(b) for b in [*range(1,8),'8A',11,12]]\n",
    "wl = [443,490,560,665,705,740,783,865,1610,2190]  #wavelength in nm\n",
    "\n",
    "# Multiply 10\n",
    "for i in bands:\n",
    "  df[i] = df[i]*10\n",
    "\n",
    "# Square and cubic\n",
    "for i in bands:\n",
    "  df[i+'_2'] = df[i]**2\n",
    "  df[i+'_3'] = df[i]**3\n",
    "\n",
    "# Two-band ratio\n",
    "for i in bands:\n",
    "  for j in bands:\n",
    "    if (i != j) & (i < j):\n",
    "      df['NR_'+i+j] = ((df[i] - df[j]) / (df[i] + df[j])).clip(lower=-1.0, upper=1.0)\n",
    "\n",
    "# Three-band ratio\n",
    "for i in range(0,10):\n",
    "  for j in range(0,10):\n",
    "    for k in range(0,10):\n",
    "      if (j == i+1) & (k == j+1):\n",
    "        df['TB_'+bands[i]+bands[j]+bands[k]] = (((1/df[bands[i]]) - (1/df[bands[j]])) * df[bands[k]]).clip(lower=-1.0, upper=1.0)\n",
    "\n",
    "# Line height algorithm\n",
    "for i in range(0,10):\n",
    "  for j in range(0,10):\n",
    "    for k in range(0,10):\n",
    "      if (j == i+1) & (k == j+1):\n",
    "        df['LH_'+bands[i]+bands[j]+bands[k]] = df[bands[j]] - df[bands[i]] - ((df[bands[k]] - df[bands[i]]) * ((wl[j]-wl[i])/(wl[k]-wl[i])))\n",
    "\n",
    "df.to_csv('./data/df_data_filter.csv')"
   ]
  },
  {
   "cell_type": "markdown",
   "metadata": {
    "id": "ZIBT5XBwUVh5"
   },
   "source": [
    "This block is written for inputing csv file as the data, skip this block if the dataframe is already loaded"
   ]
  },
  {
   "cell_type": "code",
   "execution_count": 4,
   "metadata": {
    "id": "3MxIbH4UofAj"
   },
   "outputs": [],
   "source": [
    "# for inputing csv file as the data, skip this block if the dataframe is already loaded\n",
    "df = pd.read_csv('./data/df_data_filter.csv')\n",
    "df = df.drop(columns=['Unnamed: 0'])\n",
    "wq = ['BOD', 'AmNi', 'Chla', 'DO', 'Ecoli', 'FC', 'NitraNi', 'NitriNi', 'OrPh', 'pH', 'Sal', 'SDD', 'Si', 'SS', 'Temp', 'TIN', 'TKN', 'ToNi', 'ToPh', 'Tur', 'UnAm', 'VSS']"
   ]
  },
  {
   "cell_type": "markdown",
   "metadata": {
    "id": "7LkflG_dUMZQ"
   },
   "source": [
    "# Step 3 - Train artificial neural network (ANN) models\n",
    "\n",
    "Include selection of optimal variables through cross-validations; Based on GridSearchCV and MLPRegressor function in Scikit-learn"
   ]
  },
  {
   "cell_type": "code",
   "execution_count": 5,
   "metadata": {
    "id": "FHQz6nx-Bz_5"
   },
   "outputs": [],
   "source": [
    "# Define train and test datasets\n",
    "\n",
    "df_train = df[df['Image_Year'] <= 2019].drop(columns=['Image_Year']).copy()\n",
    "df_test = df[df['Image_Year'] == 2020].drop(columns=['Image_Year']).copy()\n",
    "X_train = df_train.drop(columns = wq)\n",
    "X_test = df_test.drop(columns = wq)\n",
    "\n",
    "std_scaler = StandardScaler()\n",
    "std_scaler.set_output(transform='pandas')\n",
    "\n",
    "# Transform the data (centering and scaling features)\n",
    "df_train_scaled = std_scaler.fit_transform(df_train)\n",
    "X_train_scaled = std_scaler.fit_transform(X_train)\n",
    "X_test_scaled = std_scaler.fit_transform(X_test)\n",
    "\n",
    "df_scaled = std_scaler.fit_transform(df)"
   ]
  },
  {
   "cell_type": "code",
   "execution_count": 68,
   "metadata": {
    "id": "pDjp8meoSA5-"
   },
   "outputs": [],
   "source": [
    "# Define ANN function based on MLPRegressor\n",
    "# https://scikit-learn.org/stable/modules/neural_networks_supervised.html#neural-networks-supervised\n",
    "\n",
    "def ANN(df_train, X_train, wq_name, first, seed):\n",
    "  print('seed:' + str(seed))\n",
    "  print('var:' + str(first))\n",
    "  print(wq_name)\n",
    "  c = df_train.corr().copy()\n",
    "  c = c[wq_name][22:113]\n",
    "  c = abs(c).sort_values(ascending=False)[0:first]\n",
    "  var = c.index.tolist()\n",
    "\n",
    "  X_train2 = X_train[var]\n",
    "  X_test2 = X_test[var]\n",
    "  Y_train = df_train[wq_name]\n",
    "  Y_test = df_test[wq_name]\n",
    "\n",
    "  hidden_layer_sizes = [2,4,5,6,8,10,(2,2),(4,4),(5,5),(6,6),(8,8),(10,10)]\n",
    "  tuned_parameters = {'hidden_layer_sizes': hidden_layer_sizes, 'alpha': 10.0 ** -np.arange(1, 7)}\n",
    "  clf = GridSearchCV(MLPRegressor(random_state=seed,activation='logistic', solver='lbfgs', max_iter=50000, early_stopping=True),\n",
    "                     param_grid=tuned_parameters, scoring='r2', verbose=1, cv=5)\n",
    "  clf.fit(X_train2, Y_train)\n",
    "  nvar = len(var)\n",
    "  best_layer = clf.best_estimator_.hidden_layer_sizes\n",
    "  best_alpha = clf.best_estimator_.alpha\n",
    "\n",
    "  regr = MLPRegressor(random_state=seed, hidden_layer_sizes=best_layer, alpha=best_alpha, activation='logistic', \n",
    "                      solver='lbfgs', max_iter=50000, early_stopping=True).fit(X_train2, Y_train)\n",
    "\n",
    "  r_squared = regr.score(X_train2, Y_train)\n",
    "  adjusted_r_squared = 1 - (1-r_squared)*(len(Y_train)-1)/(len(Y_train)-X_train2.shape[1]-1)\n",
    "\n",
    "  # Evaluate model\n",
    "  Y_train_pred = regr.predict(X_train2)\n",
    "  Y_train_pred[Y_train_pred<0]=0.0\n",
    "  corr_model = np.corrcoef(Y_train, Y_train_pred)[0, 1]\n",
    "  rmse = root_mean_squared_error(Y_train, Y_train_pred)\n",
    "  mae = mean_absolute_error(Y_train, Y_train_pred)\n",
    "  smape = np.mean(2*(np.abs(Y_train_pred - Y_train))/(np.abs(Y_train)+np.abs(Y_train_pred)))\n",
    "  print(wq_name + ': ' + str(best_layer) + ', alpha: ' + str(best_alpha) + ', best_score: ' + str(clf.best_score_) + ', R2: ' + str(r_squared) + ', RMSE: ' + str(rmse))\n",
    "\n",
    "  # Test model\n",
    "  Y_test_pred = regr.predict(X_test2)\n",
    "  Y_test_pred[Y_test_pred<0]=0.0\n",
    "  r_squared_test = regr.score(X_test2, Y_test)\n",
    "  corr_test = np.corrcoef(Y_test, Y_test_pred)[0, 1]\n",
    "  rmse_test = mean_squared_error(Y_test, Y_test_pred, squared=False)\n",
    "  mae_test = mean_absolute_error(Y_test, Y_test_pred)\n",
    "  smape_test = np.mean(2*(np.abs(Y_test_pred - Y_test))/(np.abs(Y_test)+np.abs(Y_test_pred)))\n",
    "  print(wq_name + ': r_squared_test: ' + str(r_squared_test) + ', rmse_test: ' + str(rmse_test) +  ', smape_test: ' + str(smape_test))\n",
    "\n",
    "  ANN_df = pd.DataFrame({'WQ': [wq_name], 'nvar':[nvar], 'var':[var], 'random_state':[seed],\n",
    "                         'best_layer':[best_layer], 'best_alpha':[best_alpha], 'best_score':[clf.best_score_],\n",
    "                         'r2': [r_squared], 'adjusted_r2': [adjusted_r_squared], 'corr_model': [corr_model],\n",
    "                         'rmse': [rmse], 'mae': [mae], 'smape': [smape],\n",
    "                         'r2_test': [r_squared_test], 'corr_test': [corr_test],\n",
    "                         'rmse_test': [rmse_test], 'mae_test': [mae_test], 'smape_test': [smape_test]})\n",
    "  return(ANN_df)"
   ]
  },
  {
   "cell_type": "code",
   "execution_count": null,
   "metadata": {},
   "outputs": [],
   "source": [
    "def ANN_TimeSeries(df, wq_name, first, seed, n_splits=5):\n",
    "    \n",
    "    print(wq_name, \"Started\")\n",
    "    print(\"nvar\", first)\n",
    "    print(\"Seed\", seed)\n",
    "    \n",
    "    # Define the TimeSeriesSplit\n",
    "    tscv = TimeSeriesSplit(n_splits=n_splits)\n",
    "    \n",
    "    ANN_results = []\n",
    "    \n",
    "    wq = ['BOD', 'AmNi', 'Chla', 'DO', 'Ecoli', 'FC', 'NitraNi', 'NitriNi', 'OrPh', 'pH', 'Sal', 'SDD', 'Si', 'SS', 'Temp', 'TIN', 'TKN', 'ToNi', 'ToPh', 'Tur', 'UnAm', 'VSS']\n",
    "\n",
    "    for train_index, test_index in tscv.split(df):\n",
    "        df_train, df_test = df.iloc[train_index], df.iloc[test_index]\n",
    "        X_train, X_test = df_train.drop(columns=wq), df_test.drop(columns=wq)\n",
    "        Y_train, Y_test = df_train[wq_name], df_test[wq_name]\n",
    "\n",
    "        # Fit scaler on training data and transform both training and test data\n",
    "        scaler_X = StandardScaler()\n",
    "        scaler_Y = StandardScaler()\n",
    "        X_train_scaled = scaler_X.fit_transform(X_train)\n",
    "        X_test_scaled = scaler_X.transform(X_test)\n",
    "        Y_train_scaled = scaler_Y.fit_transform(Y_train.values.reshape(-1, 1)).flatten()\n",
    "        Y_test_scaled = scaler_Y.transform(Y_test.values.reshape(-1, 1)).flatten()\n",
    "        \n",
    "        print(\"\\n--------------------------------------\")\n",
    "        print(f'Training split: {train_index[0]} to {train_index[-1]}, Testing split: {test_index[0]} to {test_index[-1]}')\n",
    "        \n",
    "        # Correlation-based feature selection\n",
    "        c = df_train.corr().copy()\n",
    "        c = c[wq_name][22:113]\n",
    "        c = abs(c).sort_values(ascending=False)[0:first]\n",
    "        var = c.index.tolist()\n",
    "        \n",
    "        X_train2 = X_train_scaled[:, [X_train.columns.get_loc(col) for col in var]]\n",
    "        X_test2 = X_test_scaled[:, [X_test.columns.get_loc(col) for col in var]]\n",
    "\n",
    "        hidden_layer_sizes = [2, 4, 5, 6, 8, 10, (2, 2), (4, 4), (5, 5), (6, 6), (8, 8), (10, 10)]\n",
    "        tuned_parameters = {'hidden_layer_sizes': hidden_layer_sizes, 'alpha': 10.0 ** -np.arange(1, 7)}\n",
    "        \n",
    "        clf = GridSearchCV(\n",
    "            MLPRegressor(random_state=seed, activation='logistic', solver='sgd', max_iter=10000, early_stopping=True),\n",
    "            param_grid=tuned_parameters, scoring='r2', verbose=1, cv=5\n",
    "        )\n",
    "        \n",
    "        clf.fit(X_train2, Y_train_scaled)\n",
    "        nvar = len(var)\n",
    "        best_layer = clf.best_estimator_.hidden_layer_sizes\n",
    "        best_alpha = clf.best_estimator_.alpha\n",
    "\n",
    "        regr = MLPRegressor(\n",
    "            random_state=seed, hidden_layer_sizes=best_layer, alpha=best_alpha, activation='logistic',\n",
    "            solver='sgd', max_iter=10000, early_stopping=True\n",
    "        ).fit(X_train2, Y_train_scaled)\n",
    "\n",
    "        r_squared = regr.score(X_train2, Y_train_scaled)\n",
    "        adjusted_r_squared = 1 - (1 - r_squared) * (len(Y_train) - 1) / (len(Y_train) - X_train2.shape[1] - 1)\n",
    "\n",
    "        # Evaluate model on training data\n",
    "        Y_train_pred_scaled = regr.predict(X_train2)\n",
    "        Y_train_pred_scaled[Y_train_pred_scaled < 0] = 0.0\n",
    "\n",
    "        # Inverse transform the predictions and actual values\n",
    "        Y_train_pred = scaler_Y.inverse_transform(Y_train_pred_scaled.reshape(-1, 1)).flatten()\n",
    "        Y_train_unscaled = scaler_Y.inverse_transform(Y_train_scaled.reshape(-1, 1)).flatten()\n",
    "        \n",
    "        corr_model = np.corrcoef(Y_train_unscaled, Y_train_pred)[0, 1]\n",
    "        rmse = mean_squared_error(Y_train_unscaled, Y_train_pred, squared=False)\n",
    "        mae = mean_absolute_error(Y_train_unscaled, Y_train_pred)\n",
    "        smape = np.mean(2 * (np.abs(Y_train_pred - Y_train_unscaled)) / (np.abs(Y_train_unscaled) + np.abs(Y_train_pred)))\n",
    "        print(wq_name + ': ' + str(best_layer) + ', alpha: ' + str(best_alpha) + ', best_score: ' + str(clf.best_score_) + ', R2: ' + str(r_squared) + ', RMSE: ' + str(rmse))\n",
    "\n",
    "        # Test model on testing data\n",
    "        Y_test_pred_scaled = regr.predict(X_test2)\n",
    "        Y_test_pred_scaled[Y_test_pred_scaled < 0] = 0.0\n",
    "        \n",
    "        # Inverse transform the predictions and actual values\n",
    "        Y_test_pred = scaler_Y.inverse_transform(Y_test_pred_scaled.reshape(-1, 1)).flatten()\n",
    "        Y_test_unscaled = scaler_Y.inverse_transform(Y_test_scaled.reshape(-1, 1)).flatten()\n",
    "        \n",
    "        r_squared_test = regr.score(X_test2, Y_test_scaled)\n",
    "        corr_test = np.corrcoef(Y_test_unscaled, Y_test_pred)[0, 1]\n",
    "        rmse_test = mean_squared_error(Y_test_unscaled, Y_test_pred, squared=False)\n",
    "        mae_test = mean_absolute_error(Y_test_unscaled, Y_test_pred)\n",
    "        smape_test = np.mean(2 * (np.abs(Y_test_pred - Y_test_unscaled)) / (np.abs(Y_test_unscaled) + np.abs(Y_test_pred)))\n",
    "        print(wq_name + ': r_squared_test: ' + str(r_squared_test) + ', rmse_test: ' + str(rmse_test) + ', smape_test: ' + str(smape_test))\n",
    "\n",
    "        ANN_df = pd.DataFrame({\n",
    "            'WQ': [wq_name], 'nvar': [nvar], 'var': [var], 'random_state': [seed],\n",
    "            'best_layer': [best_layer], 'best_alpha': [best_alpha], 'best_score': [clf.best_score_],\n",
    "            'r2': [r_squared], 'adjusted_r2': [adjusted_r_squared], 'corr_model': [corr_model],\n",
    "            'rmse': [rmse], 'mae': [mae], 'smape': [smape],\n",
    "            'r2_test': [r_squared_test], 'corr_test': [corr_test],\n",
    "            'rmse_test': [rmse_test], 'mae_test': [mae_test], 'smape_test': [smape_test]\n",
    "        })\n",
    "\n",
    "        ANN_results.append(ANN_df)\n",
    "        print(\"--------------------------------------\\n\")\n",
    "        \n",
    "\n",
    "    print(wq_name, \"Finished\")\n",
    "    \n",
    "    \n",
    "    # Combine all results into a single DataFrame\n",
    "    return pd.concat(ANN_results, ignore_index=True)\n",
    "\n",
    "wq = ['Chla', 'SS', 'Tur']\n",
    "ANN_result_list = [ANN_TimeSeries(df, wq_name=value, first=f, seed=1) for value in wq for f in range(4, 13)]\n",
    "ANN_result = pd.concat(ANN_result_list)\n",
    "\n",
    "ANN_result\n",
    "\n",
    "ANN_result.to_csv(\"data/ANN_results.csv\")"
   ]
  },
  {
   "cell_type": "code",
   "execution_count": 85,
   "metadata": {},
   "outputs": [
    {
     "name": "stdout",
     "output_type": "stream",
     "text": [
      "Starting ANN training...\n",
      "\n",
      "Chla Started\n",
      "nvar 4\n",
      "Seed 1\n",
      "\n",
      "--------------------------------------\n",
      "Training split: 0 to 58, Testing split: 59 to 117\n",
      "Fitting 5 folds for each of 72 candidates, totalling 360 fits\n"
     ]
    },
    {
     "name": "stderr",
     "output_type": "stream",
     "text": [
      "/home/rohinsood/.local/lib/python3.10/site-packages/numpy/lib/function_base.py:2897: RuntimeWarning: invalid value encountered in divide\n",
      "  c /= stddev[:, None]\n",
      "/home/rohinsood/.local/lib/python3.10/site-packages/numpy/lib/function_base.py:2898: RuntimeWarning: invalid value encountered in divide\n",
      "  c /= stddev[None, :]\n",
      "/home/rohinsood/.local/lib/python3.10/site-packages/sklearn/metrics/_regression.py:483: FutureWarning: 'squared' is deprecated in version 1.4 and will be removed in 1.6. To calculate the root mean squared error, use the function'root_mean_squared_error'.\n",
      "  warnings.warn(\n",
      "/home/rohinsood/.local/lib/python3.10/site-packages/numpy/lib/function_base.py:2897: RuntimeWarning: invalid value encountered in divide\n",
      "  c /= stddev[:, None]\n",
      "/home/rohinsood/.local/lib/python3.10/site-packages/numpy/lib/function_base.py:2898: RuntimeWarning: invalid value encountered in divide\n",
      "  c /= stddev[None, :]\n",
      "/home/rohinsood/.local/lib/python3.10/site-packages/sklearn/metrics/_regression.py:483: FutureWarning: 'squared' is deprecated in version 1.4 and will be removed in 1.6. To calculate the root mean squared error, use the function'root_mean_squared_error'.\n",
      "  warnings.warn(\n"
     ]
    },
    {
     "name": "stdout",
     "output_type": "stream",
     "text": [
      "Chla: 5, alpha: 0.09999999999999999, best_score: -0.41863679546210336, R2: -0.11965933228141634, RMSE: 8.519626360572248\n",
      "Chla: r_squared_test: -0.2522673810543601, rmse_test: 3.087444340204991, smape_test: 0.7924321212676583\n",
      "--------------------------------------\n",
      "\n",
      "\n",
      "--------------------------------------\n",
      "Training split: 0 to 117, Testing split: 118 to 176\n",
      "Fitting 5 folds for each of 72 candidates, totalling 360 fits\n"
     ]
    },
    {
     "name": "stderr",
     "output_type": "stream",
     "text": [
      "/home/rohinsood/.local/lib/python3.10/site-packages/sklearn/metrics/_regression.py:483: FutureWarning: 'squared' is deprecated in version 1.4 and will be removed in 1.6. To calculate the root mean squared error, use the function'root_mean_squared_error'.\n",
      "  warnings.warn(\n",
      "/home/rohinsood/.local/lib/python3.10/site-packages/sklearn/metrics/_regression.py:483: FutureWarning: 'squared' is deprecated in version 1.4 and will be removed in 1.6. To calculate the root mean squared error, use the function'root_mean_squared_error'.\n",
      "  warnings.warn(\n"
     ]
    },
    {
     "name": "stdout",
     "output_type": "stream",
     "text": [
      "Chla: (5, 5), alpha: 1e-06, best_score: -1.5241188333767395, R2: 0.002995925518589626, RMSE: 6.401995568300206\n",
      "Chla: r_squared_test: -0.00809488929252078, rmse_test: 5.209426741495381, smape_test: 0.9352248903800245\n",
      "--------------------------------------\n",
      "\n",
      "\n",
      "--------------------------------------\n",
      "Training split: 0 to 176, Testing split: 177 to 235\n",
      "Fitting 5 folds for each of 72 candidates, totalling 360 fits\n"
     ]
    },
    {
     "name": "stderr",
     "output_type": "stream",
     "text": [
      "/home/rohinsood/.local/lib/python3.10/site-packages/sklearn/metrics/_regression.py:483: FutureWarning: 'squared' is deprecated in version 1.4 and will be removed in 1.6. To calculate the root mean squared error, use the function'root_mean_squared_error'.\n",
      "  warnings.warn(\n",
      "/home/rohinsood/.local/lib/python3.10/site-packages/sklearn/metrics/_regression.py:483: FutureWarning: 'squared' is deprecated in version 1.4 and will be removed in 1.6. To calculate the root mean squared error, use the function'root_mean_squared_error'.\n",
      "  warnings.warn(\n"
     ]
    },
    {
     "name": "stdout",
     "output_type": "stream",
     "text": [
      "Chla: 10, alpha: 1e-06, best_score: -0.08054914180670603, R2: 0.0518934111850029, RMSE: 5.907234626089005\n",
      "Chla: r_squared_test: -0.138609016958392, rmse_test: 2.995439711562352, smape_test: 0.8797927635599214\n",
      "--------------------------------------\n",
      "\n",
      "\n",
      "--------------------------------------\n",
      "Training split: 0 to 235, Testing split: 236 to 294\n",
      "Fitting 5 folds for each of 72 candidates, totalling 360 fits\n"
     ]
    },
    {
     "name": "stderr",
     "output_type": "stream",
     "text": [
      "/home/rohinsood/.local/lib/python3.10/site-packages/numpy/lib/function_base.py:2897: RuntimeWarning: invalid value encountered in divide\n",
      "  c /= stddev[:, None]\n",
      "/home/rohinsood/.local/lib/python3.10/site-packages/numpy/lib/function_base.py:2898: RuntimeWarning: invalid value encountered in divide\n",
      "  c /= stddev[None, :]\n",
      "/home/rohinsood/.local/lib/python3.10/site-packages/sklearn/metrics/_regression.py:483: FutureWarning: 'squared' is deprecated in version 1.4 and will be removed in 1.6. To calculate the root mean squared error, use the function'root_mean_squared_error'.\n",
      "  warnings.warn(\n",
      "/home/rohinsood/.local/lib/python3.10/site-packages/sklearn/metrics/_regression.py:483: FutureWarning: 'squared' is deprecated in version 1.4 and will be removed in 1.6. To calculate the root mean squared error, use the function'root_mean_squared_error'.\n",
      "  warnings.warn(\n"
     ]
    },
    {
     "name": "stdout",
     "output_type": "stream",
     "text": [
      "Chla: (10, 10), alpha: 1e-06, best_score: -0.13907501909690168, R2: -0.0037598896827268913, RMSE: 5.416540837451567\n",
      "Chla: r_squared_test: -0.00654843350486467, rmse_test: 2.4348872350598962, smape_test: 0.7337411727508283\n",
      "--------------------------------------\n",
      "\n",
      "\n",
      "--------------------------------------\n",
      "Training split: 0 to 294, Testing split: 295 to 353\n",
      "Fitting 5 folds for each of 72 candidates, totalling 360 fits\n"
     ]
    },
    {
     "name": "stderr",
     "output_type": "stream",
     "text": [
      "/home/rohinsood/.local/lib/python3.10/site-packages/sklearn/metrics/_regression.py:483: FutureWarning: 'squared' is deprecated in version 1.4 and will be removed in 1.6. To calculate the root mean squared error, use the function'root_mean_squared_error'.\n",
      "  warnings.warn(\n",
      "/home/rohinsood/.local/lib/python3.10/site-packages/sklearn/metrics/_regression.py:483: FutureWarning: 'squared' is deprecated in version 1.4 and will be removed in 1.6. To calculate the root mean squared error, use the function'root_mean_squared_error'.\n",
      "  warnings.warn(\n"
     ]
    },
    {
     "name": "stdout",
     "output_type": "stream",
     "text": [
      "Chla: 2, alpha: 1e-06, best_score: 0.005155807648482091, R2: 0.2044455088872783, RMSE: 4.5453351873041985\n",
      "Chla: r_squared_test: 0.1323778195152845, rmse_test: 3.9020970654610143, smape_test: 0.5545547838752247\n",
      "--------------------------------------\n",
      "\n",
      "Chla Finished\n",
      "nvar 5\n",
      "Seed 1\n",
      "\n",
      "--------------------------------------\n",
      "Training split: 0 to 58, Testing split: 59 to 117\n",
      "Fitting 5 folds for each of 72 candidates, totalling 360 fits\n"
     ]
    },
    {
     "name": "stderr",
     "output_type": "stream",
     "text": [
      "/home/rohinsood/.local/lib/python3.10/site-packages/numpy/lib/function_base.py:2897: RuntimeWarning: invalid value encountered in divide\n",
      "  c /= stddev[:, None]\n",
      "/home/rohinsood/.local/lib/python3.10/site-packages/numpy/lib/function_base.py:2898: RuntimeWarning: invalid value encountered in divide\n",
      "  c /= stddev[None, :]\n",
      "/home/rohinsood/.local/lib/python3.10/site-packages/sklearn/metrics/_regression.py:483: FutureWarning: 'squared' is deprecated in version 1.4 and will be removed in 1.6. To calculate the root mean squared error, use the function'root_mean_squared_error'.\n",
      "  warnings.warn(\n",
      "/home/rohinsood/.local/lib/python3.10/site-packages/numpy/lib/function_base.py:2897: RuntimeWarning: invalid value encountered in divide\n",
      "  c /= stddev[:, None]\n",
      "/home/rohinsood/.local/lib/python3.10/site-packages/numpy/lib/function_base.py:2898: RuntimeWarning: invalid value encountered in divide\n",
      "  c /= stddev[None, :]\n",
      "/home/rohinsood/.local/lib/python3.10/site-packages/sklearn/metrics/_regression.py:483: FutureWarning: 'squared' is deprecated in version 1.4 and will be removed in 1.6. To calculate the root mean squared error, use the function'root_mean_squared_error'.\n",
      "  warnings.warn(\n"
     ]
    },
    {
     "name": "stdout",
     "output_type": "stream",
     "text": [
      "Chla: (4, 4), alpha: 0.09999999999999999, best_score: -0.22924033475995437, R2: -0.034039421765537536, RMSE: 8.519626360572248\n",
      "Chla: r_squared_test: -0.21925636130854476, rmse_test: 3.087444340204991, smape_test: 0.7924321212676583\n",
      "--------------------------------------\n",
      "\n",
      "\n",
      "--------------------------------------\n",
      "Training split: 0 to 117, Testing split: 118 to 176\n",
      "Fitting 5 folds for each of 72 candidates, totalling 360 fits\n"
     ]
    },
    {
     "name": "stderr",
     "output_type": "stream",
     "text": [
      "/home/rohinsood/.local/lib/python3.10/site-packages/sklearn/metrics/_regression.py:483: FutureWarning: 'squared' is deprecated in version 1.4 and will be removed in 1.6. To calculate the root mean squared error, use the function'root_mean_squared_error'.\n",
      "  warnings.warn(\n",
      "/home/rohinsood/.local/lib/python3.10/site-packages/sklearn/metrics/_regression.py:483: FutureWarning: 'squared' is deprecated in version 1.4 and will be removed in 1.6. To calculate the root mean squared error, use the function'root_mean_squared_error'.\n",
      "  warnings.warn(\n"
     ]
    },
    {
     "name": "stdout",
     "output_type": "stream",
     "text": [
      "Chla: 5, alpha: 0.09999999999999999, best_score: -0.9672982707532489, R2: 0.4421344595983575, RMSE: 4.930811676007744\n",
      "Chla: r_squared_test: 0.24006318261613646, rmse_test: 4.481557403930176, smape_test: 0.8959891821835049\n",
      "--------------------------------------\n",
      "\n",
      "\n",
      "--------------------------------------\n",
      "Training split: 0 to 176, Testing split: 177 to 235\n",
      "Fitting 5 folds for each of 72 candidates, totalling 360 fits\n"
     ]
    },
    {
     "name": "stderr",
     "output_type": "stream",
     "text": [
      "/home/rohinsood/.local/lib/python3.10/site-packages/sklearn/metrics/_regression.py:483: FutureWarning: 'squared' is deprecated in version 1.4 and will be removed in 1.6. To calculate the root mean squared error, use the function'root_mean_squared_error'.\n",
      "  warnings.warn(\n",
      "/home/rohinsood/.local/lib/python3.10/site-packages/sklearn/metrics/_regression.py:483: FutureWarning: 'squared' is deprecated in version 1.4 and will be removed in 1.6. To calculate the root mean squared error, use the function'root_mean_squared_error'.\n",
      "  warnings.warn(\n"
     ]
    },
    {
     "name": "stdout",
     "output_type": "stream",
     "text": [
      "Chla: 2, alpha: 0.09999999999999999, best_score: -0.10639100708738969, R2: 0.18383234860982023, RMSE: 5.547778699463523\n",
      "Chla: r_squared_test: -0.4266012846751155, rmse_test: 3.4230547072053867, smape_test: 0.9436661347262004\n",
      "--------------------------------------\n",
      "\n",
      "\n",
      "--------------------------------------\n",
      "Training split: 0 to 235, Testing split: 236 to 294\n",
      "Fitting 5 folds for each of 72 candidates, totalling 360 fits\n"
     ]
    },
    {
     "name": "stderr",
     "output_type": "stream",
     "text": [
      "/home/rohinsood/.local/lib/python3.10/site-packages/sklearn/metrics/_regression.py:483: FutureWarning: 'squared' is deprecated in version 1.4 and will be removed in 1.6. To calculate the root mean squared error, use the function'root_mean_squared_error'.\n",
      "  warnings.warn(\n",
      "/home/rohinsood/.local/lib/python3.10/site-packages/sklearn/metrics/_regression.py:483: FutureWarning: 'squared' is deprecated in version 1.4 and will be removed in 1.6. To calculate the root mean squared error, use the function'root_mean_squared_error'.\n",
      "  warnings.warn(\n"
     ]
    },
    {
     "name": "stdout",
     "output_type": "stream",
     "text": [
      "Chla: 8, alpha: 1e-06, best_score: -0.24858836099183518, R2: 0.034339624810251324, RMSE: 5.34260232501826\n",
      "Chla: r_squared_test: 0.05765729725484625, rmse_test: 2.42631347738859, smape_test: 0.7342398546454169\n",
      "--------------------------------------\n",
      "\n",
      "\n",
      "--------------------------------------\n",
      "Training split: 0 to 294, Testing split: 295 to 353\n",
      "Fitting 5 folds for each of 72 candidates, totalling 360 fits\n"
     ]
    },
    {
     "name": "stderr",
     "output_type": "stream",
     "text": [
      "/home/rohinsood/.local/lib/python3.10/site-packages/numpy/lib/function_base.py:2897: RuntimeWarning: invalid value encountered in divide\n",
      "  c /= stddev[:, None]\n",
      "/home/rohinsood/.local/lib/python3.10/site-packages/numpy/lib/function_base.py:2898: RuntimeWarning: invalid value encountered in divide\n",
      "  c /= stddev[None, :]\n",
      "/home/rohinsood/.local/lib/python3.10/site-packages/sklearn/metrics/_regression.py:483: FutureWarning: 'squared' is deprecated in version 1.4 and will be removed in 1.6. To calculate the root mean squared error, use the function'root_mean_squared_error'.\n",
      "  warnings.warn(\n",
      "/home/rohinsood/.local/lib/python3.10/site-packages/numpy/lib/function_base.py:2897: RuntimeWarning: invalid value encountered in divide\n",
      "  c /= stddev[:, None]\n",
      "/home/rohinsood/.local/lib/python3.10/site-packages/numpy/lib/function_base.py:2898: RuntimeWarning: invalid value encountered in divide\n",
      "  c /= stddev[None, :]\n",
      "/home/rohinsood/.local/lib/python3.10/site-packages/sklearn/metrics/_regression.py:483: FutureWarning: 'squared' is deprecated in version 1.4 and will be removed in 1.6. To calculate the root mean squared error, use the function'root_mean_squared_error'.\n",
      "  warnings.warn(\n"
     ]
    },
    {
     "name": "stdout",
     "output_type": "stream",
     "text": [
      "Chla: 2, alpha: 0.01, best_score: 0.062102991324377445, R2: -0.03787600548559533, RMSE: 4.9645831657619865\n",
      "Chla: r_squared_test: -0.09846498847008878, rmse_test: 4.181085286631679, smape_test: 0.5268812840406335\n",
      "--------------------------------------\n",
      "\n",
      "Chla Finished\n",
      "nvar 6\n",
      "Seed 1\n",
      "\n",
      "--------------------------------------\n",
      "Training split: 0 to 58, Testing split: 59 to 117\n",
      "Fitting 5 folds for each of 72 candidates, totalling 360 fits\n"
     ]
    },
    {
     "name": "stderr",
     "output_type": "stream",
     "text": [
      "/home/rohinsood/.local/lib/python3.10/site-packages/sklearn/neural_network/_multilayer_perceptron.py:691: ConvergenceWarning: Stochastic Optimizer: Maximum iterations (10000) reached and the optimization hasn't converged yet.\n",
      "  warnings.warn(\n",
      "/home/rohinsood/.local/lib/python3.10/site-packages/sklearn/neural_network/_multilayer_perceptron.py:691: ConvergenceWarning: Stochastic Optimizer: Maximum iterations (10000) reached and the optimization hasn't converged yet.\n",
      "  warnings.warn(\n",
      "/home/rohinsood/.local/lib/python3.10/site-packages/sklearn/neural_network/_multilayer_perceptron.py:691: ConvergenceWarning: Stochastic Optimizer: Maximum iterations (10000) reached and the optimization hasn't converged yet.\n",
      "  warnings.warn(\n",
      "/home/rohinsood/.local/lib/python3.10/site-packages/sklearn/neural_network/_multilayer_perceptron.py:691: ConvergenceWarning: Stochastic Optimizer: Maximum iterations (10000) reached and the optimization hasn't converged yet.\n",
      "  warnings.warn(\n",
      "/home/rohinsood/.local/lib/python3.10/site-packages/sklearn/neural_network/_multilayer_perceptron.py:691: ConvergenceWarning: Stochastic Optimizer: Maximum iterations (10000) reached and the optimization hasn't converged yet.\n",
      "  warnings.warn(\n",
      "/home/rohinsood/.local/lib/python3.10/site-packages/sklearn/neural_network/_multilayer_perceptron.py:691: ConvergenceWarning: Stochastic Optimizer: Maximum iterations (10000) reached and the optimization hasn't converged yet.\n",
      "  warnings.warn(\n",
      "/home/rohinsood/.local/lib/python3.10/site-packages/numpy/lib/function_base.py:2897: RuntimeWarning: invalid value encountered in divide\n",
      "  c /= stddev[:, None]\n",
      "/home/rohinsood/.local/lib/python3.10/site-packages/numpy/lib/function_base.py:2898: RuntimeWarning: invalid value encountered in divide\n",
      "  c /= stddev[None, :]\n",
      "/home/rohinsood/.local/lib/python3.10/site-packages/sklearn/metrics/_regression.py:483: FutureWarning: 'squared' is deprecated in version 1.4 and will be removed in 1.6. To calculate the root mean squared error, use the function'root_mean_squared_error'.\n",
      "  warnings.warn(\n",
      "/home/rohinsood/.local/lib/python3.10/site-packages/numpy/lib/function_base.py:2897: RuntimeWarning: invalid value encountered in divide\n",
      "  c /= stddev[:, None]\n",
      "/home/rohinsood/.local/lib/python3.10/site-packages/numpy/lib/function_base.py:2898: RuntimeWarning: invalid value encountered in divide\n",
      "  c /= stddev[None, :]\n",
      "/home/rohinsood/.local/lib/python3.10/site-packages/sklearn/metrics/_regression.py:483: FutureWarning: 'squared' is deprecated in version 1.4 and will be removed in 1.6. To calculate the root mean squared error, use the function'root_mean_squared_error'.\n",
      "  warnings.warn(\n"
     ]
    },
    {
     "name": "stdout",
     "output_type": "stream",
     "text": [
      "Chla: 6, alpha: 0.09999999999999999, best_score: -0.675778001509202, R2: -0.01967961804922136, RMSE: 8.519626360572248\n",
      "Chla: r_squared_test: -0.14287268841563439, rmse_test: 3.087444340204991, smape_test: 0.7924321212676583\n",
      "--------------------------------------\n",
      "\n",
      "\n",
      "--------------------------------------\n",
      "Training split: 0 to 117, Testing split: 118 to 176\n",
      "Fitting 5 folds for each of 72 candidates, totalling 360 fits\n"
     ]
    },
    {
     "name": "stderr",
     "output_type": "stream",
     "text": [
      "/home/rohinsood/.local/lib/python3.10/site-packages/sklearn/metrics/_regression.py:483: FutureWarning: 'squared' is deprecated in version 1.4 and will be removed in 1.6. To calculate the root mean squared error, use the function'root_mean_squared_error'.\n",
      "  warnings.warn(\n",
      "/home/rohinsood/.local/lib/python3.10/site-packages/sklearn/metrics/_regression.py:483: FutureWarning: 'squared' is deprecated in version 1.4 and will be removed in 1.6. To calculate the root mean squared error, use the function'root_mean_squared_error'.\n",
      "  warnings.warn(\n"
     ]
    },
    {
     "name": "stdout",
     "output_type": "stream",
     "text": [
      "Chla: 8, alpha: 0.09999999999999999, best_score: -1.3837661336740883, R2: -0.0179380582180948, RMSE: 6.397577979779343\n",
      "Chla: r_squared_test: -0.056912635559304814, rmse_test: 5.248879243514509, smape_test: 0.9539493445299305\n",
      "--------------------------------------\n",
      "\n",
      "\n",
      "--------------------------------------\n",
      "Training split: 0 to 176, Testing split: 177 to 235\n",
      "Fitting 5 folds for each of 72 candidates, totalling 360 fits\n"
     ]
    },
    {
     "name": "stderr",
     "output_type": "stream",
     "text": [
      "/home/rohinsood/.local/lib/python3.10/site-packages/sklearn/metrics/_regression.py:483: FutureWarning: 'squared' is deprecated in version 1.4 and will be removed in 1.6. To calculate the root mean squared error, use the function'root_mean_squared_error'.\n",
      "  warnings.warn(\n",
      "/home/rohinsood/.local/lib/python3.10/site-packages/sklearn/metrics/_regression.py:483: FutureWarning: 'squared' is deprecated in version 1.4 and will be removed in 1.6. To calculate the root mean squared error, use the function'root_mean_squared_error'.\n",
      "  warnings.warn(\n"
     ]
    },
    {
     "name": "stdout",
     "output_type": "stream",
     "text": [
      "Chla: 6, alpha: 1e-06, best_score: -0.00022813064625069047, R2: 0.27776863935047136, RMSE: 5.243190718288138\n",
      "Chla: r_squared_test: -1.4762360073232292, rmse_test: 4.488269495223571, smape_test: 1.0211930914070204\n",
      "--------------------------------------\n",
      "\n",
      "\n",
      "--------------------------------------\n",
      "Training split: 0 to 235, Testing split: 236 to 294\n",
      "Fitting 5 folds for each of 72 candidates, totalling 360 fits\n"
     ]
    },
    {
     "name": "stderr",
     "output_type": "stream",
     "text": [
      "/home/rohinsood/.local/lib/python3.10/site-packages/numpy/lib/function_base.py:2897: RuntimeWarning: invalid value encountered in divide\n",
      "  c /= stddev[:, None]\n",
      "/home/rohinsood/.local/lib/python3.10/site-packages/numpy/lib/function_base.py:2898: RuntimeWarning: invalid value encountered in divide\n",
      "  c /= stddev[None, :]\n",
      "/home/rohinsood/.local/lib/python3.10/site-packages/sklearn/metrics/_regression.py:483: FutureWarning: 'squared' is deprecated in version 1.4 and will be removed in 1.6. To calculate the root mean squared error, use the function'root_mean_squared_error'.\n",
      "  warnings.warn(\n",
      "/home/rohinsood/.local/lib/python3.10/site-packages/sklearn/metrics/_regression.py:483: FutureWarning: 'squared' is deprecated in version 1.4 and will be removed in 1.6. To calculate the root mean squared error, use the function'root_mean_squared_error'.\n",
      "  warnings.warn(\n"
     ]
    },
    {
     "name": "stdout",
     "output_type": "stream",
     "text": [
      "Chla: (10, 10), alpha: 0.09999999999999999, best_score: -0.9616624377963634, R2: -0.019275337262755654, RMSE: 5.416540837451567\n",
      "Chla: r_squared_test: -0.022925449778320228, rmse_test: 2.4348872350598962, smape_test: 0.7337411727508283\n",
      "--------------------------------------\n",
      "\n",
      "\n",
      "--------------------------------------\n",
      "Training split: 0 to 294, Testing split: 295 to 353\n",
      "Fitting 5 folds for each of 72 candidates, totalling 360 fits\n"
     ]
    },
    {
     "name": "stderr",
     "output_type": "stream",
     "text": [
      "/home/rohinsood/.local/lib/python3.10/site-packages/sklearn/metrics/_regression.py:483: FutureWarning: 'squared' is deprecated in version 1.4 and will be removed in 1.6. To calculate the root mean squared error, use the function'root_mean_squared_error'.\n",
      "  warnings.warn(\n",
      "/home/rohinsood/.local/lib/python3.10/site-packages/sklearn/metrics/_regression.py:483: FutureWarning: 'squared' is deprecated in version 1.4 and will be removed in 1.6. To calculate the root mean squared error, use the function'root_mean_squared_error'.\n",
      "  warnings.warn(\n"
     ]
    },
    {
     "name": "stdout",
     "output_type": "stream",
     "text": [
      "Chla: 6, alpha: 1e-06, best_score: 0.085287214957479, R2: 0.22585570333215, RMSE: 4.500308170138072\n",
      "Chla: r_squared_test: 0.14108365769854847, rmse_test: 3.8614726172648415, smape_test: 0.5332217579685012\n",
      "--------------------------------------\n",
      "\n",
      "Chla Finished\n",
      "nvar 7\n",
      "Seed 1\n",
      "\n",
      "--------------------------------------\n",
      "Training split: 0 to 58, Testing split: 59 to 117\n",
      "Fitting 5 folds for each of 72 candidates, totalling 360 fits\n"
     ]
    },
    {
     "name": "stderr",
     "output_type": "stream",
     "text": [
      "/home/rohinsood/.local/lib/python3.10/site-packages/sklearn/neural_network/_multilayer_perceptron.py:691: ConvergenceWarning: Stochastic Optimizer: Maximum iterations (10000) reached and the optimization hasn't converged yet.\n",
      "  warnings.warn(\n",
      "/home/rohinsood/.local/lib/python3.10/site-packages/numpy/lib/function_base.py:2897: RuntimeWarning: invalid value encountered in divide\n",
      "  c /= stddev[:, None]\n",
      "/home/rohinsood/.local/lib/python3.10/site-packages/numpy/lib/function_base.py:2898: RuntimeWarning: invalid value encountered in divide\n",
      "  c /= stddev[None, :]\n",
      "/home/rohinsood/.local/lib/python3.10/site-packages/sklearn/metrics/_regression.py:483: FutureWarning: 'squared' is deprecated in version 1.4 and will be removed in 1.6. To calculate the root mean squared error, use the function'root_mean_squared_error'.\n",
      "  warnings.warn(\n",
      "/home/rohinsood/.local/lib/python3.10/site-packages/numpy/lib/function_base.py:2897: RuntimeWarning: invalid value encountered in divide\n",
      "  c /= stddev[:, None]\n",
      "/home/rohinsood/.local/lib/python3.10/site-packages/numpy/lib/function_base.py:2898: RuntimeWarning: invalid value encountered in divide\n",
      "  c /= stddev[None, :]\n",
      "/home/rohinsood/.local/lib/python3.10/site-packages/sklearn/metrics/_regression.py:483: FutureWarning: 'squared' is deprecated in version 1.4 and will be removed in 1.6. To calculate the root mean squared error, use the function'root_mean_squared_error'.\n",
      "  warnings.warn(\n"
     ]
    },
    {
     "name": "stdout",
     "output_type": "stream",
     "text": [
      "Chla: 2, alpha: 0.09999999999999999, best_score: -0.46824000332786253, R2: -0.06426078919193157, RMSE: 8.519626360572248\n",
      "Chla: r_squared_test: -0.305837516920509, rmse_test: 3.087444340204991, smape_test: 0.7924321212676583\n",
      "--------------------------------------\n",
      "\n",
      "\n",
      "--------------------------------------\n",
      "Training split: 0 to 117, Testing split: 118 to 176\n",
      "Fitting 5 folds for each of 72 candidates, totalling 360 fits\n"
     ]
    },
    {
     "name": "stderr",
     "output_type": "stream",
     "text": [
      "/home/rohinsood/.local/lib/python3.10/site-packages/sklearn/metrics/_regression.py:483: FutureWarning: 'squared' is deprecated in version 1.4 and will be removed in 1.6. To calculate the root mean squared error, use the function'root_mean_squared_error'.\n",
      "  warnings.warn(\n",
      "/home/rohinsood/.local/lib/python3.10/site-packages/sklearn/metrics/_regression.py:483: FutureWarning: 'squared' is deprecated in version 1.4 and will be removed in 1.6. To calculate the root mean squared error, use the function'root_mean_squared_error'.\n",
      "  warnings.warn(\n"
     ]
    },
    {
     "name": "stdout",
     "output_type": "stream",
     "text": [
      "Chla: (5, 5), alpha: 1e-06, best_score: -1.0433499433344615, R2: 0.017191712615246657, RMSE: 6.359242671236937\n",
      "Chla: r_squared_test: 0.009217681641829123, rmse_test: 5.180862701839113, smape_test: 0.9354697479838316\n",
      "--------------------------------------\n",
      "\n",
      "\n",
      "--------------------------------------\n",
      "Training split: 0 to 176, Testing split: 177 to 235\n",
      "Fitting 5 folds for each of 72 candidates, totalling 360 fits\n"
     ]
    },
    {
     "name": "stderr",
     "output_type": "stream",
     "text": [
      "/home/rohinsood/.local/lib/python3.10/site-packages/sklearn/metrics/_regression.py:483: FutureWarning: 'squared' is deprecated in version 1.4 and will be removed in 1.6. To calculate the root mean squared error, use the function'root_mean_squared_error'.\n",
      "  warnings.warn(\n",
      "/home/rohinsood/.local/lib/python3.10/site-packages/sklearn/metrics/_regression.py:483: FutureWarning: 'squared' is deprecated in version 1.4 and will be removed in 1.6. To calculate the root mean squared error, use the function'root_mean_squared_error'.\n",
      "  warnings.warn(\n"
     ]
    },
    {
     "name": "stdout",
     "output_type": "stream",
     "text": [
      "Chla: 6, alpha: 1e-06, best_score: -0.07214479280819108, R2: 0.33673198121205095, RMSE: 5.050583062384452\n",
      "Chla: r_squared_test: -1.3820462364643973, rmse_test: 4.437371324499392, smape_test: 1.0167465438640315\n",
      "--------------------------------------\n",
      "\n",
      "\n",
      "--------------------------------------\n",
      "Training split: 0 to 235, Testing split: 236 to 294\n",
      "Fitting 5 folds for each of 72 candidates, totalling 360 fits\n"
     ]
    },
    {
     "name": "stderr",
     "output_type": "stream",
     "text": [
      "/home/rohinsood/.local/lib/python3.10/site-packages/sklearn/metrics/_regression.py:483: FutureWarning: 'squared' is deprecated in version 1.4 and will be removed in 1.6. To calculate the root mean squared error, use the function'root_mean_squared_error'.\n",
      "  warnings.warn(\n",
      "/home/rohinsood/.local/lib/python3.10/site-packages/sklearn/metrics/_regression.py:483: FutureWarning: 'squared' is deprecated in version 1.4 and will be removed in 1.6. To calculate the root mean squared error, use the function'root_mean_squared_error'.\n",
      "  warnings.warn(\n"
     ]
    },
    {
     "name": "stdout",
     "output_type": "stream",
     "text": [
      "Chla: (4, 4), alpha: 1e-06, best_score: -0.29672349386257735, R2: 0.008947745186663636, RMSE: 5.415624391767542\n",
      "Chla: r_squared_test: -0.0011627737981654285, rmse_test: 2.4348872350598962, smape_test: 0.7337411727508283\n",
      "--------------------------------------\n",
      "\n",
      "\n",
      "--------------------------------------\n",
      "Training split: 0 to 294, Testing split: 295 to 353\n",
      "Fitting 5 folds for each of 72 candidates, totalling 360 fits\n"
     ]
    },
    {
     "name": "stderr",
     "output_type": "stream",
     "text": [
      "/home/rohinsood/.local/lib/python3.10/site-packages/sklearn/metrics/_regression.py:483: FutureWarning: 'squared' is deprecated in version 1.4 and will be removed in 1.6. To calculate the root mean squared error, use the function'root_mean_squared_error'.\n",
      "  warnings.warn(\n",
      "/home/rohinsood/.local/lib/python3.10/site-packages/sklearn/metrics/_regression.py:483: FutureWarning: 'squared' is deprecated in version 1.4 and will be removed in 1.6. To calculate the root mean squared error, use the function'root_mean_squared_error'.\n",
      "  warnings.warn(\n"
     ]
    },
    {
     "name": "stdout",
     "output_type": "stream",
     "text": [
      "Chla: 8, alpha: 1e-06, best_score: 0.05982847613249449, R2: -0.012656997648428092, RMSE: 4.9538036713267415\n",
      "Chla: r_squared_test: -0.02645553896789332, rmse_test: 4.181189302021217, smape_test: 0.5290441465193827\n",
      "--------------------------------------\n",
      "\n",
      "Chla Finished\n",
      "nvar 8\n",
      "Seed 1\n",
      "\n",
      "--------------------------------------\n",
      "Training split: 0 to 58, Testing split: 59 to 117\n",
      "Fitting 5 folds for each of 72 candidates, totalling 360 fits\n"
     ]
    },
    {
     "name": "stderr",
     "output_type": "stream",
     "text": [
      "/home/rohinsood/.local/lib/python3.10/site-packages/numpy/lib/function_base.py:2897: RuntimeWarning: invalid value encountered in divide\n",
      "  c /= stddev[:, None]\n",
      "/home/rohinsood/.local/lib/python3.10/site-packages/numpy/lib/function_base.py:2898: RuntimeWarning: invalid value encountered in divide\n",
      "  c /= stddev[None, :]\n",
      "/home/rohinsood/.local/lib/python3.10/site-packages/sklearn/metrics/_regression.py:483: FutureWarning: 'squared' is deprecated in version 1.4 and will be removed in 1.6. To calculate the root mean squared error, use the function'root_mean_squared_error'.\n",
      "  warnings.warn(\n",
      "/home/rohinsood/.local/lib/python3.10/site-packages/numpy/lib/function_base.py:2897: RuntimeWarning: invalid value encountered in divide\n",
      "  c /= stddev[:, None]\n",
      "/home/rohinsood/.local/lib/python3.10/site-packages/numpy/lib/function_base.py:2898: RuntimeWarning: invalid value encountered in divide\n",
      "  c /= stddev[None, :]\n",
      "/home/rohinsood/.local/lib/python3.10/site-packages/sklearn/metrics/_regression.py:483: FutureWarning: 'squared' is deprecated in version 1.4 and will be removed in 1.6. To calculate the root mean squared error, use the function'root_mean_squared_error'.\n",
      "  warnings.warn(\n"
     ]
    },
    {
     "name": "stdout",
     "output_type": "stream",
     "text": [
      "Chla: (8, 8), alpha: 1e-06, best_score: -1.0318496577128138, R2: -0.0217407024211822, RMSE: 8.519626360572248\n",
      "Chla: r_squared_test: -0.014057064460317514, rmse_test: 3.087444340204991, smape_test: 0.7924321212676583\n",
      "--------------------------------------\n",
      "\n",
      "\n",
      "--------------------------------------\n",
      "Training split: 0 to 117, Testing split: 118 to 176\n",
      "Fitting 5 folds for each of 72 candidates, totalling 360 fits\n"
     ]
    },
    {
     "name": "stderr",
     "output_type": "stream",
     "text": [
      "/home/rohinsood/.local/lib/python3.10/site-packages/sklearn/metrics/_regression.py:483: FutureWarning: 'squared' is deprecated in version 1.4 and will be removed in 1.6. To calculate the root mean squared error, use the function'root_mean_squared_error'.\n",
      "  warnings.warn(\n",
      "/home/rohinsood/.local/lib/python3.10/site-packages/sklearn/metrics/_regression.py:483: FutureWarning: 'squared' is deprecated in version 1.4 and will be removed in 1.6. To calculate the root mean squared error, use the function'root_mean_squared_error'.\n",
      "  warnings.warn(\n"
     ]
    },
    {
     "name": "stdout",
     "output_type": "stream",
     "text": [
      "Chla: 6, alpha: 1e-06, best_score: -1.479705647242391, R2: -0.007383693782937906, RMSE: 6.408632356765905\n",
      "Chla: r_squared_test: -0.031755862862464346, rmse_test: 5.227037460850427, smape_test: 0.950303882132985\n",
      "--------------------------------------\n",
      "\n",
      "\n",
      "--------------------------------------\n",
      "Training split: 0 to 176, Testing split: 177 to 235\n",
      "Fitting 5 folds for each of 72 candidates, totalling 360 fits\n"
     ]
    },
    {
     "name": "stderr",
     "output_type": "stream",
     "text": [
      "/home/rohinsood/.local/lib/python3.10/site-packages/sklearn/metrics/_regression.py:483: FutureWarning: 'squared' is deprecated in version 1.4 and will be removed in 1.6. To calculate the root mean squared error, use the function'root_mean_squared_error'.\n",
      "  warnings.warn(\n",
      "/home/rohinsood/.local/lib/python3.10/site-packages/sklearn/metrics/_regression.py:483: FutureWarning: 'squared' is deprecated in version 1.4 and will be removed in 1.6. To calculate the root mean squared error, use the function'root_mean_squared_error'.\n",
      "  warnings.warn(\n"
     ]
    },
    {
     "name": "stdout",
     "output_type": "stream",
     "text": [
      "Chla: 5, alpha: 1e-06, best_score: -0.014073061343052506, R2: 0.3059548459601439, RMSE: 5.144227754782735\n",
      "Chla: r_squared_test: -1.2425413223571562, rmse_test: 4.262142676192335, smape_test: 1.013171617026134\n",
      "--------------------------------------\n",
      "\n",
      "\n",
      "--------------------------------------\n",
      "Training split: 0 to 235, Testing split: 236 to 294\n",
      "Fitting 5 folds for each of 72 candidates, totalling 360 fits\n"
     ]
    },
    {
     "name": "stderr",
     "output_type": "stream",
     "text": [
      "/home/rohinsood/.local/lib/python3.10/site-packages/sklearn/metrics/_regression.py:483: FutureWarning: 'squared' is deprecated in version 1.4 and will be removed in 1.6. To calculate the root mean squared error, use the function'root_mean_squared_error'.\n",
      "  warnings.warn(\n",
      "/home/rohinsood/.local/lib/python3.10/site-packages/sklearn/metrics/_regression.py:483: FutureWarning: 'squared' is deprecated in version 1.4 and will be removed in 1.6. To calculate the root mean squared error, use the function'root_mean_squared_error'.\n",
      "  warnings.warn(\n"
     ]
    },
    {
     "name": "stdout",
     "output_type": "stream",
     "text": [
      "Chla: 6, alpha: 1e-06, best_score: -0.14914917328135593, R2: 0.2567685776224169, RMSE: 4.813278167962436\n",
      "Chla: r_squared_test: 0.08252588377646819, rmse_test: 2.4506267461805935, smape_test: 0.7394725247941104\n",
      "--------------------------------------\n",
      "\n",
      "\n",
      "--------------------------------------\n",
      "Training split: 0 to 294, Testing split: 295 to 353\n",
      "Fitting 5 folds for each of 72 candidates, totalling 360 fits\n"
     ]
    },
    {
     "name": "stderr",
     "output_type": "stream",
     "text": [
      "/home/rohinsood/.local/lib/python3.10/site-packages/sklearn/metrics/_regression.py:483: FutureWarning: 'squared' is deprecated in version 1.4 and will be removed in 1.6. To calculate the root mean squared error, use the function'root_mean_squared_error'.\n",
      "  warnings.warn(\n",
      "/home/rohinsood/.local/lib/python3.10/site-packages/sklearn/metrics/_regression.py:483: FutureWarning: 'squared' is deprecated in version 1.4 and will be removed in 1.6. To calculate the root mean squared error, use the function'root_mean_squared_error'.\n",
      "  warnings.warn(\n"
     ]
    },
    {
     "name": "stdout",
     "output_type": "stream",
     "text": [
      "Chla: 5, alpha: 1e-06, best_score: 0.0754357454969636, R2: 0.22841310873060383, RMSE: 4.489585499154091\n",
      "Chla: r_squared_test: 0.12276694776125963, rmse_test: 3.8640185069984225, smape_test: 0.537661886287874\n",
      "--------------------------------------\n",
      "\n",
      "Chla Finished\n",
      "nvar 9\n",
      "Seed 1\n",
      "\n",
      "--------------------------------------\n",
      "Training split: 0 to 58, Testing split: 59 to 117\n",
      "Fitting 5 folds for each of 72 candidates, totalling 360 fits\n"
     ]
    },
    {
     "name": "stderr",
     "output_type": "stream",
     "text": [
      "/home/rohinsood/.local/lib/python3.10/site-packages/sklearn/neural_network/_multilayer_perceptron.py:691: ConvergenceWarning: Stochastic Optimizer: Maximum iterations (10000) reached and the optimization hasn't converged yet.\n",
      "  warnings.warn(\n",
      "/home/rohinsood/.local/lib/python3.10/site-packages/sklearn/neural_network/_multilayer_perceptron.py:691: ConvergenceWarning: Stochastic Optimizer: Maximum iterations (10000) reached and the optimization hasn't converged yet.\n",
      "  warnings.warn(\n",
      "/home/rohinsood/.local/lib/python3.10/site-packages/sklearn/neural_network/_multilayer_perceptron.py:691: ConvergenceWarning: Stochastic Optimizer: Maximum iterations (10000) reached and the optimization hasn't converged yet.\n",
      "  warnings.warn(\n",
      "/home/rohinsood/.local/lib/python3.10/site-packages/sklearn/neural_network/_multilayer_perceptron.py:691: ConvergenceWarning: Stochastic Optimizer: Maximum iterations (10000) reached and the optimization hasn't converged yet.\n",
      "  warnings.warn(\n",
      "/home/rohinsood/.local/lib/python3.10/site-packages/sklearn/neural_network/_multilayer_perceptron.py:691: ConvergenceWarning: Stochastic Optimizer: Maximum iterations (10000) reached and the optimization hasn't converged yet.\n",
      "  warnings.warn(\n",
      "/home/rohinsood/.local/lib/python3.10/site-packages/sklearn/neural_network/_multilayer_perceptron.py:691: ConvergenceWarning: Stochastic Optimizer: Maximum iterations (10000) reached and the optimization hasn't converged yet.\n",
      "  warnings.warn(\n",
      "/home/rohinsood/.local/lib/python3.10/site-packages/sklearn/metrics/_regression.py:483: FutureWarning: 'squared' is deprecated in version 1.4 and will be removed in 1.6. To calculate the root mean squared error, use the function'root_mean_squared_error'.\n",
      "  warnings.warn(\n",
      "/home/rohinsood/.local/lib/python3.10/site-packages/numpy/lib/function_base.py:2897: RuntimeWarning: invalid value encountered in divide\n",
      "  c /= stddev[:, None]\n",
      "/home/rohinsood/.local/lib/python3.10/site-packages/numpy/lib/function_base.py:2898: RuntimeWarning: invalid value encountered in divide\n",
      "  c /= stddev[None, :]\n",
      "/home/rohinsood/.local/lib/python3.10/site-packages/sklearn/metrics/_regression.py:483: FutureWarning: 'squared' is deprecated in version 1.4 and will be removed in 1.6. To calculate the root mean squared error, use the function'root_mean_squared_error'.\n",
      "  warnings.warn(\n"
     ]
    },
    {
     "name": "stdout",
     "output_type": "stream",
     "text": [
      "Chla: 5, alpha: 0.09999999999999999, best_score: -0.34924885004792017, R2: 0.07262236450955417, RMSE: 8.343013071009088\n",
      "Chla: r_squared_test: -0.2633716228418044, rmse_test: 3.087444340204991, smape_test: 0.7924321212676583\n",
      "--------------------------------------\n",
      "\n",
      "\n",
      "--------------------------------------\n",
      "Training split: 0 to 117, Testing split: 118 to 176\n",
      "Fitting 5 folds for each of 72 candidates, totalling 360 fits\n"
     ]
    },
    {
     "name": "stderr",
     "output_type": "stream",
     "text": [
      "/home/rohinsood/.local/lib/python3.10/site-packages/sklearn/metrics/_regression.py:483: FutureWarning: 'squared' is deprecated in version 1.4 and will be removed in 1.6. To calculate the root mean squared error, use the function'root_mean_squared_error'.\n",
      "  warnings.warn(\n",
      "/home/rohinsood/.local/lib/python3.10/site-packages/sklearn/metrics/_regression.py:483: FutureWarning: 'squared' is deprecated in version 1.4 and will be removed in 1.6. To calculate the root mean squared error, use the function'root_mean_squared_error'.\n",
      "  warnings.warn(\n"
     ]
    },
    {
     "name": "stdout",
     "output_type": "stream",
     "text": [
      "Chla: 6, alpha: 1e-06, best_score: -0.4332237022279123, R2: 0.5386076372829174, RMSE: 4.509699416149473\n",
      "Chla: r_squared_test: 0.23343158207193848, rmse_test: 4.417829384693058, smape_test: 0.9008461199786963\n",
      "--------------------------------------\n",
      "\n",
      "\n",
      "--------------------------------------\n",
      "Training split: 0 to 176, Testing split: 177 to 235\n",
      "Fitting 5 folds for each of 72 candidates, totalling 360 fits\n"
     ]
    },
    {
     "name": "stderr",
     "output_type": "stream",
     "text": [
      "/home/rohinsood/.local/lib/python3.10/site-packages/sklearn/metrics/_regression.py:483: FutureWarning: 'squared' is deprecated in version 1.4 and will be removed in 1.6. To calculate the root mean squared error, use the function'root_mean_squared_error'.\n",
      "  warnings.warn(\n",
      "/home/rohinsood/.local/lib/python3.10/site-packages/sklearn/metrics/_regression.py:483: FutureWarning: 'squared' is deprecated in version 1.4 and will be removed in 1.6. To calculate the root mean squared error, use the function'root_mean_squared_error'.\n",
      "  warnings.warn(\n"
     ]
    },
    {
     "name": "stdout",
     "output_type": "stream",
     "text": [
      "Chla: 5, alpha: 1e-06, best_score: -0.08141078300058091, R2: 0.1939919474080154, RMSE: 5.5148386549070345\n",
      "Chla: r_squared_test: -0.787636151088744, rmse_test: 3.758248959252484, smape_test: 0.9858086706250632\n",
      "--------------------------------------\n",
      "\n",
      "\n",
      "--------------------------------------\n",
      "Training split: 0 to 235, Testing split: 236 to 294\n",
      "Fitting 5 folds for each of 72 candidates, totalling 360 fits\n"
     ]
    },
    {
     "name": "stderr",
     "output_type": "stream",
     "text": [
      "/home/rohinsood/.local/lib/python3.10/site-packages/sklearn/metrics/_regression.py:483: FutureWarning: 'squared' is deprecated in version 1.4 and will be removed in 1.6. To calculate the root mean squared error, use the function'root_mean_squared_error'.\n",
      "  warnings.warn(\n",
      "/home/rohinsood/.local/lib/python3.10/site-packages/sklearn/metrics/_regression.py:483: FutureWarning: 'squared' is deprecated in version 1.4 and will be removed in 1.6. To calculate the root mean squared error, use the function'root_mean_squared_error'.\n",
      "  warnings.warn(\n"
     ]
    },
    {
     "name": "stdout",
     "output_type": "stream",
     "text": [
      "Chla: 5, alpha: 1e-06, best_score: -0.1567788998878717, R2: 0.23876303194060466, RMSE: 4.861463794404115\n",
      "Chla: r_squared_test: 0.14319070345034257, rmse_test: 2.405374546949454, smape_test: 0.7300427378628006\n",
      "--------------------------------------\n",
      "\n",
      "\n",
      "--------------------------------------\n",
      "Training split: 0 to 294, Testing split: 295 to 353\n",
      "Fitting 5 folds for each of 72 candidates, totalling 360 fits\n"
     ]
    },
    {
     "name": "stderr",
     "output_type": "stream",
     "text": [
      "/home/rohinsood/.local/lib/python3.10/site-packages/sklearn/metrics/_regression.py:483: FutureWarning: 'squared' is deprecated in version 1.4 and will be removed in 1.6. To calculate the root mean squared error, use the function'root_mean_squared_error'.\n",
      "  warnings.warn(\n",
      "/home/rohinsood/.local/lib/python3.10/site-packages/sklearn/metrics/_regression.py:483: FutureWarning: 'squared' is deprecated in version 1.4 and will be removed in 1.6. To calculate the root mean squared error, use the function'root_mean_squared_error'.\n",
      "  warnings.warn(\n"
     ]
    },
    {
     "name": "stdout",
     "output_type": "stream",
     "text": [
      "Chla: 8, alpha: 1e-06, best_score: 0.08587922210906987, R2: 0.1815153829554299, RMSE: 4.593814130554328\n",
      "Chla: r_squared_test: 0.10308653530673872, rmse_test: 3.9030715385984567, smape_test: 0.5405281386909829\n",
      "--------------------------------------\n",
      "\n",
      "Chla Finished\n",
      "nvar 10\n",
      "Seed 1\n",
      "\n",
      "--------------------------------------\n",
      "Training split: 0 to 58, Testing split: 59 to 117\n",
      "Fitting 5 folds for each of 72 candidates, totalling 360 fits\n"
     ]
    },
    {
     "name": "stderr",
     "output_type": "stream",
     "text": [
      "/home/rohinsood/.local/lib/python3.10/site-packages/numpy/lib/function_base.py:2897: RuntimeWarning: invalid value encountered in divide\n",
      "  c /= stddev[:, None]\n",
      "/home/rohinsood/.local/lib/python3.10/site-packages/numpy/lib/function_base.py:2898: RuntimeWarning: invalid value encountered in divide\n",
      "  c /= stddev[None, :]\n",
      "/home/rohinsood/.local/lib/python3.10/site-packages/sklearn/metrics/_regression.py:483: FutureWarning: 'squared' is deprecated in version 1.4 and will be removed in 1.6. To calculate the root mean squared error, use the function'root_mean_squared_error'.\n",
      "  warnings.warn(\n",
      "/home/rohinsood/.local/lib/python3.10/site-packages/numpy/lib/function_base.py:2897: RuntimeWarning: invalid value encountered in divide\n",
      "  c /= stddev[:, None]\n",
      "/home/rohinsood/.local/lib/python3.10/site-packages/numpy/lib/function_base.py:2898: RuntimeWarning: invalid value encountered in divide\n",
      "  c /= stddev[None, :]\n",
      "/home/rohinsood/.local/lib/python3.10/site-packages/sklearn/metrics/_regression.py:483: FutureWarning: 'squared' is deprecated in version 1.4 and will be removed in 1.6. To calculate the root mean squared error, use the function'root_mean_squared_error'.\n",
      "  warnings.warn(\n"
     ]
    },
    {
     "name": "stdout",
     "output_type": "stream",
     "text": [
      "Chla: (2, 2), alpha: 0.09999999999999999, best_score: -0.35355136683503446, R2: -0.08625350863756798, RMSE: 8.519626360572248\n",
      "Chla: r_squared_test: -0.3144008268802234, rmse_test: 3.087444340204991, smape_test: 0.7924321212676583\n",
      "--------------------------------------\n",
      "\n",
      "\n",
      "--------------------------------------\n",
      "Training split: 0 to 117, Testing split: 118 to 176\n",
      "Fitting 5 folds for each of 72 candidates, totalling 360 fits\n"
     ]
    },
    {
     "name": "stderr",
     "output_type": "stream",
     "text": [
      "/home/rohinsood/.local/lib/python3.10/site-packages/sklearn/metrics/_regression.py:483: FutureWarning: 'squared' is deprecated in version 1.4 and will be removed in 1.6. To calculate the root mean squared error, use the function'root_mean_squared_error'.\n",
      "  warnings.warn(\n",
      "/home/rohinsood/.local/lib/python3.10/site-packages/sklearn/metrics/_regression.py:483: FutureWarning: 'squared' is deprecated in version 1.4 and will be removed in 1.6. To calculate the root mean squared error, use the function'root_mean_squared_error'.\n",
      "  warnings.warn(\n"
     ]
    },
    {
     "name": "stdout",
     "output_type": "stream",
     "text": [
      "Chla: (6, 6), alpha: 1e-06, best_score: -1.5952182389808403, R2: 0.009306198868283433, RMSE: 6.383263802315784\n",
      "Chla: r_squared_test: 0.0013305437447252988, rmse_test: 5.203186442221912, smape_test: 0.9398408782415206\n",
      "--------------------------------------\n",
      "\n",
      "\n",
      "--------------------------------------\n",
      "Training split: 0 to 176, Testing split: 177 to 235\n",
      "Fitting 5 folds for each of 72 candidates, totalling 360 fits\n"
     ]
    },
    {
     "name": "stderr",
     "output_type": "stream",
     "text": [
      "/home/rohinsood/.local/lib/python3.10/site-packages/sklearn/metrics/_regression.py:483: FutureWarning: 'squared' is deprecated in version 1.4 and will be removed in 1.6. To calculate the root mean squared error, use the function'root_mean_squared_error'.\n",
      "  warnings.warn(\n",
      "/home/rohinsood/.local/lib/python3.10/site-packages/sklearn/metrics/_regression.py:483: FutureWarning: 'squared' is deprecated in version 1.4 and will be removed in 1.6. To calculate the root mean squared error, use the function'root_mean_squared_error'.\n",
      "  warnings.warn(\n"
     ]
    },
    {
     "name": "stdout",
     "output_type": "stream",
     "text": [
      "Chla: 5, alpha: 1e-06, best_score: -0.07467454228870796, R2: 0.04608914171542855, RMSE: 5.9531272426576916\n",
      "Chla: r_squared_test: -0.06740630467660824, rmse_test: 2.9500764529387173, smape_test: 0.8704634166405256\n",
      "--------------------------------------\n",
      "\n",
      "\n",
      "--------------------------------------\n",
      "Training split: 0 to 235, Testing split: 236 to 294\n",
      "Fitting 5 folds for each of 72 candidates, totalling 360 fits\n"
     ]
    },
    {
     "name": "stderr",
     "output_type": "stream",
     "text": [
      "/home/rohinsood/.local/lib/python3.10/site-packages/sklearn/metrics/_regression.py:483: FutureWarning: 'squared' is deprecated in version 1.4 and will be removed in 1.6. To calculate the root mean squared error, use the function'root_mean_squared_error'.\n",
      "  warnings.warn(\n",
      "/home/rohinsood/.local/lib/python3.10/site-packages/sklearn/metrics/_regression.py:483: FutureWarning: 'squared' is deprecated in version 1.4 and will be removed in 1.6. To calculate the root mean squared error, use the function'root_mean_squared_error'.\n",
      "  warnings.warn(\n"
     ]
    },
    {
     "name": "stdout",
     "output_type": "stream",
     "text": [
      "Chla: 5, alpha: 1e-06, best_score: -0.17939191619062406, R2: 0.27806912306016185, RMSE: 4.7358150795394\n",
      "Chla: r_squared_test: 0.08817961078819936, rmse_test: 2.432881290198233, smape_test: 0.7361760700812984\n",
      "--------------------------------------\n",
      "\n",
      "\n",
      "--------------------------------------\n",
      "Training split: 0 to 294, Testing split: 295 to 353\n",
      "Fitting 5 folds for each of 72 candidates, totalling 360 fits\n"
     ]
    },
    {
     "name": "stderr",
     "output_type": "stream",
     "text": [
      "/home/rohinsood/.local/lib/python3.10/site-packages/sklearn/metrics/_regression.py:483: FutureWarning: 'squared' is deprecated in version 1.4 and will be removed in 1.6. To calculate the root mean squared error, use the function'root_mean_squared_error'.\n",
      "  warnings.warn(\n",
      "/home/rohinsood/.local/lib/python3.10/site-packages/sklearn/metrics/_regression.py:483: FutureWarning: 'squared' is deprecated in version 1.4 and will be removed in 1.6. To calculate the root mean squared error, use the function'root_mean_squared_error'.\n",
      "  warnings.warn(\n"
     ]
    },
    {
     "name": "stdout",
     "output_type": "stream",
     "text": [
      "Chla: 4, alpha: 1e-06, best_score: 0.07935123549879415, R2: 0.04893740102210209, RMSE: 4.912198367390523\n",
      "Chla: r_squared_test: 0.06006944461844954, rmse_test: 4.040469480550981, smape_test: 0.5287546507753718\n",
      "--------------------------------------\n",
      "\n",
      "Chla Finished\n",
      "nvar 11\n",
      "Seed 1\n",
      "\n",
      "--------------------------------------\n",
      "Training split: 0 to 58, Testing split: 59 to 117\n",
      "Fitting 5 folds for each of 72 candidates, totalling 360 fits\n"
     ]
    },
    {
     "name": "stderr",
     "output_type": "stream",
     "text": [
      "/home/rohinsood/.local/lib/python3.10/site-packages/numpy/lib/function_base.py:2897: RuntimeWarning: invalid value encountered in divide\n",
      "  c /= stddev[:, None]\n",
      "/home/rohinsood/.local/lib/python3.10/site-packages/numpy/lib/function_base.py:2898: RuntimeWarning: invalid value encountered in divide\n",
      "  c /= stddev[None, :]\n",
      "/home/rohinsood/.local/lib/python3.10/site-packages/sklearn/metrics/_regression.py:483: FutureWarning: 'squared' is deprecated in version 1.4 and will be removed in 1.6. To calculate the root mean squared error, use the function'root_mean_squared_error'.\n",
      "  warnings.warn(\n",
      "/home/rohinsood/.local/lib/python3.10/site-packages/numpy/lib/function_base.py:2897: RuntimeWarning: invalid value encountered in divide\n",
      "  c /= stddev[:, None]\n",
      "/home/rohinsood/.local/lib/python3.10/site-packages/numpy/lib/function_base.py:2898: RuntimeWarning: invalid value encountered in divide\n",
      "  c /= stddev[None, :]\n",
      "/home/rohinsood/.local/lib/python3.10/site-packages/sklearn/metrics/_regression.py:483: FutureWarning: 'squared' is deprecated in version 1.4 and will be removed in 1.6. To calculate the root mean squared error, use the function'root_mean_squared_error'.\n",
      "  warnings.warn(\n"
     ]
    },
    {
     "name": "stdout",
     "output_type": "stream",
     "text": [
      "Chla: (5, 5), alpha: 0.09999999999999999, best_score: -0.29578221646641467, R2: -0.0002471391357961039, RMSE: 8.519626360572248\n",
      "Chla: r_squared_test: -0.016664319718967757, rmse_test: 3.087444340204991, smape_test: 0.7924321212676583\n",
      "--------------------------------------\n",
      "\n",
      "\n",
      "--------------------------------------\n",
      "Training split: 0 to 117, Testing split: 118 to 176\n",
      "Fitting 5 folds for each of 72 candidates, totalling 360 fits\n"
     ]
    },
    {
     "name": "stderr",
     "output_type": "stream",
     "text": [
      "/home/rohinsood/.local/lib/python3.10/site-packages/sklearn/metrics/_regression.py:483: FutureWarning: 'squared' is deprecated in version 1.4 and will be removed in 1.6. To calculate the root mean squared error, use the function'root_mean_squared_error'.\n",
      "  warnings.warn(\n",
      "/home/rohinsood/.local/lib/python3.10/site-packages/sklearn/metrics/_regression.py:483: FutureWarning: 'squared' is deprecated in version 1.4 and will be removed in 1.6. To calculate the root mean squared error, use the function'root_mean_squared_error'.\n",
      "  warnings.warn(\n"
     ]
    },
    {
     "name": "stdout",
     "output_type": "stream",
     "text": [
      "Chla: 4, alpha: 1e-06, best_score: -1.6037525730462163, R2: 0.02171986841022855, RMSE: 6.401864678136001\n",
      "Chla: r_squared_test: 0.00841083311062718, rmse_test: 5.191555971463785, smape_test: 0.9389287362237267\n",
      "--------------------------------------\n",
      "\n",
      "\n",
      "--------------------------------------\n",
      "Training split: 0 to 176, Testing split: 177 to 235\n",
      "Fitting 5 folds for each of 72 candidates, totalling 360 fits\n"
     ]
    },
    {
     "name": "stderr",
     "output_type": "stream",
     "text": [
      "/home/rohinsood/.local/lib/python3.10/site-packages/sklearn/metrics/_regression.py:483: FutureWarning: 'squared' is deprecated in version 1.4 and will be removed in 1.6. To calculate the root mean squared error, use the function'root_mean_squared_error'.\n",
      "  warnings.warn(\n",
      "/home/rohinsood/.local/lib/python3.10/site-packages/sklearn/metrics/_regression.py:483: FutureWarning: 'squared' is deprecated in version 1.4 and will be removed in 1.6. To calculate the root mean squared error, use the function'root_mean_squared_error'.\n",
      "  warnings.warn(\n"
     ]
    },
    {
     "name": "stdout",
     "output_type": "stream",
     "text": [
      "Chla: 10, alpha: 0.09999999999999999, best_score: -0.03700531301249079, R2: 0.26527041573818144, RMSE: 5.278344585629465\n",
      "Chla: r_squared_test: -0.831439232497966, rmse_test: 3.8364529843639166, smape_test: 0.9788017798059788\n",
      "--------------------------------------\n",
      "\n",
      "\n",
      "--------------------------------------\n",
      "Training split: 0 to 235, Testing split: 236 to 294\n",
      "Fitting 5 folds for each of 72 candidates, totalling 360 fits\n"
     ]
    },
    {
     "name": "stderr",
     "output_type": "stream",
     "text": [
      "/home/rohinsood/.local/lib/python3.10/site-packages/sklearn/metrics/_regression.py:483: FutureWarning: 'squared' is deprecated in version 1.4 and will be removed in 1.6. To calculate the root mean squared error, use the function'root_mean_squared_error'.\n",
      "  warnings.warn(\n",
      "/home/rohinsood/.local/lib/python3.10/site-packages/sklearn/metrics/_regression.py:483: FutureWarning: 'squared' is deprecated in version 1.4 and will be removed in 1.6. To calculate the root mean squared error, use the function'root_mean_squared_error'.\n",
      "  warnings.warn(\n"
     ]
    },
    {
     "name": "stdout",
     "output_type": "stream",
     "text": [
      "Chla: (4, 4), alpha: 0.09999999999999999, best_score: -0.2362387116672106, R2: 0.015021566136987907, RMSE: 5.398391966956033\n",
      "Chla: r_squared_test: -0.006192101257094906, rmse_test: 2.4302822408958447, smape_test: 0.7328229148080644\n",
      "--------------------------------------\n",
      "\n",
      "\n",
      "--------------------------------------\n",
      "Training split: 0 to 294, Testing split: 295 to 353\n",
      "Fitting 5 folds for each of 72 candidates, totalling 360 fits\n"
     ]
    },
    {
     "name": "stderr",
     "output_type": "stream",
     "text": [
      "/home/rohinsood/.local/lib/python3.10/site-packages/sklearn/metrics/_regression.py:483: FutureWarning: 'squared' is deprecated in version 1.4 and will be removed in 1.6. To calculate the root mean squared error, use the function'root_mean_squared_error'.\n",
      "  warnings.warn(\n",
      "/home/rohinsood/.local/lib/python3.10/site-packages/sklearn/metrics/_regression.py:483: FutureWarning: 'squared' is deprecated in version 1.4 and will be removed in 1.6. To calculate the root mean squared error, use the function'root_mean_squared_error'.\n",
      "  warnings.warn(\n"
     ]
    },
    {
     "name": "stdout",
     "output_type": "stream",
     "text": [
      "Chla: 5, alpha: 1e-06, best_score: 0.10165952512643339, R2: 0.2394563318517442, RMSE: 4.450976734615601\n",
      "Chla: r_squared_test: 0.08567821451712498, rmse_test: 3.936869239777343, smape_test: 0.5522255752377224\n",
      "--------------------------------------\n",
      "\n",
      "Chla Finished\n",
      "nvar 12\n",
      "Seed 1\n",
      "\n",
      "--------------------------------------\n",
      "Training split: 0 to 58, Testing split: 59 to 117\n",
      "Fitting 5 folds for each of 72 candidates, totalling 360 fits\n"
     ]
    },
    {
     "name": "stderr",
     "output_type": "stream",
     "text": [
      "/home/rohinsood/.local/lib/python3.10/site-packages/sklearn/neural_network/_multilayer_perceptron.py:691: ConvergenceWarning: Stochastic Optimizer: Maximum iterations (10000) reached and the optimization hasn't converged yet.\n",
      "  warnings.warn(\n",
      "/home/rohinsood/.local/lib/python3.10/site-packages/sklearn/neural_network/_multilayer_perceptron.py:691: ConvergenceWarning: Stochastic Optimizer: Maximum iterations (10000) reached and the optimization hasn't converged yet.\n",
      "  warnings.warn(\n",
      "/home/rohinsood/.local/lib/python3.10/site-packages/sklearn/neural_network/_multilayer_perceptron.py:691: ConvergenceWarning: Stochastic Optimizer: Maximum iterations (10000) reached and the optimization hasn't converged yet.\n",
      "  warnings.warn(\n",
      "/home/rohinsood/.local/lib/python3.10/site-packages/sklearn/neural_network/_multilayer_perceptron.py:691: ConvergenceWarning: Stochastic Optimizer: Maximum iterations (10000) reached and the optimization hasn't converged yet.\n",
      "  warnings.warn(\n",
      "/home/rohinsood/.local/lib/python3.10/site-packages/sklearn/neural_network/_multilayer_perceptron.py:691: ConvergenceWarning: Stochastic Optimizer: Maximum iterations (10000) reached and the optimization hasn't converged yet.\n",
      "  warnings.warn(\n",
      "/home/rohinsood/.local/lib/python3.10/site-packages/numpy/lib/function_base.py:2897: RuntimeWarning: invalid value encountered in divide\n",
      "  c /= stddev[:, None]\n",
      "/home/rohinsood/.local/lib/python3.10/site-packages/numpy/lib/function_base.py:2898: RuntimeWarning: invalid value encountered in divide\n",
      "  c /= stddev[None, :]\n",
      "/home/rohinsood/.local/lib/python3.10/site-packages/sklearn/metrics/_regression.py:483: FutureWarning: 'squared' is deprecated in version 1.4 and will be removed in 1.6. To calculate the root mean squared error, use the function'root_mean_squared_error'.\n",
      "  warnings.warn(\n",
      "/home/rohinsood/.local/lib/python3.10/site-packages/numpy/lib/function_base.py:2897: RuntimeWarning: invalid value encountered in divide\n",
      "  c /= stddev[:, None]\n",
      "/home/rohinsood/.local/lib/python3.10/site-packages/numpy/lib/function_base.py:2898: RuntimeWarning: invalid value encountered in divide\n",
      "  c /= stddev[None, :]\n",
      "/home/rohinsood/.local/lib/python3.10/site-packages/sklearn/metrics/_regression.py:483: FutureWarning: 'squared' is deprecated in version 1.4 and will be removed in 1.6. To calculate the root mean squared error, use the function'root_mean_squared_error'.\n",
      "  warnings.warn(\n"
     ]
    },
    {
     "name": "stdout",
     "output_type": "stream",
     "text": [
      "Chla: (6, 6), alpha: 1e-06, best_score: -0.6575771090319931, R2: 0.006914090633325154, RMSE: 8.519626360572248\n",
      "Chla: r_squared_test: 0.045902066325213764, rmse_test: 3.087444340204991, smape_test: 0.7924321212676583\n",
      "--------------------------------------\n",
      "\n",
      "\n",
      "--------------------------------------\n",
      "Training split: 0 to 117, Testing split: 118 to 176\n",
      "Fitting 5 folds for each of 72 candidates, totalling 360 fits\n"
     ]
    },
    {
     "name": "stderr",
     "output_type": "stream",
     "text": [
      "/home/rohinsood/.local/lib/python3.10/site-packages/sklearn/metrics/_regression.py:483: FutureWarning: 'squared' is deprecated in version 1.4 and will be removed in 1.6. To calculate the root mean squared error, use the function'root_mean_squared_error'.\n",
      "  warnings.warn(\n",
      "/home/rohinsood/.local/lib/python3.10/site-packages/sklearn/metrics/_regression.py:483: FutureWarning: 'squared' is deprecated in version 1.4 and will be removed in 1.6. To calculate the root mean squared error, use the function'root_mean_squared_error'.\n",
      "  warnings.warn(\n"
     ]
    },
    {
     "name": "stdout",
     "output_type": "stream",
     "text": [
      "Chla: (6, 6), alpha: 1e-06, best_score: -0.7623113673742157, R2: 0.0025310838934143876, RMSE: 6.395422756209697\n",
      "Chla: r_squared_test: 0.0019140837227324958, rmse_test: 5.203613282020315, smape_test: 0.9355195695759781\n",
      "--------------------------------------\n",
      "\n",
      "\n",
      "--------------------------------------\n",
      "Training split: 0 to 176, Testing split: 177 to 235\n",
      "Fitting 5 folds for each of 72 candidates, totalling 360 fits\n"
     ]
    },
    {
     "name": "stderr",
     "output_type": "stream",
     "text": [
      "/home/rohinsood/.local/lib/python3.10/site-packages/sklearn/metrics/_regression.py:483: FutureWarning: 'squared' is deprecated in version 1.4 and will be removed in 1.6. To calculate the root mean squared error, use the function'root_mean_squared_error'.\n",
      "  warnings.warn(\n",
      "/home/rohinsood/.local/lib/python3.10/site-packages/sklearn/metrics/_regression.py:483: FutureWarning: 'squared' is deprecated in version 1.4 and will be removed in 1.6. To calculate the root mean squared error, use the function'root_mean_squared_error'.\n",
      "  warnings.warn(\n"
     ]
    },
    {
     "name": "stdout",
     "output_type": "stream",
     "text": [
      "Chla: 10, alpha: 0.001, best_score: -0.04135372754554338, R2: 0.09585835586158609, RMSE: 5.771882619219315\n",
      "Chla: r_squared_test: -0.678781419109634, rmse_test: 3.5405590404868694, smape_test: 0.9728082283806605\n",
      "--------------------------------------\n",
      "\n",
      "\n",
      "--------------------------------------\n",
      "Training split: 0 to 235, Testing split: 236 to 294\n",
      "Fitting 5 folds for each of 72 candidates, totalling 360 fits\n"
     ]
    },
    {
     "name": "stderr",
     "output_type": "stream",
     "text": [
      "/home/rohinsood/.local/lib/python3.10/site-packages/sklearn/metrics/_regression.py:483: FutureWarning: 'squared' is deprecated in version 1.4 and will be removed in 1.6. To calculate the root mean squared error, use the function'root_mean_squared_error'.\n",
      "  warnings.warn(\n",
      "/home/rohinsood/.local/lib/python3.10/site-packages/sklearn/metrics/_regression.py:483: FutureWarning: 'squared' is deprecated in version 1.4 and will be removed in 1.6. To calculate the root mean squared error, use the function'root_mean_squared_error'.\n",
      "  warnings.warn(\n"
     ]
    },
    {
     "name": "stdout",
     "output_type": "stream",
     "text": [
      "Chla: 4, alpha: 1e-06, best_score: -0.259965770717125, R2: 0.23018158972718272, RMSE: 4.889627240451275\n",
      "Chla: r_squared_test: 0.09003031360080893, rmse_test: 2.440752796962003, smape_test: 0.7430914940855499\n",
      "--------------------------------------\n",
      "\n",
      "\n",
      "--------------------------------------\n",
      "Training split: 0 to 294, Testing split: 295 to 353\n",
      "Fitting 5 folds for each of 72 candidates, totalling 360 fits\n"
     ]
    },
    {
     "name": "stderr",
     "output_type": "stream",
     "text": [
      "/home/rohinsood/.local/lib/python3.10/site-packages/sklearn/metrics/_regression.py:483: FutureWarning: 'squared' is deprecated in version 1.4 and will be removed in 1.6. To calculate the root mean squared error, use the function'root_mean_squared_error'.\n",
      "  warnings.warn(\n",
      "/home/rohinsood/.local/lib/python3.10/site-packages/sklearn/metrics/_regression.py:483: FutureWarning: 'squared' is deprecated in version 1.4 and will be removed in 1.6. To calculate the root mean squared error, use the function'root_mean_squared_error'.\n",
      "  warnings.warn(\n"
     ]
    },
    {
     "name": "stdout",
     "output_type": "stream",
     "text": [
      "Chla: 4, alpha: 1e-06, best_score: 0.0946138301211447, R2: 0.2129032848687129, RMSE: 4.530206009403458\n",
      "Chla: r_squared_test: 0.09468251219409274, rmse_test: 3.9111911414703995, smape_test: 0.5432989992229326\n",
      "--------------------------------------\n",
      "\n",
      "Chla Finished\n",
      "\n",
      "SS Started\n",
      "nvar 4\n",
      "Seed 1\n",
      "\n",
      "--------------------------------------\n",
      "Training split: 0 to 58, Testing split: 59 to 117\n",
      "Fitting 5 folds for each of 72 candidates, totalling 360 fits\n"
     ]
    },
    {
     "name": "stderr",
     "output_type": "stream",
     "text": [
      "/home/rohinsood/.local/lib/python3.10/site-packages/sklearn/metrics/_regression.py:483: FutureWarning: 'squared' is deprecated in version 1.4 and will be removed in 1.6. To calculate the root mean squared error, use the function'root_mean_squared_error'.\n",
      "  warnings.warn(\n",
      "/home/rohinsood/.local/lib/python3.10/site-packages/sklearn/metrics/_regression.py:483: FutureWarning: 'squared' is deprecated in version 1.4 and will be removed in 1.6. To calculate the root mean squared error, use the function'root_mean_squared_error'.\n",
      "  warnings.warn(\n"
     ]
    },
    {
     "name": "stdout",
     "output_type": "stream",
     "text": [
      "SS: 8, alpha: 1e-06, best_score: -0.9244857696649948, R2: 0.340560871499792, RMSE: 2.270953359508469\n",
      "SS: r_squared_test: -0.5417106069868824, rmse_test: 2.3959007367208343, smape_test: 0.4119350101660468\n",
      "--------------------------------------\n",
      "\n",
      "\n",
      "--------------------------------------\n",
      "Training split: 0 to 117, Testing split: 118 to 176\n",
      "Fitting 5 folds for each of 72 candidates, totalling 360 fits\n"
     ]
    },
    {
     "name": "stderr",
     "output_type": "stream",
     "text": [
      "/home/rohinsood/.local/lib/python3.10/site-packages/sklearn/metrics/_regression.py:483: FutureWarning: 'squared' is deprecated in version 1.4 and will be removed in 1.6. To calculate the root mean squared error, use the function'root_mean_squared_error'.\n",
      "  warnings.warn(\n",
      "/home/rohinsood/.local/lib/python3.10/site-packages/sklearn/metrics/_regression.py:483: FutureWarning: 'squared' is deprecated in version 1.4 and will be removed in 1.6. To calculate the root mean squared error, use the function'root_mean_squared_error'.\n",
      "  warnings.warn(\n"
     ]
    },
    {
     "name": "stdout",
     "output_type": "stream",
     "text": [
      "SS: 8, alpha: 1e-06, best_score: -0.08144086511870892, R2: 0.25993716119641475, RMSE: 2.1651769519999142\n",
      "SS: r_squared_test: -0.4827411016237455, rmse_test: 7.615041047353588, smape_test: 0.5560796921277498\n",
      "--------------------------------------\n",
      "\n",
      "\n",
      "--------------------------------------\n",
      "Training split: 0 to 176, Testing split: 177 to 235\n",
      "Fitting 5 folds for each of 72 candidates, totalling 360 fits\n"
     ]
    },
    {
     "name": "stderr",
     "output_type": "stream",
     "text": [
      "/home/rohinsood/.local/lib/python3.10/site-packages/numpy/lib/function_base.py:2897: RuntimeWarning: invalid value encountered in divide\n",
      "  c /= stddev[:, None]\n",
      "/home/rohinsood/.local/lib/python3.10/site-packages/numpy/lib/function_base.py:2898: RuntimeWarning: invalid value encountered in divide\n",
      "  c /= stddev[None, :]\n",
      "/home/rohinsood/.local/lib/python3.10/site-packages/sklearn/metrics/_regression.py:483: FutureWarning: 'squared' is deprecated in version 1.4 and will be removed in 1.6. To calculate the root mean squared error, use the function'root_mean_squared_error'.\n",
      "  warnings.warn(\n",
      "/home/rohinsood/.local/lib/python3.10/site-packages/sklearn/metrics/_regression.py:483: FutureWarning: 'squared' is deprecated in version 1.4 and will be removed in 1.6. To calculate the root mean squared error, use the function'root_mean_squared_error'.\n",
      "  warnings.warn(\n"
     ]
    },
    {
     "name": "stdout",
     "output_type": "stream",
     "text": [
      "SS: 5, alpha: 0.09999999999999999, best_score: -0.185207036776412, R2: -0.06761259915326989, RMSE: 4.85175267031965\n",
      "SS: r_squared_test: -0.29971067142530705, rmse_test: 4.8197107984201635, smape_test: 0.38611479166266777\n",
      "--------------------------------------\n",
      "\n",
      "\n",
      "--------------------------------------\n",
      "Training split: 0 to 235, Testing split: 236 to 294\n",
      "Fitting 5 folds for each of 72 candidates, totalling 360 fits\n"
     ]
    },
    {
     "name": "stderr",
     "output_type": "stream",
     "text": [
      "/home/rohinsood/.local/lib/python3.10/site-packages/sklearn/metrics/_regression.py:483: FutureWarning: 'squared' is deprecated in version 1.4 and will be removed in 1.6. To calculate the root mean squared error, use the function'root_mean_squared_error'.\n",
      "  warnings.warn(\n",
      "/home/rohinsood/.local/lib/python3.10/site-packages/sklearn/metrics/_regression.py:483: FutureWarning: 'squared' is deprecated in version 1.4 and will be removed in 1.6. To calculate the root mean squared error, use the function'root_mean_squared_error'.\n",
      "  warnings.warn(\n"
     ]
    },
    {
     "name": "stdout",
     "output_type": "stream",
     "text": [
      "SS: 6, alpha: 0.01, best_score: -0.5292624742175102, R2: 0.13786011985494673, RMSE: 4.550238303218437\n",
      "SS: r_squared_test: 0.07939633526756562, rmse_test: 6.602063804697883, smape_test: 0.47176220414440073\n",
      "--------------------------------------\n",
      "\n",
      "\n",
      "--------------------------------------\n",
      "Training split: 0 to 294, Testing split: 295 to 353\n",
      "Fitting 5 folds for each of 72 candidates, totalling 360 fits\n"
     ]
    },
    {
     "name": "stderr",
     "output_type": "stream",
     "text": [
      "/home/rohinsood/.local/lib/python3.10/site-packages/numpy/lib/function_base.py:2897: RuntimeWarning: invalid value encountered in divide\n",
      "  c /= stddev[:, None]\n",
      "/home/rohinsood/.local/lib/python3.10/site-packages/numpy/lib/function_base.py:2898: RuntimeWarning: invalid value encountered in divide\n",
      "  c /= stddev[None, :]\n",
      "/home/rohinsood/.local/lib/python3.10/site-packages/sklearn/metrics/_regression.py:483: FutureWarning: 'squared' is deprecated in version 1.4 and will be removed in 1.6. To calculate the root mean squared error, use the function'root_mean_squared_error'.\n",
      "  warnings.warn(\n",
      "/home/rohinsood/.local/lib/python3.10/site-packages/numpy/lib/function_base.py:2897: RuntimeWarning: invalid value encountered in divide\n",
      "  c /= stddev[:, None]\n",
      "/home/rohinsood/.local/lib/python3.10/site-packages/numpy/lib/function_base.py:2898: RuntimeWarning: invalid value encountered in divide\n",
      "  c /= stddev[None, :]\n",
      "/home/rohinsood/.local/lib/python3.10/site-packages/sklearn/metrics/_regression.py:483: FutureWarning: 'squared' is deprecated in version 1.4 and will be removed in 1.6. To calculate the root mean squared error, use the function'root_mean_squared_error'.\n",
      "  warnings.warn(\n"
     ]
    },
    {
     "name": "stdout",
     "output_type": "stream",
     "text": [
      "SS: 5, alpha: 0.09999999999999999, best_score: -0.4544051065875873, R2: -0.020850128975095084, RMSE: 5.313223993960458\n",
      "SS: r_squared_test: -0.04826078086438135, rmse_test: 5.756150711549899, smape_test: 0.8924553787505118\n",
      "--------------------------------------\n",
      "\n",
      "SS Finished\n",
      "nvar 5\n",
      "Seed 1\n",
      "\n",
      "--------------------------------------\n",
      "Training split: 0 to 58, Testing split: 59 to 117\n",
      "Fitting 5 folds for each of 72 candidates, totalling 360 fits\n"
     ]
    },
    {
     "name": "stderr",
     "output_type": "stream",
     "text": [
      "/home/rohinsood/.local/lib/python3.10/site-packages/sklearn/metrics/_regression.py:483: FutureWarning: 'squared' is deprecated in version 1.4 and will be removed in 1.6. To calculate the root mean squared error, use the function'root_mean_squared_error'.\n",
      "  warnings.warn(\n",
      "/home/rohinsood/.local/lib/python3.10/site-packages/sklearn/metrics/_regression.py:483: FutureWarning: 'squared' is deprecated in version 1.4 and will be removed in 1.6. To calculate the root mean squared error, use the function'root_mean_squared_error'.\n",
      "  warnings.warn(\n"
     ]
    },
    {
     "name": "stdout",
     "output_type": "stream",
     "text": [
      "SS: 4, alpha: 0.01, best_score: -0.8611248694818171, R2: 0.2813990118351464, RMSE: 2.322355521139808\n",
      "SS: r_squared_test: -0.4719289540340508, rmse_test: 2.4022866080601117, smape_test: 0.41164732384033875\n",
      "--------------------------------------\n",
      "\n",
      "\n",
      "--------------------------------------\n",
      "Training split: 0 to 117, Testing split: 118 to 176\n",
      "Fitting 5 folds for each of 72 candidates, totalling 360 fits\n"
     ]
    },
    {
     "name": "stderr",
     "output_type": "stream",
     "text": [
      "/home/rohinsood/.local/lib/python3.10/site-packages/sklearn/metrics/_regression.py:483: FutureWarning: 'squared' is deprecated in version 1.4 and will be removed in 1.6. To calculate the root mean squared error, use the function'root_mean_squared_error'.\n",
      "  warnings.warn(\n",
      "/home/rohinsood/.local/lib/python3.10/site-packages/sklearn/metrics/_regression.py:483: FutureWarning: 'squared' is deprecated in version 1.4 and will be removed in 1.6. To calculate the root mean squared error, use the function'root_mean_squared_error'.\n",
      "  warnings.warn(\n"
     ]
    },
    {
     "name": "stdout",
     "output_type": "stream",
     "text": [
      "SS: 8, alpha: 1e-06, best_score: -0.061918737254678155, R2: 0.12752105417225468, RMSE: 2.27620945856891\n",
      "SS: r_squared_test: -0.7033053732043344, rmse_test: 8.155209564810958, smape_test: 0.6511585423990464\n",
      "--------------------------------------\n",
      "\n",
      "\n",
      "--------------------------------------\n",
      "Training split: 0 to 176, Testing split: 177 to 235\n",
      "Fitting 5 folds for each of 72 candidates, totalling 360 fits\n"
     ]
    },
    {
     "name": "stderr",
     "output_type": "stream",
     "text": [
      "/home/rohinsood/.local/lib/python3.10/site-packages/sklearn/metrics/_regression.py:483: FutureWarning: 'squared' is deprecated in version 1.4 and will be removed in 1.6. To calculate the root mean squared error, use the function'root_mean_squared_error'.\n",
      "  warnings.warn(\n",
      "/home/rohinsood/.local/lib/python3.10/site-packages/sklearn/metrics/_regression.py:483: FutureWarning: 'squared' is deprecated in version 1.4 and will be removed in 1.6. To calculate the root mean squared error, use the function'root_mean_squared_error'.\n",
      "  warnings.warn(\n"
     ]
    },
    {
     "name": "stdout",
     "output_type": "stream",
     "text": [
      "SS: 4, alpha: 1e-06, best_score: -0.08886398301354408, R2: 0.5050759785735512, RMSE: 3.883492569909013\n",
      "SS: r_squared_test: -0.2525135847302129, rmse_test: 5.160288319541752, smape_test: 0.5294901206168574\n",
      "--------------------------------------\n",
      "\n",
      "\n",
      "--------------------------------------\n",
      "Training split: 0 to 235, Testing split: 236 to 294\n",
      "Fitting 5 folds for each of 72 candidates, totalling 360 fits\n"
     ]
    },
    {
     "name": "stderr",
     "output_type": "stream",
     "text": [
      "/home/rohinsood/.local/lib/python3.10/site-packages/sklearn/metrics/_regression.py:483: FutureWarning: 'squared' is deprecated in version 1.4 and will be removed in 1.6. To calculate the root mean squared error, use the function'root_mean_squared_error'.\n",
      "  warnings.warn(\n",
      "/home/rohinsood/.local/lib/python3.10/site-packages/sklearn/metrics/_regression.py:483: FutureWarning: 'squared' is deprecated in version 1.4 and will be removed in 1.6. To calculate the root mean squared error, use the function'root_mean_squared_error'.\n",
      "  warnings.warn(\n"
     ]
    },
    {
     "name": "stdout",
     "output_type": "stream",
     "text": [
      "SS: 8, alpha: 1e-06, best_score: -0.5083347088596147, R2: -0.1160464908314891, RMSE: 4.831038924190526\n",
      "SS: r_squared_test: -0.122308311057572, rmse_test: 6.9165838701781714, smape_test: 0.4735699007231162\n",
      "--------------------------------------\n",
      "\n",
      "\n",
      "--------------------------------------\n",
      "Training split: 0 to 294, Testing split: 295 to 353\n",
      "Fitting 5 folds for each of 72 candidates, totalling 360 fits\n"
     ]
    },
    {
     "name": "stderr",
     "output_type": "stream",
     "text": [
      "/home/rohinsood/.local/lib/python3.10/site-packages/sklearn/metrics/_regression.py:483: FutureWarning: 'squared' is deprecated in version 1.4 and will be removed in 1.6. To calculate the root mean squared error, use the function'root_mean_squared_error'.\n",
      "  warnings.warn(\n",
      "/home/rohinsood/.local/lib/python3.10/site-packages/sklearn/metrics/_regression.py:483: FutureWarning: 'squared' is deprecated in version 1.4 and will be removed in 1.6. To calculate the root mean squared error, use the function'root_mean_squared_error'.\n",
      "  warnings.warn(\n"
     ]
    },
    {
     "name": "stdout",
     "output_type": "stream",
     "text": [
      "SS: 4, alpha: 1e-06, best_score: -0.31795731014456013, R2: 0.2667608110642774, RMSE: 4.710864325257456\n",
      "SS: r_squared_test: 0.19679734157344242, rmse_test: 5.148302523827015, smape_test: 0.8715303441399124\n",
      "--------------------------------------\n",
      "\n",
      "SS Finished\n",
      "nvar 6\n",
      "Seed 1\n",
      "\n",
      "--------------------------------------\n",
      "Training split: 0 to 58, Testing split: 59 to 117\n",
      "Fitting 5 folds for each of 72 candidates, totalling 360 fits\n"
     ]
    },
    {
     "name": "stderr",
     "output_type": "stream",
     "text": [
      "/home/rohinsood/.local/lib/python3.10/site-packages/sklearn/metrics/_regression.py:483: FutureWarning: 'squared' is deprecated in version 1.4 and will be removed in 1.6. To calculate the root mean squared error, use the function'root_mean_squared_error'.\n",
      "  warnings.warn(\n",
      "/home/rohinsood/.local/lib/python3.10/site-packages/sklearn/metrics/_regression.py:483: FutureWarning: 'squared' is deprecated in version 1.4 and will be removed in 1.6. To calculate the root mean squared error, use the function'root_mean_squared_error'.\n",
      "  warnings.warn(\n"
     ]
    },
    {
     "name": "stdout",
     "output_type": "stream",
     "text": [
      "SS: (4, 4), alpha: 1e-06, best_score: -1.947129609506408, R2: -0.01928273555292881, RMSE: 2.430906758847346\n",
      "SS: r_squared_test: -0.35854656001678453, rmse_test: 2.3947929005414577, smape_test: 0.40507023402157305\n",
      "--------------------------------------\n",
      "\n",
      "\n",
      "--------------------------------------\n",
      "Training split: 0 to 117, Testing split: 118 to 176\n",
      "Fitting 5 folds for each of 72 candidates, totalling 360 fits\n"
     ]
    },
    {
     "name": "stderr",
     "output_type": "stream",
     "text": [
      "/home/rohinsood/.local/lib/python3.10/site-packages/sklearn/metrics/_regression.py:483: FutureWarning: 'squared' is deprecated in version 1.4 and will be removed in 1.6. To calculate the root mean squared error, use the function'root_mean_squared_error'.\n",
      "  warnings.warn(\n",
      "/home/rohinsood/.local/lib/python3.10/site-packages/sklearn/metrics/_regression.py:483: FutureWarning: 'squared' is deprecated in version 1.4 and will be removed in 1.6. To calculate the root mean squared error, use the function'root_mean_squared_error'.\n",
      "  warnings.warn(\n"
     ]
    },
    {
     "name": "stdout",
     "output_type": "stream",
     "text": [
      "SS: 4, alpha: 0.09999999999999999, best_score: -0.023794321195154212, R2: 0.25649059668836816, RMSE: 2.1718393090644423\n",
      "SS: r_squared_test: -0.49100799294678876, rmse_test: 7.636240032676475, smape_test: 0.558618942423947\n",
      "--------------------------------------\n",
      "\n",
      "\n",
      "--------------------------------------\n",
      "Training split: 0 to 176, Testing split: 177 to 235\n",
      "Fitting 5 folds for each of 72 candidates, totalling 360 fits\n"
     ]
    },
    {
     "name": "stderr",
     "output_type": "stream",
     "text": [
      "/home/rohinsood/.local/lib/python3.10/site-packages/sklearn/metrics/_regression.py:483: FutureWarning: 'squared' is deprecated in version 1.4 and will be removed in 1.6. To calculate the root mean squared error, use the function'root_mean_squared_error'.\n",
      "  warnings.warn(\n",
      "/home/rohinsood/.local/lib/python3.10/site-packages/sklearn/metrics/_regression.py:483: FutureWarning: 'squared' is deprecated in version 1.4 and will be removed in 1.6. To calculate the root mean squared error, use the function'root_mean_squared_error'.\n",
      "  warnings.warn(\n"
     ]
    },
    {
     "name": "stdout",
     "output_type": "stream",
     "text": [
      "SS: 4, alpha: 0.01, best_score: -0.20727884356273368, R2: 0.5099597905022918, RMSE: 3.8738768429339574\n",
      "SS: r_squared_test: -0.35896746670408963, rmse_test: 5.37510899354597, smape_test: 0.54779759626022\n",
      "--------------------------------------\n",
      "\n",
      "\n",
      "--------------------------------------\n",
      "Training split: 0 to 235, Testing split: 236 to 294\n",
      "Fitting 5 folds for each of 72 candidates, totalling 360 fits\n"
     ]
    },
    {
     "name": "stderr",
     "output_type": "stream",
     "text": [
      "/home/rohinsood/.local/lib/python3.10/site-packages/sklearn/metrics/_regression.py:483: FutureWarning: 'squared' is deprecated in version 1.4 and will be removed in 1.6. To calculate the root mean squared error, use the function'root_mean_squared_error'.\n",
      "  warnings.warn(\n",
      "/home/rohinsood/.local/lib/python3.10/site-packages/sklearn/metrics/_regression.py:483: FutureWarning: 'squared' is deprecated in version 1.4 and will be removed in 1.6. To calculate the root mean squared error, use the function'root_mean_squared_error'.\n",
      "  warnings.warn(\n"
     ]
    },
    {
     "name": "stdout",
     "output_type": "stream",
     "text": [
      "SS: 10, alpha: 0.09999999999999999, best_score: -0.582934702229174, R2: 0.11067686755013706, RMSE: 4.606382833794265\n",
      "SS: r_squared_test: 0.10174338302648822, rmse_test: 6.5383188499092, smape_test: 0.46464182535259785\n",
      "--------------------------------------\n",
      "\n",
      "\n",
      "--------------------------------------\n",
      "Training split: 0 to 294, Testing split: 295 to 353\n",
      "Fitting 5 folds for each of 72 candidates, totalling 360 fits\n"
     ]
    },
    {
     "name": "stderr",
     "output_type": "stream",
     "text": [
      "/home/rohinsood/.local/lib/python3.10/site-packages/sklearn/metrics/_regression.py:483: FutureWarning: 'squared' is deprecated in version 1.4 and will be removed in 1.6. To calculate the root mean squared error, use the function'root_mean_squared_error'.\n",
      "  warnings.warn(\n",
      "/home/rohinsood/.local/lib/python3.10/site-packages/sklearn/metrics/_regression.py:483: FutureWarning: 'squared' is deprecated in version 1.4 and will be removed in 1.6. To calculate the root mean squared error, use the function'root_mean_squared_error'.\n",
      "  warnings.warn(\n"
     ]
    },
    {
     "name": "stdout",
     "output_type": "stream",
     "text": [
      "SS: (10, 10), alpha: 0.09999999999999999, best_score: -0.3169163650400154, R2: 0.01001651157228145, RMSE: 5.287214718423741\n",
      "SS: r_squared_test: -0.06787799787572202, rmse_test: 5.727429101156208, smape_test: 0.8913205427387721\n",
      "--------------------------------------\n",
      "\n",
      "SS Finished\n",
      "nvar 7\n",
      "Seed 1\n",
      "\n",
      "--------------------------------------\n",
      "Training split: 0 to 58, Testing split: 59 to 117\n",
      "Fitting 5 folds for each of 72 candidates, totalling 360 fits\n"
     ]
    },
    {
     "name": "stderr",
     "output_type": "stream",
     "text": [
      "/home/rohinsood/.local/lib/python3.10/site-packages/sklearn/metrics/_regression.py:483: FutureWarning: 'squared' is deprecated in version 1.4 and will be removed in 1.6. To calculate the root mean squared error, use the function'root_mean_squared_error'.\n",
      "  warnings.warn(\n",
      "/home/rohinsood/.local/lib/python3.10/site-packages/sklearn/metrics/_regression.py:483: FutureWarning: 'squared' is deprecated in version 1.4 and will be removed in 1.6. To calculate the root mean squared error, use the function'root_mean_squared_error'.\n",
      "  warnings.warn(\n"
     ]
    },
    {
     "name": "stdout",
     "output_type": "stream",
     "text": [
      "SS: 6, alpha: 0.09999999999999999, best_score: -3.4053649363663085, R2: 0.07993016456524638, RMSE: 2.4250906307064266\n",
      "SS: r_squared_test: -0.5380285274641823, rmse_test: 2.3947375798644157, smape_test: 0.4048460420622516\n",
      "--------------------------------------\n",
      "\n",
      "\n",
      "--------------------------------------\n",
      "Training split: 0 to 117, Testing split: 118 to 176\n",
      "Fitting 5 folds for each of 72 candidates, totalling 360 fits\n"
     ]
    },
    {
     "name": "stderr",
     "output_type": "stream",
     "text": [
      "/home/rohinsood/.local/lib/python3.10/site-packages/sklearn/metrics/_regression.py:483: FutureWarning: 'squared' is deprecated in version 1.4 and will be removed in 1.6. To calculate the root mean squared error, use the function'root_mean_squared_error'.\n",
      "  warnings.warn(\n",
      "/home/rohinsood/.local/lib/python3.10/site-packages/numpy/lib/function_base.py:2897: RuntimeWarning: invalid value encountered in divide\n",
      "  c /= stddev[:, None]\n",
      "/home/rohinsood/.local/lib/python3.10/site-packages/numpy/lib/function_base.py:2898: RuntimeWarning: invalid value encountered in divide\n",
      "  c /= stddev[None, :]\n",
      "/home/rohinsood/.local/lib/python3.10/site-packages/sklearn/metrics/_regression.py:483: FutureWarning: 'squared' is deprecated in version 1.4 and will be removed in 1.6. To calculate the root mean squared error, use the function'root_mean_squared_error'.\n",
      "  warnings.warn(\n"
     ]
    },
    {
     "name": "stdout",
     "output_type": "stream",
     "text": [
      "SS: 2, alpha: 1e-06, best_score: -0.056880943540666126, R2: -0.1733546750522239, RMSE: 2.342465627686284\n",
      "SS: r_squared_test: -1.0953127157150302, rmse_test: 8.361322950830099, smape_test: 0.6817601578802833\n",
      "--------------------------------------\n",
      "\n",
      "\n",
      "--------------------------------------\n",
      "Training split: 0 to 176, Testing split: 177 to 235\n",
      "Fitting 5 folds for each of 72 candidates, totalling 360 fits\n"
     ]
    },
    {
     "name": "stderr",
     "output_type": "stream",
     "text": [
      "/home/rohinsood/.local/lib/python3.10/site-packages/sklearn/metrics/_regression.py:483: FutureWarning: 'squared' is deprecated in version 1.4 and will be removed in 1.6. To calculate the root mean squared error, use the function'root_mean_squared_error'.\n",
      "  warnings.warn(\n",
      "/home/rohinsood/.local/lib/python3.10/site-packages/sklearn/metrics/_regression.py:483: FutureWarning: 'squared' is deprecated in version 1.4 and will be removed in 1.6. To calculate the root mean squared error, use the function'root_mean_squared_error'.\n",
      "  warnings.warn(\n"
     ]
    },
    {
     "name": "stdout",
     "output_type": "stream",
     "text": [
      "SS: 10, alpha: 1e-06, best_score: -0.23546751165850816, R2: 0.4830128468946068, RMSE: 3.907478431870585\n",
      "SS: r_squared_test: 0.027477315459789264, rmse_test: 4.547444695431801, smape_test: 0.46634679466327195\n",
      "--------------------------------------\n",
      "\n",
      "\n",
      "--------------------------------------\n",
      "Training split: 0 to 235, Testing split: 236 to 294\n",
      "Fitting 5 folds for each of 72 candidates, totalling 360 fits\n"
     ]
    },
    {
     "name": "stderr",
     "output_type": "stream",
     "text": [
      "/home/rohinsood/.local/lib/python3.10/site-packages/sklearn/metrics/_regression.py:483: FutureWarning: 'squared' is deprecated in version 1.4 and will be removed in 1.6. To calculate the root mean squared error, use the function'root_mean_squared_error'.\n",
      "  warnings.warn(\n",
      "/home/rohinsood/.local/lib/python3.10/site-packages/sklearn/metrics/_regression.py:483: FutureWarning: 'squared' is deprecated in version 1.4 and will be removed in 1.6. To calculate the root mean squared error, use the function'root_mean_squared_error'.\n",
      "  warnings.warn(\n"
     ]
    },
    {
     "name": "stdout",
     "output_type": "stream",
     "text": [
      "SS: 4, alpha: 1e-06, best_score: -0.582815102800905, R2: 0.1828535167498625, RMSE: 4.508928716896017\n",
      "SS: r_squared_test: 0.12080626694332863, rmse_test: 6.493831979489108, smape_test: 0.4742714111752117\n",
      "--------------------------------------\n",
      "\n",
      "\n",
      "--------------------------------------\n",
      "Training split: 0 to 294, Testing split: 295 to 353\n",
      "Fitting 5 folds for each of 72 candidates, totalling 360 fits\n"
     ]
    },
    {
     "name": "stderr",
     "output_type": "stream",
     "text": [
      "/home/rohinsood/.local/lib/python3.10/site-packages/sklearn/metrics/_regression.py:483: FutureWarning: 'squared' is deprecated in version 1.4 and will be removed in 1.6. To calculate the root mean squared error, use the function'root_mean_squared_error'.\n",
      "  warnings.warn(\n",
      "/home/rohinsood/.local/lib/python3.10/site-packages/sklearn/metrics/_regression.py:483: FutureWarning: 'squared' is deprecated in version 1.4 and will be removed in 1.6. To calculate the root mean squared error, use the function'root_mean_squared_error'.\n",
      "  warnings.warn(\n"
     ]
    },
    {
     "name": "stdout",
     "output_type": "stream",
     "text": [
      "SS: 6, alpha: 1e-06, best_score: -0.35752862998146673, R2: 0.2944469026032991, RMSE: 4.636144693037148\n",
      "SS: r_squared_test: 0.17368248919241336, rmse_test: 5.164464010399976, smape_test: 0.8769297990461209\n",
      "--------------------------------------\n",
      "\n",
      "SS Finished\n",
      "nvar 8\n",
      "Seed 1\n",
      "\n",
      "--------------------------------------\n",
      "Training split: 0 to 58, Testing split: 59 to 117\n",
      "Fitting 5 folds for each of 72 candidates, totalling 360 fits\n"
     ]
    },
    {
     "name": "stderr",
     "output_type": "stream",
     "text": [
      "/home/rohinsood/.local/lib/python3.10/site-packages/sklearn/metrics/_regression.py:483: FutureWarning: 'squared' is deprecated in version 1.4 and will be removed in 1.6. To calculate the root mean squared error, use the function'root_mean_squared_error'.\n",
      "  warnings.warn(\n",
      "/home/rohinsood/.local/lib/python3.10/site-packages/sklearn/metrics/_regression.py:483: FutureWarning: 'squared' is deprecated in version 1.4 and will be removed in 1.6. To calculate the root mean squared error, use the function'root_mean_squared_error'.\n",
      "  warnings.warn(\n"
     ]
    },
    {
     "name": "stdout",
     "output_type": "stream",
     "text": [
      "SS: 5, alpha: 0.09999999999999999, best_score: -1.8302209983242457, R2: 0.1923698776769346, RMSE: 2.3476279126560047\n",
      "SS: r_squared_test: -0.44361400308068544, rmse_test: 2.413812860938512, smape_test: 0.41316868078320196\n",
      "--------------------------------------\n",
      "\n",
      "\n",
      "--------------------------------------\n",
      "Training split: 0 to 117, Testing split: 118 to 176\n",
      "Fitting 5 folds for each of 72 candidates, totalling 360 fits\n"
     ]
    },
    {
     "name": "stderr",
     "output_type": "stream",
     "text": [
      "/home/rohinsood/.local/lib/python3.10/site-packages/sklearn/metrics/_regression.py:483: FutureWarning: 'squared' is deprecated in version 1.4 and will be removed in 1.6. To calculate the root mean squared error, use the function'root_mean_squared_error'.\n",
      "  warnings.warn(\n",
      "/home/rohinsood/.local/lib/python3.10/site-packages/sklearn/metrics/_regression.py:483: FutureWarning: 'squared' is deprecated in version 1.4 and will be removed in 1.6. To calculate the root mean squared error, use the function'root_mean_squared_error'.\n",
      "  warnings.warn(\n"
     ]
    },
    {
     "name": "stdout",
     "output_type": "stream",
     "text": [
      "SS: 10, alpha: 1e-06, best_score: 0.005356076374437002, R2: 0.1604411112388182, RMSE: 2.23049292689851\n",
      "SS: r_squared_test: -0.7050687612747839, rmse_test: 8.1473109889653, smape_test: 0.6468536358375279\n",
      "--------------------------------------\n",
      "\n",
      "\n",
      "--------------------------------------\n",
      "Training split: 0 to 176, Testing split: 177 to 235\n",
      "Fitting 5 folds for each of 72 candidates, totalling 360 fits\n"
     ]
    },
    {
     "name": "stderr",
     "output_type": "stream",
     "text": [
      "/home/rohinsood/.local/lib/python3.10/site-packages/sklearn/metrics/_regression.py:483: FutureWarning: 'squared' is deprecated in version 1.4 and will be removed in 1.6. To calculate the root mean squared error, use the function'root_mean_squared_error'.\n",
      "  warnings.warn(\n",
      "/home/rohinsood/.local/lib/python3.10/site-packages/sklearn/metrics/_regression.py:483: FutureWarning: 'squared' is deprecated in version 1.4 and will be removed in 1.6. To calculate the root mean squared error, use the function'root_mean_squared_error'.\n",
      "  warnings.warn(\n"
     ]
    },
    {
     "name": "stdout",
     "output_type": "stream",
     "text": [
      "SS: 2, alpha: 1e-06, best_score: -0.04142464303065683, R2: 0.43444595651043394, RMSE: 4.08658481901097\n",
      "SS: r_squared_test: -0.0504799261141573, rmse_test: 4.72581399378061, smape_test: 0.4745652891663889\n",
      "--------------------------------------\n",
      "\n",
      "\n",
      "--------------------------------------\n",
      "Training split: 0 to 235, Testing split: 236 to 294\n",
      "Fitting 5 folds for each of 72 candidates, totalling 360 fits\n"
     ]
    },
    {
     "name": "stderr",
     "output_type": "stream",
     "text": [
      "/home/rohinsood/.local/lib/python3.10/site-packages/sklearn/metrics/_regression.py:483: FutureWarning: 'squared' is deprecated in version 1.4 and will be removed in 1.6. To calculate the root mean squared error, use the function'root_mean_squared_error'.\n",
      "  warnings.warn(\n",
      "/home/rohinsood/.local/lib/python3.10/site-packages/sklearn/metrics/_regression.py:483: FutureWarning: 'squared' is deprecated in version 1.4 and will be removed in 1.6. To calculate the root mean squared error, use the function'root_mean_squared_error'.\n",
      "  warnings.warn(\n"
     ]
    },
    {
     "name": "stdout",
     "output_type": "stream",
     "text": [
      "SS: 2, alpha: 1e-06, best_score: -0.42154727679519394, R2: 0.20848890652303553, RMSE: 4.474182869728011\n",
      "SS: r_squared_test: 0.1275651745289763, rmse_test: 6.464485907760708, smape_test: 0.4729015705032403\n",
      "--------------------------------------\n",
      "\n",
      "\n",
      "--------------------------------------\n",
      "Training split: 0 to 294, Testing split: 295 to 353\n",
      "Fitting 5 folds for each of 72 candidates, totalling 360 fits\n"
     ]
    },
    {
     "name": "stderr",
     "output_type": "stream",
     "text": [
      "/home/rohinsood/.local/lib/python3.10/site-packages/sklearn/metrics/_regression.py:483: FutureWarning: 'squared' is deprecated in version 1.4 and will be removed in 1.6. To calculate the root mean squared error, use the function'root_mean_squared_error'.\n",
      "  warnings.warn(\n",
      "/home/rohinsood/.local/lib/python3.10/site-packages/sklearn/metrics/_regression.py:483: FutureWarning: 'squared' is deprecated in version 1.4 and will be removed in 1.6. To calculate the root mean squared error, use the function'root_mean_squared_error'.\n",
      "  warnings.warn(\n"
     ]
    },
    {
     "name": "stdout",
     "output_type": "stream",
     "text": [
      "SS: 10, alpha: 1e-06, best_score: -0.21073030639501558, R2: 0.30360229559691254, RMSE: 4.599304654516839\n",
      "SS: r_squared_test: 0.2231786218467916, rmse_test: 5.050207970845728, smape_test: 0.8683822084301055\n",
      "--------------------------------------\n",
      "\n",
      "SS Finished\n",
      "nvar 9\n",
      "Seed 1\n",
      "\n",
      "--------------------------------------\n",
      "Training split: 0 to 58, Testing split: 59 to 117\n",
      "Fitting 5 folds for each of 72 candidates, totalling 360 fits\n"
     ]
    },
    {
     "name": "stderr",
     "output_type": "stream",
     "text": [
      "/home/rohinsood/.local/lib/python3.10/site-packages/sklearn/metrics/_regression.py:483: FutureWarning: 'squared' is deprecated in version 1.4 and will be removed in 1.6. To calculate the root mean squared error, use the function'root_mean_squared_error'.\n",
      "  warnings.warn(\n",
      "/home/rohinsood/.local/lib/python3.10/site-packages/sklearn/metrics/_regression.py:483: FutureWarning: 'squared' is deprecated in version 1.4 and will be removed in 1.6. To calculate the root mean squared error, use the function'root_mean_squared_error'.\n",
      "  warnings.warn(\n"
     ]
    },
    {
     "name": "stdout",
     "output_type": "stream",
     "text": [
      "SS: 5, alpha: 1e-06, best_score: -1.7042989067881273, R2: -0.3296570648867847, RMSE: 2.430906758847346\n",
      "SS: r_squared_test: -1.6030765995586451, rmse_test: 2.3947929005414577, smape_test: 0.40507023402157305\n",
      "--------------------------------------\n",
      "\n",
      "\n",
      "--------------------------------------\n",
      "Training split: 0 to 117, Testing split: 118 to 176\n",
      "Fitting 5 folds for each of 72 candidates, totalling 360 fits\n"
     ]
    },
    {
     "name": "stderr",
     "output_type": "stream",
     "text": [
      "/home/rohinsood/.local/lib/python3.10/site-packages/sklearn/metrics/_regression.py:483: FutureWarning: 'squared' is deprecated in version 1.4 and will be removed in 1.6. To calculate the root mean squared error, use the function'root_mean_squared_error'.\n",
      "  warnings.warn(\n",
      "/home/rohinsood/.local/lib/python3.10/site-packages/sklearn/metrics/_regression.py:483: FutureWarning: 'squared' is deprecated in version 1.4 and will be removed in 1.6. To calculate the root mean squared error, use the function'root_mean_squared_error'.\n",
      "  warnings.warn(\n"
     ]
    },
    {
     "name": "stdout",
     "output_type": "stream",
     "text": [
      "SS: 8, alpha: 1e-06, best_score: 0.04593908916012703, R2: 0.11997238864273807, RMSE: 2.199862410608832\n",
      "SS: r_squared_test: -0.5288540652554827, rmse_test: 7.732351178010559, smape_test: 0.5730705465921972\n",
      "--------------------------------------\n",
      "\n",
      "\n",
      "--------------------------------------\n",
      "Training split: 0 to 176, Testing split: 177 to 235\n",
      "Fitting 5 folds for each of 72 candidates, totalling 360 fits\n"
     ]
    },
    {
     "name": "stderr",
     "output_type": "stream",
     "text": [
      "/home/rohinsood/.local/lib/python3.10/site-packages/sklearn/metrics/_regression.py:483: FutureWarning: 'squared' is deprecated in version 1.4 and will be removed in 1.6. To calculate the root mean squared error, use the function'root_mean_squared_error'.\n",
      "  warnings.warn(\n",
      "/home/rohinsood/.local/lib/python3.10/site-packages/sklearn/metrics/_regression.py:483: FutureWarning: 'squared' is deprecated in version 1.4 and will be removed in 1.6. To calculate the root mean squared error, use the function'root_mean_squared_error'.\n",
      "  warnings.warn(\n"
     ]
    },
    {
     "name": "stdout",
     "output_type": "stream",
     "text": [
      "SS: 8, alpha: 0.01, best_score: -0.21789978526017428, R2: 0.5636280784560034, RMSE: 3.695453151730809\n",
      "SS: r_squared_test: -0.4695205988371318, rmse_test: 5.589469415791901, smape_test: 0.5648878453845886\n",
      "--------------------------------------\n",
      "\n",
      "\n",
      "--------------------------------------\n",
      "Training split: 0 to 235, Testing split: 236 to 294\n",
      "Fitting 5 folds for each of 72 candidates, totalling 360 fits\n"
     ]
    },
    {
     "name": "stderr",
     "output_type": "stream",
     "text": [
      "/home/rohinsood/.local/lib/python3.10/site-packages/sklearn/metrics/_regression.py:483: FutureWarning: 'squared' is deprecated in version 1.4 and will be removed in 1.6. To calculate the root mean squared error, use the function'root_mean_squared_error'.\n",
      "  warnings.warn(\n",
      "/home/rohinsood/.local/lib/python3.10/site-packages/sklearn/metrics/_regression.py:483: FutureWarning: 'squared' is deprecated in version 1.4 and will be removed in 1.6. To calculate the root mean squared error, use the function'root_mean_squared_error'.\n",
      "  warnings.warn(\n"
     ]
    },
    {
     "name": "stdout",
     "output_type": "stream",
     "text": [
      "SS: 5, alpha: 1e-06, best_score: -0.48695173404675085, R2: 0.21698240696486304, RMSE: 4.439571407267838\n",
      "SS: r_squared_test: 0.1572153822579786, rmse_test: 6.366002287407149, smape_test: 0.46553906820253904\n",
      "--------------------------------------\n",
      "\n",
      "\n",
      "--------------------------------------\n",
      "Training split: 0 to 294, Testing split: 295 to 353\n",
      "Fitting 5 folds for each of 72 candidates, totalling 360 fits\n"
     ]
    },
    {
     "name": "stderr",
     "output_type": "stream",
     "text": [
      "/home/rohinsood/.local/lib/python3.10/site-packages/sklearn/metrics/_regression.py:483: FutureWarning: 'squared' is deprecated in version 1.4 and will be removed in 1.6. To calculate the root mean squared error, use the function'root_mean_squared_error'.\n",
      "  warnings.warn(\n",
      "/home/rohinsood/.local/lib/python3.10/site-packages/sklearn/metrics/_regression.py:483: FutureWarning: 'squared' is deprecated in version 1.4 and will be removed in 1.6. To calculate the root mean squared error, use the function'root_mean_squared_error'.\n",
      "  warnings.warn(\n"
     ]
    },
    {
     "name": "stdout",
     "output_type": "stream",
     "text": [
      "SS: 5, alpha: 1e-06, best_score: -0.3259917498753692, R2: 0.222758314559787, RMSE: 4.835540873461289\n",
      "SS: r_squared_test: 0.12742038217620832, rmse_test: 5.322792808117611, smape_test: 0.8790414708064508\n",
      "--------------------------------------\n",
      "\n",
      "SS Finished\n",
      "nvar 10\n",
      "Seed 1\n",
      "\n",
      "--------------------------------------\n",
      "Training split: 0 to 58, Testing split: 59 to 117\n",
      "Fitting 5 folds for each of 72 candidates, totalling 360 fits\n"
     ]
    },
    {
     "name": "stderr",
     "output_type": "stream",
     "text": [
      "/home/rohinsood/.local/lib/python3.10/site-packages/sklearn/neural_network/_multilayer_perceptron.py:691: ConvergenceWarning: Stochastic Optimizer: Maximum iterations (10000) reached and the optimization hasn't converged yet.\n",
      "  warnings.warn(\n",
      "/home/rohinsood/.local/lib/python3.10/site-packages/sklearn/metrics/_regression.py:483: FutureWarning: 'squared' is deprecated in version 1.4 and will be removed in 1.6. To calculate the root mean squared error, use the function'root_mean_squared_error'.\n",
      "  warnings.warn(\n",
      "/home/rohinsood/.local/lib/python3.10/site-packages/sklearn/metrics/_regression.py:483: FutureWarning: 'squared' is deprecated in version 1.4 and will be removed in 1.6. To calculate the root mean squared error, use the function'root_mean_squared_error'.\n",
      "  warnings.warn(\n"
     ]
    },
    {
     "name": "stdout",
     "output_type": "stream",
     "text": [
      "SS: 5, alpha: 0.01, best_score: -2.6563043438246563, R2: 0.028010398563124705, RMSE: 2.4319506633534296\n",
      "SS: r_squared_test: -0.6502735309948693, rmse_test: 2.3947929005414577, smape_test: 0.40507023402157305\n",
      "--------------------------------------\n",
      "\n",
      "\n",
      "--------------------------------------\n",
      "Training split: 0 to 117, Testing split: 118 to 176\n",
      "Fitting 5 folds for each of 72 candidates, totalling 360 fits\n"
     ]
    },
    {
     "name": "stderr",
     "output_type": "stream",
     "text": [
      "/home/rohinsood/.local/lib/python3.10/site-packages/sklearn/metrics/_regression.py:483: FutureWarning: 'squared' is deprecated in version 1.4 and will be removed in 1.6. To calculate the root mean squared error, use the function'root_mean_squared_error'.\n",
      "  warnings.warn(\n",
      "/home/rohinsood/.local/lib/python3.10/site-packages/numpy/lib/function_base.py:2897: RuntimeWarning: invalid value encountered in divide\n",
      "  c /= stddev[:, None]\n",
      "/home/rohinsood/.local/lib/python3.10/site-packages/numpy/lib/function_base.py:2898: RuntimeWarning: invalid value encountered in divide\n",
      "  c /= stddev[None, :]\n",
      "/home/rohinsood/.local/lib/python3.10/site-packages/sklearn/metrics/_regression.py:483: FutureWarning: 'squared' is deprecated in version 1.4 and will be removed in 1.6. To calculate the root mean squared error, use the function'root_mean_squared_error'.\n",
      "  warnings.warn(\n"
     ]
    },
    {
     "name": "stdout",
     "output_type": "stream",
     "text": [
      "SS: 5, alpha: 1e-06, best_score: -0.04797894748872622, R2: 0.035884255790587516, RMSE: 2.342465627686284\n",
      "SS: r_squared_test: -0.8732977876031232, rmse_test: 8.361322950830099, smape_test: 0.6817601578802833\n",
      "--------------------------------------\n",
      "\n",
      "\n",
      "--------------------------------------\n",
      "Training split: 0 to 176, Testing split: 177 to 235\n",
      "Fitting 5 folds for each of 72 candidates, totalling 360 fits\n"
     ]
    },
    {
     "name": "stderr",
     "output_type": "stream",
     "text": [
      "/home/rohinsood/.local/lib/python3.10/site-packages/sklearn/metrics/_regression.py:483: FutureWarning: 'squared' is deprecated in version 1.4 and will be removed in 1.6. To calculate the root mean squared error, use the function'root_mean_squared_error'.\n",
      "  warnings.warn(\n",
      "/home/rohinsood/.local/lib/python3.10/site-packages/sklearn/metrics/_regression.py:483: FutureWarning: 'squared' is deprecated in version 1.4 and will be removed in 1.6. To calculate the root mean squared error, use the function'root_mean_squared_error'.\n",
      "  warnings.warn(\n"
     ]
    },
    {
     "name": "stdout",
     "output_type": "stream",
     "text": [
      "SS: 2, alpha: 1e-06, best_score: -0.02935789765095611, R2: 0.44532445663506115, RMSE: 4.057377047003135\n",
      "SS: r_squared_test: -0.18562330523336756, rmse_test: 5.020605630467642, smape_test: 0.5029004817304495\n",
      "--------------------------------------\n",
      "\n",
      "\n",
      "--------------------------------------\n",
      "Training split: 0 to 235, Testing split: 236 to 294\n",
      "Fitting 5 folds for each of 72 candidates, totalling 360 fits\n"
     ]
    },
    {
     "name": "stderr",
     "output_type": "stream",
     "text": [
      "/home/rohinsood/.local/lib/python3.10/site-packages/sklearn/metrics/_regression.py:483: FutureWarning: 'squared' is deprecated in version 1.4 and will be removed in 1.6. To calculate the root mean squared error, use the function'root_mean_squared_error'.\n",
      "  warnings.warn(\n",
      "/home/rohinsood/.local/lib/python3.10/site-packages/sklearn/metrics/_regression.py:483: FutureWarning: 'squared' is deprecated in version 1.4 and will be removed in 1.6. To calculate the root mean squared error, use the function'root_mean_squared_error'.\n",
      "  warnings.warn(\n"
     ]
    },
    {
     "name": "stdout",
     "output_type": "stream",
     "text": [
      "SS: 10, alpha: 0.09999999999999999, best_score: -0.5727187004678049, R2: 0.2582926626454739, RMSE: 4.309822133392298\n",
      "SS: r_squared_test: 0.17579645657935117, rmse_test: 6.246685089527071, smape_test: 0.4716564639920825\n",
      "--------------------------------------\n",
      "\n",
      "\n",
      "--------------------------------------\n",
      "Training split: 0 to 294, Testing split: 295 to 353\n",
      "Fitting 5 folds for each of 72 candidates, totalling 360 fits\n"
     ]
    },
    {
     "name": "stderr",
     "output_type": "stream",
     "text": [
      "/home/rohinsood/.local/lib/python3.10/site-packages/sklearn/metrics/_regression.py:483: FutureWarning: 'squared' is deprecated in version 1.4 and will be removed in 1.6. To calculate the root mean squared error, use the function'root_mean_squared_error'.\n",
      "  warnings.warn(\n",
      "/home/rohinsood/.local/lib/python3.10/site-packages/sklearn/metrics/_regression.py:483: FutureWarning: 'squared' is deprecated in version 1.4 and will be removed in 1.6. To calculate the root mean squared error, use the function'root_mean_squared_error'.\n",
      "  warnings.warn(\n"
     ]
    },
    {
     "name": "stdout",
     "output_type": "stream",
     "text": [
      "SS: 10, alpha: 1e-06, best_score: -0.21347288519570248, R2: 0.3058920442258102, RMSE: 4.579949003562728\n",
      "SS: r_squared_test: 0.11496095195164713, rmse_test: 5.2888699521134255, smape_test: 0.8886373646140712\n",
      "--------------------------------------\n",
      "\n",
      "SS Finished\n",
      "nvar 11\n",
      "Seed 1\n",
      "\n",
      "--------------------------------------\n",
      "Training split: 0 to 58, Testing split: 59 to 117\n",
      "Fitting 5 folds for each of 72 candidates, totalling 360 fits\n"
     ]
    },
    {
     "name": "stderr",
     "output_type": "stream",
     "text": [
      "/home/rohinsood/.local/lib/python3.10/site-packages/sklearn/metrics/_regression.py:483: FutureWarning: 'squared' is deprecated in version 1.4 and will be removed in 1.6. To calculate the root mean squared error, use the function'root_mean_squared_error'.\n",
      "  warnings.warn(\n",
      "/home/rohinsood/.local/lib/python3.10/site-packages/sklearn/metrics/_regression.py:483: FutureWarning: 'squared' is deprecated in version 1.4 and will be removed in 1.6. To calculate the root mean squared error, use the function'root_mean_squared_error'.\n",
      "  warnings.warn(\n"
     ]
    },
    {
     "name": "stdout",
     "output_type": "stream",
     "text": [
      "SS: 5, alpha: 1e-06, best_score: -1.0648363703266708, R2: 0.4831523691899652, RMSE: 2.1656463184038057\n",
      "SS: r_squared_test: -0.873602716472363, rmse_test: 2.3966704915646986, smape_test: 0.40920832492142695\n",
      "--------------------------------------\n",
      "\n",
      "\n",
      "--------------------------------------\n",
      "Training split: 0 to 117, Testing split: 118 to 176\n",
      "Fitting 5 folds for each of 72 candidates, totalling 360 fits\n"
     ]
    },
    {
     "name": "stderr",
     "output_type": "stream",
     "text": [
      "/home/rohinsood/.local/lib/python3.10/site-packages/sklearn/metrics/_regression.py:483: FutureWarning: 'squared' is deprecated in version 1.4 and will be removed in 1.6. To calculate the root mean squared error, use the function'root_mean_squared_error'.\n",
      "  warnings.warn(\n",
      "/home/rohinsood/.local/lib/python3.10/site-packages/sklearn/metrics/_regression.py:483: FutureWarning: 'squared' is deprecated in version 1.4 and will be removed in 1.6. To calculate the root mean squared error, use the function'root_mean_squared_error'.\n",
      "  warnings.warn(\n"
     ]
    },
    {
     "name": "stdout",
     "output_type": "stream",
     "text": [
      "SS: 6, alpha: 1e-06, best_score: -0.03676457554152039, R2: 0.2061342773184297, RMSE: 2.169419689228644\n",
      "SS: r_squared_test: -0.6032354148876018, rmse_test: 7.881478384577914, smape_test: 0.6211706393819669\n",
      "--------------------------------------\n",
      "\n",
      "\n",
      "--------------------------------------\n",
      "Training split: 0 to 176, Testing split: 177 to 235\n",
      "Fitting 5 folds for each of 72 candidates, totalling 360 fits\n"
     ]
    },
    {
     "name": "stderr",
     "output_type": "stream",
     "text": [
      "/home/rohinsood/.local/lib/python3.10/site-packages/sklearn/metrics/_regression.py:483: FutureWarning: 'squared' is deprecated in version 1.4 and will be removed in 1.6. To calculate the root mean squared error, use the function'root_mean_squared_error'.\n",
      "  warnings.warn(\n",
      "/home/rohinsood/.local/lib/python3.10/site-packages/sklearn/metrics/_regression.py:483: FutureWarning: 'squared' is deprecated in version 1.4 and will be removed in 1.6. To calculate the root mean squared error, use the function'root_mean_squared_error'.\n",
      "  warnings.warn(\n"
     ]
    },
    {
     "name": "stdout",
     "output_type": "stream",
     "text": [
      "SS: 6, alpha: 1e-06, best_score: -0.16738580878470896, R2: 0.5432809185486192, RMSE: 3.754235254479642\n",
      "SS: r_squared_test: -0.2682956255890494, rmse_test: 5.192697126955233, smape_test: 0.5377266450382512\n",
      "--------------------------------------\n",
      "\n",
      "\n",
      "--------------------------------------\n",
      "Training split: 0 to 235, Testing split: 236 to 294\n",
      "Fitting 5 folds for each of 72 candidates, totalling 360 fits\n"
     ]
    },
    {
     "name": "stderr",
     "output_type": "stream",
     "text": [
      "/home/rohinsood/.local/lib/python3.10/site-packages/sklearn/metrics/_regression.py:483: FutureWarning: 'squared' is deprecated in version 1.4 and will be removed in 1.6. To calculate the root mean squared error, use the function'root_mean_squared_error'.\n",
      "  warnings.warn(\n",
      "/home/rohinsood/.local/lib/python3.10/site-packages/sklearn/metrics/_regression.py:483: FutureWarning: 'squared' is deprecated in version 1.4 and will be removed in 1.6. To calculate the root mean squared error, use the function'root_mean_squared_error'.\n",
      "  warnings.warn(\n"
     ]
    },
    {
     "name": "stdout",
     "output_type": "stream",
     "text": [
      "SS: 4, alpha: 0.09999999999999999, best_score: -0.45835876028266986, R2: 0.19662355441035728, RMSE: 4.499831949944916\n",
      "SS: r_squared_test: 0.1246998795321207, rmse_test: 6.4871138563347746, smape_test: 0.4748698621984802\n",
      "--------------------------------------\n",
      "\n",
      "\n",
      "--------------------------------------\n",
      "Training split: 0 to 294, Testing split: 295 to 353\n",
      "Fitting 5 folds for each of 72 candidates, totalling 360 fits\n"
     ]
    },
    {
     "name": "stderr",
     "output_type": "stream",
     "text": [
      "/home/rohinsood/.local/lib/python3.10/site-packages/sklearn/metrics/_regression.py:483: FutureWarning: 'squared' is deprecated in version 1.4 and will be removed in 1.6. To calculate the root mean squared error, use the function'root_mean_squared_error'.\n",
      "  warnings.warn(\n",
      "/home/rohinsood/.local/lib/python3.10/site-packages/sklearn/metrics/_regression.py:483: FutureWarning: 'squared' is deprecated in version 1.4 and will be removed in 1.6. To calculate the root mean squared error, use the function'root_mean_squared_error'.\n",
      "  warnings.warn(\n"
     ]
    },
    {
     "name": "stdout",
     "output_type": "stream",
     "text": [
      "SS: 5, alpha: 1e-06, best_score: -0.32778352288983015, R2: 0.23900499755091553, RMSE: 4.804713347733735\n",
      "SS: r_squared_test: 0.0855248503904592, rmse_test: 5.435832655697822, smape_test: 0.8918451483183533\n",
      "--------------------------------------\n",
      "\n",
      "SS Finished\n",
      "nvar 12\n",
      "Seed 1\n",
      "\n",
      "--------------------------------------\n",
      "Training split: 0 to 58, Testing split: 59 to 117\n",
      "Fitting 5 folds for each of 72 candidates, totalling 360 fits\n"
     ]
    },
    {
     "name": "stderr",
     "output_type": "stream",
     "text": [
      "/home/rohinsood/.local/lib/python3.10/site-packages/sklearn/metrics/_regression.py:483: FutureWarning: 'squared' is deprecated in version 1.4 and will be removed in 1.6. To calculate the root mean squared error, use the function'root_mean_squared_error'.\n",
      "  warnings.warn(\n",
      "/home/rohinsood/.local/lib/python3.10/site-packages/sklearn/metrics/_regression.py:483: FutureWarning: 'squared' is deprecated in version 1.4 and will be removed in 1.6. To calculate the root mean squared error, use the function'root_mean_squared_error'.\n",
      "  warnings.warn(\n"
     ]
    },
    {
     "name": "stdout",
     "output_type": "stream",
     "text": [
      "SS: 2, alpha: 1e-06, best_score: -1.7843662647932927, R2: 0.32402814809497393, RMSE: 2.254088437938619\n",
      "SS: r_squared_test: -0.7795788275223696, rmse_test: 2.3611247338946426, smape_test: 0.3966109670936259\n",
      "--------------------------------------\n",
      "\n",
      "\n",
      "--------------------------------------\n",
      "Training split: 0 to 117, Testing split: 118 to 176\n",
      "Fitting 5 folds for each of 72 candidates, totalling 360 fits\n"
     ]
    },
    {
     "name": "stderr",
     "output_type": "stream",
     "text": [
      "/home/rohinsood/.local/lib/python3.10/site-packages/sklearn/metrics/_regression.py:483: FutureWarning: 'squared' is deprecated in version 1.4 and will be removed in 1.6. To calculate the root mean squared error, use the function'root_mean_squared_error'.\n",
      "  warnings.warn(\n",
      "/home/rohinsood/.local/lib/python3.10/site-packages/sklearn/metrics/_regression.py:483: FutureWarning: 'squared' is deprecated in version 1.4 and will be removed in 1.6. To calculate the root mean squared error, use the function'root_mean_squared_error'.\n",
      "  warnings.warn(\n"
     ]
    },
    {
     "name": "stdout",
     "output_type": "stream",
     "text": [
      "SS: 8, alpha: 1e-06, best_score: 0.0026246402922142976, R2: 0.3010709258599755, RMSE: 2.1347665685768686\n",
      "SS: r_squared_test: -0.4390189274054317, rmse_test: 7.50191550034886, smape_test: 0.5492033556307236\n",
      "--------------------------------------\n",
      "\n",
      "\n",
      "--------------------------------------\n",
      "Training split: 0 to 176, Testing split: 177 to 235\n",
      "Fitting 5 folds for each of 72 candidates, totalling 360 fits\n"
     ]
    },
    {
     "name": "stderr",
     "output_type": "stream",
     "text": [
      "/home/rohinsood/.local/lib/python3.10/site-packages/sklearn/metrics/_regression.py:483: FutureWarning: 'squared' is deprecated in version 1.4 and will be removed in 1.6. To calculate the root mean squared error, use the function'root_mean_squared_error'.\n",
      "  warnings.warn(\n",
      "/home/rohinsood/.local/lib/python3.10/site-packages/sklearn/metrics/_regression.py:483: FutureWarning: 'squared' is deprecated in version 1.4 and will be removed in 1.6. To calculate the root mean squared error, use the function'root_mean_squared_error'.\n",
      "  warnings.warn(\n"
     ]
    },
    {
     "name": "stdout",
     "output_type": "stream",
     "text": [
      "SS: 2, alpha: 1e-06, best_score: -0.07134324587507308, R2: 0.4463459878742513, RMSE: 4.038438508161122\n",
      "SS: r_squared_test: -0.08912634898437233, rmse_test: 4.817432157930689, smape_test: 0.4843412499778156\n",
      "--------------------------------------\n",
      "\n",
      "\n",
      "--------------------------------------\n",
      "Training split: 0 to 235, Testing split: 236 to 294\n",
      "Fitting 5 folds for each of 72 candidates, totalling 360 fits\n"
     ]
    },
    {
     "name": "stderr",
     "output_type": "stream",
     "text": [
      "/home/rohinsood/.local/lib/python3.10/site-packages/sklearn/metrics/_regression.py:483: FutureWarning: 'squared' is deprecated in version 1.4 and will be removed in 1.6. To calculate the root mean squared error, use the function'root_mean_squared_error'.\n",
      "  warnings.warn(\n",
      "/home/rohinsood/.local/lib/python3.10/site-packages/sklearn/metrics/_regression.py:483: FutureWarning: 'squared' is deprecated in version 1.4 and will be removed in 1.6. To calculate the root mean squared error, use the function'root_mean_squared_error'.\n",
      "  warnings.warn(\n"
     ]
    },
    {
     "name": "stdout",
     "output_type": "stream",
     "text": [
      "SS: (6, 6), alpha: 1e-06, best_score: -0.46915749045492516, R2: 0.00695292215210408, RMSE: 4.825989368227216\n",
      "SS: r_squared_test: -0.0034519499811471732, rmse_test: 6.914111380700832, smape_test: 0.47343888563548203\n",
      "--------------------------------------\n",
      "\n",
      "\n",
      "--------------------------------------\n",
      "Training split: 0 to 294, Testing split: 295 to 353\n",
      "Fitting 5 folds for each of 72 candidates, totalling 360 fits\n"
     ]
    },
    {
     "name": "stderr",
     "output_type": "stream",
     "text": [
      "/home/rohinsood/.local/lib/python3.10/site-packages/sklearn/metrics/_regression.py:483: FutureWarning: 'squared' is deprecated in version 1.4 and will be removed in 1.6. To calculate the root mean squared error, use the function'root_mean_squared_error'.\n",
      "  warnings.warn(\n",
      "/home/rohinsood/.local/lib/python3.10/site-packages/sklearn/metrics/_regression.py:483: FutureWarning: 'squared' is deprecated in version 1.4 and will be removed in 1.6. To calculate the root mean squared error, use the function'root_mean_squared_error'.\n",
      "  warnings.warn(\n"
     ]
    },
    {
     "name": "stdout",
     "output_type": "stream",
     "text": [
      "SS: 2, alpha: 1e-06, best_score: -0.3307855243258072, R2: 0.19843466205085414, RMSE: 4.912555502772937\n",
      "SS: r_squared_test: 0.1188197916627578, rmse_test: 5.416297654171758, smape_test: 0.8853898770169418\n",
      "--------------------------------------\n",
      "\n",
      "SS Finished\n",
      "\n",
      "Tur Started\n",
      "nvar 4\n",
      "Seed 1\n",
      "\n",
      "--------------------------------------\n",
      "Training split: 0 to 58, Testing split: 59 to 117\n",
      "Fitting 5 folds for each of 72 candidates, totalling 360 fits\n"
     ]
    },
    {
     "name": "stderr",
     "output_type": "stream",
     "text": [
      "/home/rohinsood/.local/lib/python3.10/site-packages/sklearn/metrics/_regression.py:483: FutureWarning: 'squared' is deprecated in version 1.4 and will be removed in 1.6. To calculate the root mean squared error, use the function'root_mean_squared_error'.\n",
      "  warnings.warn(\n",
      "/home/rohinsood/.local/lib/python3.10/site-packages/sklearn/metrics/_regression.py:483: FutureWarning: 'squared' is deprecated in version 1.4 and will be removed in 1.6. To calculate the root mean squared error, use the function'root_mean_squared_error'.\n",
      "  warnings.warn(\n"
     ]
    },
    {
     "name": "stdout",
     "output_type": "stream",
     "text": [
      "Tur: 6, alpha: 1e-06, best_score: -0.7502287556449848, R2: -0.03437657112916104, RMSE: 1.8098257732759035\n",
      "Tur: r_squared_test: -0.17667343636891264, rmse_test: 4.00907466296453, smape_test: 0.4482322712502088\n",
      "--------------------------------------\n",
      "\n",
      "\n",
      "--------------------------------------\n",
      "Training split: 0 to 117, Testing split: 118 to 176\n",
      "Fitting 5 folds for each of 72 candidates, totalling 360 fits\n"
     ]
    },
    {
     "name": "stderr",
     "output_type": "stream",
     "text": [
      "/home/rohinsood/.local/lib/python3.10/site-packages/sklearn/metrics/_regression.py:483: FutureWarning: 'squared' is deprecated in version 1.4 and will be removed in 1.6. To calculate the root mean squared error, use the function'root_mean_squared_error'.\n",
      "  warnings.warn(\n",
      "/home/rohinsood/.local/lib/python3.10/site-packages/sklearn/metrics/_regression.py:483: FutureWarning: 'squared' is deprecated in version 1.4 and will be removed in 1.6. To calculate the root mean squared error, use the function'root_mean_squared_error'.\n",
      "  warnings.warn(\n"
     ]
    },
    {
     "name": "stdout",
     "output_type": "stream",
     "text": [
      "Tur: 5, alpha: 0.001, best_score: -0.09135082020358176, R2: -0.10075629804899822, RMSE: 3.0174699607603017\n",
      "Tur: r_squared_test: -0.08057708476514636, rmse_test: 7.796305999962068, smape_test: 0.7043002852784003\n",
      "--------------------------------------\n",
      "\n",
      "\n",
      "--------------------------------------\n",
      "Training split: 0 to 176, Testing split: 177 to 235\n",
      "Fitting 5 folds for each of 72 candidates, totalling 360 fits\n"
     ]
    },
    {
     "name": "stderr",
     "output_type": "stream",
     "text": [
      "/home/rohinsood/.local/lib/python3.10/site-packages/sklearn/metrics/_regression.py:483: FutureWarning: 'squared' is deprecated in version 1.4 and will be removed in 1.6. To calculate the root mean squared error, use the function'root_mean_squared_error'.\n",
      "  warnings.warn(\n",
      "/home/rohinsood/.local/lib/python3.10/site-packages/sklearn/metrics/_regression.py:483: FutureWarning: 'squared' is deprecated in version 1.4 and will be removed in 1.6. To calculate the root mean squared error, use the function'root_mean_squared_error'.\n",
      "  warnings.warn(\n"
     ]
    },
    {
     "name": "stdout",
     "output_type": "stream",
     "text": [
      "Tur: 10, alpha: 1e-06, best_score: 0.015457624041078376, R2: 0.32401632014971005, RMSE: 4.31443878447605\n",
      "Tur: r_squared_test: 0.27743051173142674, rmse_test: 3.5484722909562674, smape_test: 0.6038791334677813\n",
      "--------------------------------------\n",
      "\n",
      "\n",
      "--------------------------------------\n",
      "Training split: 0 to 235, Testing split: 236 to 294\n",
      "Fitting 5 folds for each of 72 candidates, totalling 360 fits\n"
     ]
    },
    {
     "name": "stderr",
     "output_type": "stream",
     "text": [
      "/home/rohinsood/.local/lib/python3.10/site-packages/sklearn/metrics/_regression.py:483: FutureWarning: 'squared' is deprecated in version 1.4 and will be removed in 1.6. To calculate the root mean squared error, use the function'root_mean_squared_error'.\n",
      "  warnings.warn(\n",
      "/home/rohinsood/.local/lib/python3.10/site-packages/sklearn/metrics/_regression.py:483: FutureWarning: 'squared' is deprecated in version 1.4 and will be removed in 1.6. To calculate the root mean squared error, use the function'root_mean_squared_error'.\n",
      "  warnings.warn(\n"
     ]
    },
    {
     "name": "stdout",
     "output_type": "stream",
     "text": [
      "Tur: 10, alpha: 0.09999999999999999, best_score: 0.005847233100864324, R2: 0.08241998186855504, RMSE: 4.731965987139505\n",
      "Tur: r_squared_test: -0.018001186845339356, rmse_test: 5.313510714751427, smape_test: 0.4895772215696152\n",
      "--------------------------------------\n",
      "\n",
      "\n",
      "--------------------------------------\n",
      "Training split: 0 to 294, Testing split: 295 to 353\n",
      "Fitting 5 folds for each of 72 candidates, totalling 360 fits\n"
     ]
    },
    {
     "name": "stderr",
     "output_type": "stream",
     "text": [
      "/home/rohinsood/.local/lib/python3.10/site-packages/sklearn/metrics/_regression.py:483: FutureWarning: 'squared' is deprecated in version 1.4 and will be removed in 1.6. To calculate the root mean squared error, use the function'root_mean_squared_error'.\n",
      "  warnings.warn(\n",
      "/home/rohinsood/.local/lib/python3.10/site-packages/sklearn/metrics/_regression.py:483: FutureWarning: 'squared' is deprecated in version 1.4 and will be removed in 1.6. To calculate the root mean squared error, use the function'root_mean_squared_error'.\n",
      "  warnings.warn(\n"
     ]
    },
    {
     "name": "stdout",
     "output_type": "stream",
     "text": [
      "Tur: 4, alpha: 0.01, best_score: 0.05249522783333804, R2: 0.31880979562684275, RMSE: 4.284736361493782\n",
      "Tur: r_squared_test: -0.17334284192299987, rmse_test: 2.1138111041398493, smape_test: 0.3801940500004174\n",
      "--------------------------------------\n",
      "\n",
      "Tur Finished\n",
      "nvar 5\n",
      "Seed 1\n",
      "\n",
      "--------------------------------------\n",
      "Training split: 0 to 58, Testing split: 59 to 117\n",
      "Fitting 5 folds for each of 72 candidates, totalling 360 fits\n"
     ]
    },
    {
     "name": "stderr",
     "output_type": "stream",
     "text": [
      "/home/rohinsood/.local/lib/python3.10/site-packages/sklearn/metrics/_regression.py:483: FutureWarning: 'squared' is deprecated in version 1.4 and will be removed in 1.6. To calculate the root mean squared error, use the function'root_mean_squared_error'.\n",
      "  warnings.warn(\n",
      "/home/rohinsood/.local/lib/python3.10/site-packages/sklearn/metrics/_regression.py:483: FutureWarning: 'squared' is deprecated in version 1.4 and will be removed in 1.6. To calculate the root mean squared error, use the function'root_mean_squared_error'.\n",
      "  warnings.warn(\n"
     ]
    },
    {
     "name": "stdout",
     "output_type": "stream",
     "text": [
      "Tur: 5, alpha: 1e-06, best_score: -0.2865445883731773, R2: 0.3543120082117981, RMSE: 1.5689220456546076\n",
      "Tur: r_squared_test: -0.18296511957318784, rmse_test: 3.9313808964021573, smape_test: 0.43217596674275777\n",
      "--------------------------------------\n",
      "\n",
      "\n",
      "--------------------------------------\n",
      "Training split: 0 to 117, Testing split: 118 to 176\n",
      "Fitting 5 folds for each of 72 candidates, totalling 360 fits\n"
     ]
    },
    {
     "name": "stderr",
     "output_type": "stream",
     "text": [
      "/home/rohinsood/.local/lib/python3.10/site-packages/sklearn/metrics/_regression.py:483: FutureWarning: 'squared' is deprecated in version 1.4 and will be removed in 1.6. To calculate the root mean squared error, use the function'root_mean_squared_error'.\n",
      "  warnings.warn(\n",
      "/home/rohinsood/.local/lib/python3.10/site-packages/sklearn/metrics/_regression.py:483: FutureWarning: 'squared' is deprecated in version 1.4 and will be removed in 1.6. To calculate the root mean squared error, use the function'root_mean_squared_error'.\n",
      "  warnings.warn(\n"
     ]
    },
    {
     "name": "stdout",
     "output_type": "stream",
     "text": [
      "Tur: 5, alpha: 1e-06, best_score: -0.04652480012578848, R2: -0.004852478016863282, RMSE: 3.01884143332748\n",
      "Tur: r_squared_test: -0.03749773170436255, rmse_test: 7.763046644253722, smape_test: 0.7031053726032368\n",
      "--------------------------------------\n",
      "\n",
      "\n",
      "--------------------------------------\n",
      "Training split: 0 to 176, Testing split: 177 to 235\n",
      "Fitting 5 folds for each of 72 candidates, totalling 360 fits\n"
     ]
    },
    {
     "name": "stderr",
     "output_type": "stream",
     "text": [
      "/home/rohinsood/.local/lib/python3.10/site-packages/sklearn/metrics/_regression.py:483: FutureWarning: 'squared' is deprecated in version 1.4 and will be removed in 1.6. To calculate the root mean squared error, use the function'root_mean_squared_error'.\n",
      "  warnings.warn(\n",
      "/home/rohinsood/.local/lib/python3.10/site-packages/sklearn/metrics/_regression.py:483: FutureWarning: 'squared' is deprecated in version 1.4 and will be removed in 1.6. To calculate the root mean squared error, use the function'root_mean_squared_error'.\n",
      "  warnings.warn(\n"
     ]
    },
    {
     "name": "stdout",
     "output_type": "stream",
     "text": [
      "Tur: 2, alpha: 0.09999999999999999, best_score: -0.17360096890111498, R2: 0.29434756775061566, RMSE: 4.417632311567581\n",
      "Tur: r_squared_test: 0.17310408835151336, rmse_test: 3.7344134772065285, smape_test: 0.6209466343972538\n",
      "--------------------------------------\n",
      "\n",
      "\n",
      "--------------------------------------\n",
      "Training split: 0 to 235, Testing split: 236 to 294\n",
      "Fitting 5 folds for each of 72 candidates, totalling 360 fits\n"
     ]
    },
    {
     "name": "stderr",
     "output_type": "stream",
     "text": [
      "/home/rohinsood/.local/lib/python3.10/site-packages/sklearn/metrics/_regression.py:483: FutureWarning: 'squared' is deprecated in version 1.4 and will be removed in 1.6. To calculate the root mean squared error, use the function'root_mean_squared_error'.\n",
      "  warnings.warn(\n",
      "/home/rohinsood/.local/lib/python3.10/site-packages/sklearn/metrics/_regression.py:483: FutureWarning: 'squared' is deprecated in version 1.4 and will be removed in 1.6. To calculate the root mean squared error, use the function'root_mean_squared_error'.\n",
      "  warnings.warn(\n"
     ]
    },
    {
     "name": "stdout",
     "output_type": "stream",
     "text": [
      "Tur: 4, alpha: 0.09999999999999999, best_score: -0.04032116191526038, R2: 0.05271294308676633, RMSE: 4.803352483876593\n",
      "Tur: r_squared_test: -0.09409489985401587, rmse_test: 5.426260095776957, smape_test: 0.4952919483441105\n",
      "--------------------------------------\n",
      "\n",
      "\n",
      "--------------------------------------\n",
      "Training split: 0 to 294, Testing split: 295 to 353\n",
      "Fitting 5 folds for each of 72 candidates, totalling 360 fits\n"
     ]
    },
    {
     "name": "stderr",
     "output_type": "stream",
     "text": [
      "/home/rohinsood/.local/lib/python3.10/site-packages/sklearn/metrics/_regression.py:483: FutureWarning: 'squared' is deprecated in version 1.4 and will be removed in 1.6. To calculate the root mean squared error, use the function'root_mean_squared_error'.\n",
      "  warnings.warn(\n",
      "/home/rohinsood/.local/lib/python3.10/site-packages/sklearn/metrics/_regression.py:483: FutureWarning: 'squared' is deprecated in version 1.4 and will be removed in 1.6. To calculate the root mean squared error, use the function'root_mean_squared_error'.\n",
      "  warnings.warn(\n"
     ]
    },
    {
     "name": "stdout",
     "output_type": "stream",
     "text": [
      "Tur: 6, alpha: 1e-06, best_score: 0.050965725478663716, R2: 0.15200157329666364, RMSE: 4.692476032822586\n",
      "Tur: r_squared_test: 0.275129106437637, rmse_test: 1.8169379539838277, smape_test: 0.3288103414628945\n",
      "--------------------------------------\n",
      "\n",
      "Tur Finished\n",
      "nvar 6\n",
      "Seed 1\n",
      "\n",
      "--------------------------------------\n",
      "Training split: 0 to 58, Testing split: 59 to 117\n",
      "Fitting 5 folds for each of 72 candidates, totalling 360 fits\n"
     ]
    },
    {
     "name": "stderr",
     "output_type": "stream",
     "text": [
      "/home/rohinsood/.local/lib/python3.10/site-packages/sklearn/metrics/_regression.py:483: FutureWarning: 'squared' is deprecated in version 1.4 and will be removed in 1.6. To calculate the root mean squared error, use the function'root_mean_squared_error'.\n",
      "  warnings.warn(\n",
      "/home/rohinsood/.local/lib/python3.10/site-packages/sklearn/metrics/_regression.py:483: FutureWarning: 'squared' is deprecated in version 1.4 and will be removed in 1.6. To calculate the root mean squared error, use the function'root_mean_squared_error'.\n",
      "  warnings.warn(\n"
     ]
    },
    {
     "name": "stdout",
     "output_type": "stream",
     "text": [
      "Tur: (8, 8), alpha: 1e-06, best_score: -0.6045591930408631, R2: 0.03415412501805848, RMSE: 1.7590465991345097\n",
      "Tur: r_squared_test: -0.1899023298454212, rmse_test: 4.032098601233908, smape_test: 0.4550782422439991\n",
      "--------------------------------------\n",
      "\n",
      "\n",
      "--------------------------------------\n",
      "Training split: 0 to 117, Testing split: 118 to 176\n",
      "Fitting 5 folds for each of 72 candidates, totalling 360 fits\n"
     ]
    },
    {
     "name": "stderr",
     "output_type": "stream",
     "text": [
      "/home/rohinsood/.local/lib/python3.10/site-packages/sklearn/metrics/_regression.py:483: FutureWarning: 'squared' is deprecated in version 1.4 and will be removed in 1.6. To calculate the root mean squared error, use the function'root_mean_squared_error'.\n",
      "  warnings.warn(\n",
      "/home/rohinsood/.local/lib/python3.10/site-packages/sklearn/metrics/_regression.py:483: FutureWarning: 'squared' is deprecated in version 1.4 and will be removed in 1.6. To calculate the root mean squared error, use the function'root_mean_squared_error'.\n",
      "  warnings.warn(\n"
     ]
    },
    {
     "name": "stdout",
     "output_type": "stream",
     "text": [
      "Tur: 5, alpha: 1e-06, best_score: -0.0595903997504903, R2: 0.07576587573506566, RMSE: 2.9350256123933236\n",
      "Tur: r_squared_test: 0.014381073372934816, rmse_test: 7.590442303809494, smape_test: 0.6889168546236056\n",
      "--------------------------------------\n",
      "\n",
      "\n",
      "--------------------------------------\n",
      "Training split: 0 to 176, Testing split: 177 to 235\n",
      "Fitting 5 folds for each of 72 candidates, totalling 360 fits\n"
     ]
    },
    {
     "name": "stderr",
     "output_type": "stream",
     "text": [
      "/home/rohinsood/.local/lib/python3.10/site-packages/sklearn/metrics/_regression.py:483: FutureWarning: 'squared' is deprecated in version 1.4 and will be removed in 1.6. To calculate the root mean squared error, use the function'root_mean_squared_error'.\n",
      "  warnings.warn(\n",
      "/home/rohinsood/.local/lib/python3.10/site-packages/sklearn/metrics/_regression.py:483: FutureWarning: 'squared' is deprecated in version 1.4 and will be removed in 1.6. To calculate the root mean squared error, use the function'root_mean_squared_error'.\n",
      "  warnings.warn(\n"
     ]
    },
    {
     "name": "stdout",
     "output_type": "stream",
     "text": [
      "Tur: 6, alpha: 1e-06, best_score: -0.07672891167926313, R2: 0.2908302273373914, RMSE: 4.4277569137509065\n",
      "Tur: r_squared_test: 0.26950340293827724, rmse_test: 3.587730527793542, smape_test: 0.6104505203452993\n",
      "--------------------------------------\n",
      "\n",
      "\n",
      "--------------------------------------\n",
      "Training split: 0 to 235, Testing split: 236 to 294\n",
      "Fitting 5 folds for each of 72 candidates, totalling 360 fits\n"
     ]
    },
    {
     "name": "stderr",
     "output_type": "stream",
     "text": [
      "/home/rohinsood/.local/lib/python3.10/site-packages/sklearn/metrics/_regression.py:483: FutureWarning: 'squared' is deprecated in version 1.4 and will be removed in 1.6. To calculate the root mean squared error, use the function'root_mean_squared_error'.\n",
      "  warnings.warn(\n",
      "/home/rohinsood/.local/lib/python3.10/site-packages/sklearn/metrics/_regression.py:483: FutureWarning: 'squared' is deprecated in version 1.4 and will be removed in 1.6. To calculate the root mean squared error, use the function'root_mean_squared_error'.\n",
      "  warnings.warn(\n"
     ]
    },
    {
     "name": "stdout",
     "output_type": "stream",
     "text": [
      "Tur: 5, alpha: 0.09999999999999999, best_score: -0.06734656302200806, R2: 0.17413271308247424, RMSE: 4.534731168771195\n",
      "Tur: r_squared_test: 0.10363491217522602, rmse_test: 5.062294223324352, smape_test: 0.46941403730418485\n",
      "--------------------------------------\n",
      "\n",
      "\n",
      "--------------------------------------\n",
      "Training split: 0 to 294, Testing split: 295 to 353\n",
      "Fitting 5 folds for each of 72 candidates, totalling 360 fits\n"
     ]
    },
    {
     "name": "stderr",
     "output_type": "stream",
     "text": [
      "/home/rohinsood/.local/lib/python3.10/site-packages/sklearn/metrics/_regression.py:483: FutureWarning: 'squared' is deprecated in version 1.4 and will be removed in 1.6. To calculate the root mean squared error, use the function'root_mean_squared_error'.\n",
      "  warnings.warn(\n",
      "/home/rohinsood/.local/lib/python3.10/site-packages/sklearn/metrics/_regression.py:483: FutureWarning: 'squared' is deprecated in version 1.4 and will be removed in 1.6. To calculate the root mean squared error, use the function'root_mean_squared_error'.\n",
      "  warnings.warn(\n"
     ]
    },
    {
     "name": "stdout",
     "output_type": "stream",
     "text": [
      "Tur: 10, alpha: 0.01, best_score: 0.05340253592197364, R2: 0.33955451532085823, RMSE: 4.252653118814387\n",
      "Tur: r_squared_test: -0.17122440977169684, rmse_test: 2.0985123759417483, smape_test: 0.3787095404395339\n",
      "--------------------------------------\n",
      "\n",
      "Tur Finished\n",
      "nvar 7\n",
      "Seed 1\n",
      "\n",
      "--------------------------------------\n",
      "Training split: 0 to 58, Testing split: 59 to 117\n",
      "Fitting 5 folds for each of 72 candidates, totalling 360 fits\n"
     ]
    },
    {
     "name": "stderr",
     "output_type": "stream",
     "text": [
      "/home/rohinsood/.local/lib/python3.10/site-packages/sklearn/metrics/_regression.py:483: FutureWarning: 'squared' is deprecated in version 1.4 and will be removed in 1.6. To calculate the root mean squared error, use the function'root_mean_squared_error'.\n",
      "  warnings.warn(\n",
      "/home/rohinsood/.local/lib/python3.10/site-packages/sklearn/metrics/_regression.py:483: FutureWarning: 'squared' is deprecated in version 1.4 and will be removed in 1.6. To calculate the root mean squared error, use the function'root_mean_squared_error'.\n",
      "  warnings.warn(\n"
     ]
    },
    {
     "name": "stdout",
     "output_type": "stream",
     "text": [
      "Tur: (8, 8), alpha: 1e-06, best_score: -0.887958353396184, R2: 0.393722365892186, RMSE: 1.5286326807050716\n",
      "Tur: r_squared_test: -0.15769398394270917, rmse_test: 3.9051248650661634, smape_test: 0.4361845345872823\n",
      "--------------------------------------\n",
      "\n",
      "\n",
      "--------------------------------------\n",
      "Training split: 0 to 117, Testing split: 118 to 176\n",
      "Fitting 5 folds for each of 72 candidates, totalling 360 fits\n"
     ]
    },
    {
     "name": "stderr",
     "output_type": "stream",
     "text": [
      "/home/rohinsood/.local/lib/python3.10/site-packages/sklearn/metrics/_regression.py:483: FutureWarning: 'squared' is deprecated in version 1.4 and will be removed in 1.6. To calculate the root mean squared error, use the function'root_mean_squared_error'.\n",
      "  warnings.warn(\n",
      "/home/rohinsood/.local/lib/python3.10/site-packages/sklearn/metrics/_regression.py:483: FutureWarning: 'squared' is deprecated in version 1.4 and will be removed in 1.6. To calculate the root mean squared error, use the function'root_mean_squared_error'.\n",
      "  warnings.warn(\n"
     ]
    },
    {
     "name": "stdout",
     "output_type": "stream",
     "text": [
      "Tur: 6, alpha: 1e-06, best_score: -0.09424448481827308, R2: 0.08533709203820583, RMSE: 2.926833693567271\n",
      "Tur: r_squared_test: -0.008196416415615415, rmse_test: 7.677258021570483, smape_test: 0.6967734108948251\n",
      "--------------------------------------\n",
      "\n",
      "\n",
      "--------------------------------------\n",
      "Training split: 0 to 176, Testing split: 177 to 235\n",
      "Fitting 5 folds for each of 72 candidates, totalling 360 fits\n"
     ]
    },
    {
     "name": "stderr",
     "output_type": "stream",
     "text": [
      "/home/rohinsood/.local/lib/python3.10/site-packages/sklearn/metrics/_regression.py:483: FutureWarning: 'squared' is deprecated in version 1.4 and will be removed in 1.6. To calculate the root mean squared error, use the function'root_mean_squared_error'.\n",
      "  warnings.warn(\n",
      "/home/rohinsood/.local/lib/python3.10/site-packages/sklearn/metrics/_regression.py:483: FutureWarning: 'squared' is deprecated in version 1.4 and will be removed in 1.6. To calculate the root mean squared error, use the function'root_mean_squared_error'.\n",
      "  warnings.warn(\n"
     ]
    },
    {
     "name": "stdout",
     "output_type": "stream",
     "text": [
      "Tur: 5, alpha: 0.01, best_score: -0.22754936204697365, R2: 0.3192784650717816, RMSE: 4.339636082260196\n",
      "Tur: r_squared_test: 0.2868753142634285, rmse_test: 3.536925294044629, smape_test: 0.6078528788647936\n",
      "--------------------------------------\n",
      "\n",
      "\n",
      "--------------------------------------\n",
      "Training split: 0 to 235, Testing split: 236 to 294\n",
      "Fitting 5 folds for each of 72 candidates, totalling 360 fits\n"
     ]
    },
    {
     "name": "stderr",
     "output_type": "stream",
     "text": [
      "/home/rohinsood/.local/lib/python3.10/site-packages/sklearn/metrics/_regression.py:483: FutureWarning: 'squared' is deprecated in version 1.4 and will be removed in 1.6. To calculate the root mean squared error, use the function'root_mean_squared_error'.\n",
      "  warnings.warn(\n",
      "/home/rohinsood/.local/lib/python3.10/site-packages/sklearn/metrics/_regression.py:483: FutureWarning: 'squared' is deprecated in version 1.4 and will be removed in 1.6. To calculate the root mean squared error, use the function'root_mean_squared_error'.\n",
      "  warnings.warn(\n"
     ]
    },
    {
     "name": "stdout",
     "output_type": "stream",
     "text": [
      "Tur: 5, alpha: 0.09999999999999999, best_score: 0.009576876529913615, R2: 0.12003578062220588, RMSE: 4.551733464972176\n",
      "Tur: r_squared_test: 0.12405655554811723, rmse_test: 4.950826314354197, smape_test: 0.489364193946719\n",
      "--------------------------------------\n",
      "\n",
      "\n",
      "--------------------------------------\n",
      "Training split: 0 to 294, Testing split: 295 to 353\n",
      "Fitting 5 folds for each of 72 candidates, totalling 360 fits\n"
     ]
    },
    {
     "name": "stderr",
     "output_type": "stream",
     "text": [
      "/home/rohinsood/.local/lib/python3.10/site-packages/sklearn/metrics/_regression.py:483: FutureWarning: 'squared' is deprecated in version 1.4 and will be removed in 1.6. To calculate the root mean squared error, use the function'root_mean_squared_error'.\n",
      "  warnings.warn(\n",
      "/home/rohinsood/.local/lib/python3.10/site-packages/sklearn/metrics/_regression.py:483: FutureWarning: 'squared' is deprecated in version 1.4 and will be removed in 1.6. To calculate the root mean squared error, use the function'root_mean_squared_error'.\n",
      "  warnings.warn(\n"
     ]
    },
    {
     "name": "stdout",
     "output_type": "stream",
     "text": [
      "Tur: 6, alpha: 1e-06, best_score: 0.05596158961539144, R2: 0.30958828962396856, RMSE: 4.331949526004436\n",
      "Tur: r_squared_test: -0.05336464708700195, rmse_test: 1.9763855777139236, smape_test: 0.3722156408651753\n",
      "--------------------------------------\n",
      "\n",
      "Tur Finished\n",
      "nvar 8\n",
      "Seed 1\n",
      "\n",
      "--------------------------------------\n",
      "Training split: 0 to 58, Testing split: 59 to 117\n",
      "Fitting 5 folds for each of 72 candidates, totalling 360 fits\n"
     ]
    },
    {
     "name": "stderr",
     "output_type": "stream",
     "text": [
      "/home/rohinsood/.local/lib/python3.10/site-packages/sklearn/metrics/_regression.py:483: FutureWarning: 'squared' is deprecated in version 1.4 and will be removed in 1.6. To calculate the root mean squared error, use the function'root_mean_squared_error'.\n",
      "  warnings.warn(\n",
      "/home/rohinsood/.local/lib/python3.10/site-packages/sklearn/metrics/_regression.py:483: FutureWarning: 'squared' is deprecated in version 1.4 and will be removed in 1.6. To calculate the root mean squared error, use the function'root_mean_squared_error'.\n",
      "  warnings.warn(\n"
     ]
    },
    {
     "name": "stdout",
     "output_type": "stream",
     "text": [
      "Tur: 5, alpha: 1e-06, best_score: -0.35466506240346174, R2: -0.0349347387853125, RMSE: 1.780806733705131\n",
      "Tur: r_squared_test: -0.34702849566306315, rmse_test: 4.051276482493405, smape_test: 0.45929061518118186\n",
      "--------------------------------------\n",
      "\n",
      "\n",
      "--------------------------------------\n",
      "Training split: 0 to 117, Testing split: 118 to 176\n",
      "Fitting 5 folds for each of 72 candidates, totalling 360 fits\n"
     ]
    },
    {
     "name": "stderr",
     "output_type": "stream",
     "text": [
      "/home/rohinsood/.local/lib/python3.10/site-packages/sklearn/metrics/_regression.py:483: FutureWarning: 'squared' is deprecated in version 1.4 and will be removed in 1.6. To calculate the root mean squared error, use the function'root_mean_squared_error'.\n",
      "  warnings.warn(\n",
      "/home/rohinsood/.local/lib/python3.10/site-packages/sklearn/metrics/_regression.py:483: FutureWarning: 'squared' is deprecated in version 1.4 and will be removed in 1.6. To calculate the root mean squared error, use the function'root_mean_squared_error'.\n",
      "  warnings.warn(\n"
     ]
    },
    {
     "name": "stdout",
     "output_type": "stream",
     "text": [
      "Tur: 10, alpha: 1e-06, best_score: -0.010482641875702314, R2: 0.09137517461972067, RMSE: 2.9246692638546063\n",
      "Tur: r_squared_test: 0.004115874310174905, rmse_test: 7.635166973619211, smape_test: 0.695571110228254\n",
      "--------------------------------------\n",
      "\n",
      "\n",
      "--------------------------------------\n",
      "Training split: 0 to 176, Testing split: 177 to 235\n",
      "Fitting 5 folds for each of 72 candidates, totalling 360 fits\n"
     ]
    },
    {
     "name": "stderr",
     "output_type": "stream",
     "text": [
      "/home/rohinsood/.local/lib/python3.10/site-packages/sklearn/metrics/_regression.py:483: FutureWarning: 'squared' is deprecated in version 1.4 and will be removed in 1.6. To calculate the root mean squared error, use the function'root_mean_squared_error'.\n",
      "  warnings.warn(\n",
      "/home/rohinsood/.local/lib/python3.10/site-packages/sklearn/metrics/_regression.py:483: FutureWarning: 'squared' is deprecated in version 1.4 and will be removed in 1.6. To calculate the root mean squared error, use the function'root_mean_squared_error'.\n",
      "  warnings.warn(\n"
     ]
    },
    {
     "name": "stdout",
     "output_type": "stream",
     "text": [
      "Tur: (4, 4), alpha: 1e-06, best_score: -0.05971619886922856, R2: 0.007131108542238085, RMSE: 5.101587988693703\n",
      "Tur: r_squared_test: -0.01067324073667475, rmse_test: 3.9471839051083335, smape_test: 0.6133619301616361\n",
      "--------------------------------------\n",
      "\n",
      "\n",
      "--------------------------------------\n",
      "Training split: 0 to 235, Testing split: 236 to 294\n",
      "Fitting 5 folds for each of 72 candidates, totalling 360 fits\n"
     ]
    },
    {
     "name": "stderr",
     "output_type": "stream",
     "text": [
      "/home/rohinsood/.local/lib/python3.10/site-packages/sklearn/metrics/_regression.py:483: FutureWarning: 'squared' is deprecated in version 1.4 and will be removed in 1.6. To calculate the root mean squared error, use the function'root_mean_squared_error'.\n",
      "  warnings.warn(\n",
      "/home/rohinsood/.local/lib/python3.10/site-packages/sklearn/metrics/_regression.py:483: FutureWarning: 'squared' is deprecated in version 1.4 and will be removed in 1.6. To calculate the root mean squared error, use the function'root_mean_squared_error'.\n",
      "  warnings.warn(\n"
     ]
    },
    {
     "name": "stdout",
     "output_type": "stream",
     "text": [
      "Tur: 10, alpha: 0.01, best_score: -0.01858507885872691, R2: 0.30033661225416053, RMSE: 4.198740070270023\n",
      "Tur: r_squared_test: 0.26276658859290614, rmse_test: 4.617073812056786, smape_test: 0.4596640756032712\n",
      "--------------------------------------\n",
      "\n",
      "\n",
      "--------------------------------------\n",
      "Training split: 0 to 294, Testing split: 295 to 353\n",
      "Fitting 5 folds for each of 72 candidates, totalling 360 fits\n"
     ]
    },
    {
     "name": "stderr",
     "output_type": "stream",
     "text": [
      "/home/rohinsood/.local/lib/python3.10/site-packages/sklearn/metrics/_regression.py:483: FutureWarning: 'squared' is deprecated in version 1.4 and will be removed in 1.6. To calculate the root mean squared error, use the function'root_mean_squared_error'.\n",
      "  warnings.warn(\n",
      "/home/rohinsood/.local/lib/python3.10/site-packages/sklearn/metrics/_regression.py:483: FutureWarning: 'squared' is deprecated in version 1.4 and will be removed in 1.6. To calculate the root mean squared error, use the function'root_mean_squared_error'.\n",
      "  warnings.warn(\n"
     ]
    },
    {
     "name": "stdout",
     "output_type": "stream",
     "text": [
      "Tur: 8, alpha: 0.09999999999999999, best_score: 0.04470198248986821, R2: 0.33156695608284303, RMSE: 4.26612424768631\n",
      "Tur: r_squared_test: -0.10744817822773611, rmse_test: 2.006990421608535, smape_test: 0.3746363116029284\n",
      "--------------------------------------\n",
      "\n",
      "Tur Finished\n",
      "nvar 9\n",
      "Seed 1\n",
      "\n",
      "--------------------------------------\n",
      "Training split: 0 to 58, Testing split: 59 to 117\n",
      "Fitting 5 folds for each of 72 candidates, totalling 360 fits\n"
     ]
    },
    {
     "name": "stderr",
     "output_type": "stream",
     "text": [
      "/home/rohinsood/.local/lib/python3.10/site-packages/sklearn/metrics/_regression.py:483: FutureWarning: 'squared' is deprecated in version 1.4 and will be removed in 1.6. To calculate the root mean squared error, use the function'root_mean_squared_error'.\n",
      "  warnings.warn(\n",
      "/home/rohinsood/.local/lib/python3.10/site-packages/sklearn/metrics/_regression.py:483: FutureWarning: 'squared' is deprecated in version 1.4 and will be removed in 1.6. To calculate the root mean squared error, use the function'root_mean_squared_error'.\n",
      "  warnings.warn(\n"
     ]
    },
    {
     "name": "stdout",
     "output_type": "stream",
     "text": [
      "Tur: 5, alpha: 1e-06, best_score: -0.9621134843617354, R2: -0.0009762115790690196, RMSE: 1.780806733705131\n",
      "Tur: r_squared_test: -0.3349643072211186, rmse_test: 4.051276482493405, smape_test: 0.45929061518118186\n",
      "--------------------------------------\n",
      "\n",
      "\n",
      "--------------------------------------\n",
      "Training split: 0 to 117, Testing split: 118 to 176\n",
      "Fitting 5 folds for each of 72 candidates, totalling 360 fits\n"
     ]
    },
    {
     "name": "stderr",
     "output_type": "stream",
     "text": [
      "/home/rohinsood/.local/lib/python3.10/site-packages/sklearn/metrics/_regression.py:483: FutureWarning: 'squared' is deprecated in version 1.4 and will be removed in 1.6. To calculate the root mean squared error, use the function'root_mean_squared_error'.\n",
      "  warnings.warn(\n",
      "/home/rohinsood/.local/lib/python3.10/site-packages/sklearn/metrics/_regression.py:483: FutureWarning: 'squared' is deprecated in version 1.4 and will be removed in 1.6. To calculate the root mean squared error, use the function'root_mean_squared_error'.\n",
      "  warnings.warn(\n"
     ]
    },
    {
     "name": "stdout",
     "output_type": "stream",
     "text": [
      "Tur: 6, alpha: 1e-06, best_score: -0.10181543725318823, R2: 0.015334780965481576, RMSE: 3.0142493287907217\n",
      "Tur: r_squared_test: -0.010757596782821954, rmse_test: 7.689640881691903, smape_test: 0.6997774800648994\n",
      "--------------------------------------\n",
      "\n",
      "\n",
      "--------------------------------------\n",
      "Training split: 0 to 176, Testing split: 177 to 235\n",
      "Fitting 5 folds for each of 72 candidates, totalling 360 fits\n"
     ]
    },
    {
     "name": "stderr",
     "output_type": "stream",
     "text": [
      "/home/rohinsood/.local/lib/python3.10/site-packages/sklearn/metrics/_regression.py:483: FutureWarning: 'squared' is deprecated in version 1.4 and will be removed in 1.6. To calculate the root mean squared error, use the function'root_mean_squared_error'.\n",
      "  warnings.warn(\n",
      "/home/rohinsood/.local/lib/python3.10/site-packages/sklearn/metrics/_regression.py:483: FutureWarning: 'squared' is deprecated in version 1.4 and will be removed in 1.6. To calculate the root mean squared error, use the function'root_mean_squared_error'.\n",
      "  warnings.warn(\n"
     ]
    },
    {
     "name": "stdout",
     "output_type": "stream",
     "text": [
      "Tur: 5, alpha: 1e-06, best_score: -0.05096718862068168, R2: 0.022317047568865767, RMSE: 5.101587988693703\n",
      "Tur: r_squared_test: -0.04972750458581876, rmse_test: 3.9471839051083335, smape_test: 0.6133619301616361\n",
      "--------------------------------------\n",
      "\n",
      "\n",
      "--------------------------------------\n",
      "Training split: 0 to 235, Testing split: 236 to 294\n",
      "Fitting 5 folds for each of 72 candidates, totalling 360 fits\n"
     ]
    },
    {
     "name": "stderr",
     "output_type": "stream",
     "text": [
      "/home/rohinsood/.local/lib/python3.10/site-packages/sklearn/metrics/_regression.py:483: FutureWarning: 'squared' is deprecated in version 1.4 and will be removed in 1.6. To calculate the root mean squared error, use the function'root_mean_squared_error'.\n",
      "  warnings.warn(\n",
      "/home/rohinsood/.local/lib/python3.10/site-packages/sklearn/metrics/_regression.py:483: FutureWarning: 'squared' is deprecated in version 1.4 and will be removed in 1.6. To calculate the root mean squared error, use the function'root_mean_squared_error'.\n",
      "  warnings.warn(\n"
     ]
    },
    {
     "name": "stdout",
     "output_type": "stream",
     "text": [
      "Tur: 5, alpha: 0.09999999999999999, best_score: -0.010882625669884561, R2: 0.1876661436674919, RMSE: 4.491355641055336\n",
      "Tur: r_squared_test: 0.12988889360783695, rmse_test: 4.995946410024715, smape_test: 0.4643145284403678\n",
      "--------------------------------------\n",
      "\n",
      "\n",
      "--------------------------------------\n",
      "Training split: 0 to 294, Testing split: 295 to 353\n",
      "Fitting 5 folds for each of 72 candidates, totalling 360 fits\n"
     ]
    },
    {
     "name": "stderr",
     "output_type": "stream",
     "text": [
      "/home/rohinsood/.local/lib/python3.10/site-packages/sklearn/metrics/_regression.py:483: FutureWarning: 'squared' is deprecated in version 1.4 and will be removed in 1.6. To calculate the root mean squared error, use the function'root_mean_squared_error'.\n",
      "  warnings.warn(\n",
      "/home/rohinsood/.local/lib/python3.10/site-packages/sklearn/metrics/_regression.py:483: FutureWarning: 'squared' is deprecated in version 1.4 and will be removed in 1.6. To calculate the root mean squared error, use the function'root_mean_squared_error'.\n",
      "  warnings.warn(\n"
     ]
    },
    {
     "name": "stdout",
     "output_type": "stream",
     "text": [
      "Tur: 8, alpha: 1e-06, best_score: 0.08954404815762798, R2: 0.24635016360862216, RMSE: 4.45838245902916\n",
      "Tur: r_squared_test: 0.2658603703774177, rmse_test: 1.8453106108038022, smape_test: 0.34324379484825573\n",
      "--------------------------------------\n",
      "\n",
      "Tur Finished\n",
      "nvar 10\n",
      "Seed 1\n",
      "\n",
      "--------------------------------------\n",
      "Training split: 0 to 58, Testing split: 59 to 117\n",
      "Fitting 5 folds for each of 72 candidates, totalling 360 fits\n"
     ]
    },
    {
     "name": "stderr",
     "output_type": "stream",
     "text": [
      "/home/rohinsood/.local/lib/python3.10/site-packages/sklearn/metrics/_regression.py:483: FutureWarning: 'squared' is deprecated in version 1.4 and will be removed in 1.6. To calculate the root mean squared error, use the function'root_mean_squared_error'.\n",
      "  warnings.warn(\n",
      "/home/rohinsood/.local/lib/python3.10/site-packages/sklearn/metrics/_regression.py:483: FutureWarning: 'squared' is deprecated in version 1.4 and will be removed in 1.6. To calculate the root mean squared error, use the function'root_mean_squared_error'.\n",
      "  warnings.warn(\n"
     ]
    },
    {
     "name": "stdout",
     "output_type": "stream",
     "text": [
      "Tur: (8, 8), alpha: 1e-06, best_score: -0.9614068503922765, R2: -0.08125025659490803, RMSE: 1.780806733705131\n",
      "Tur: r_squared_test: -0.35171030219452737, rmse_test: 4.051276482493405, smape_test: 0.45929061518118186\n",
      "--------------------------------------\n",
      "\n",
      "\n",
      "--------------------------------------\n",
      "Training split: 0 to 117, Testing split: 118 to 176\n",
      "Fitting 5 folds for each of 72 candidates, totalling 360 fits\n"
     ]
    },
    {
     "name": "stderr",
     "output_type": "stream",
     "text": [
      "/home/rohinsood/.local/lib/python3.10/site-packages/sklearn/metrics/_regression.py:483: FutureWarning: 'squared' is deprecated in version 1.4 and will be removed in 1.6. To calculate the root mean squared error, use the function'root_mean_squared_error'.\n",
      "  warnings.warn(\n",
      "/home/rohinsood/.local/lib/python3.10/site-packages/sklearn/metrics/_regression.py:483: FutureWarning: 'squared' is deprecated in version 1.4 and will be removed in 1.6. To calculate the root mean squared error, use the function'root_mean_squared_error'.\n",
      "  warnings.warn(\n"
     ]
    },
    {
     "name": "stdout",
     "output_type": "stream",
     "text": [
      "Tur: (8, 8), alpha: 0.01, best_score: -0.07216200300210258, R2: -0.004056514148904844, RMSE: 3.0174699607603017\n",
      "Tur: r_squared_test: -0.05642239272846994, rmse_test: 7.796305999962068, smape_test: 0.7043002852784003\n",
      "--------------------------------------\n",
      "\n",
      "\n",
      "--------------------------------------\n",
      "Training split: 0 to 176, Testing split: 177 to 235\n",
      "Fitting 5 folds for each of 72 candidates, totalling 360 fits\n"
     ]
    },
    {
     "name": "stderr",
     "output_type": "stream",
     "text": [
      "/home/rohinsood/.local/lib/python3.10/site-packages/sklearn/metrics/_regression.py:483: FutureWarning: 'squared' is deprecated in version 1.4 and will be removed in 1.6. To calculate the root mean squared error, use the function'root_mean_squared_error'.\n",
      "  warnings.warn(\n",
      "/home/rohinsood/.local/lib/python3.10/site-packages/sklearn/metrics/_regression.py:483: FutureWarning: 'squared' is deprecated in version 1.4 and will be removed in 1.6. To calculate the root mean squared error, use the function'root_mean_squared_error'.\n",
      "  warnings.warn(\n"
     ]
    },
    {
     "name": "stdout",
     "output_type": "stream",
     "text": [
      "Tur: 5, alpha: 0.09999999999999999, best_score: -0.01784950716825131, R2: 0.2597610424905282, RMSE: 4.512209681918617\n",
      "Tur: r_squared_test: 0.24850893803481222, rmse_test: 3.652585638428378, smape_test: 0.6112877542526706\n",
      "--------------------------------------\n",
      "\n",
      "\n",
      "--------------------------------------\n",
      "Training split: 0 to 235, Testing split: 236 to 294\n",
      "Fitting 5 folds for each of 72 candidates, totalling 360 fits\n"
     ]
    },
    {
     "name": "stderr",
     "output_type": "stream",
     "text": [
      "/home/rohinsood/.local/lib/python3.10/site-packages/sklearn/metrics/_regression.py:483: FutureWarning: 'squared' is deprecated in version 1.4 and will be removed in 1.6. To calculate the root mean squared error, use the function'root_mean_squared_error'.\n",
      "  warnings.warn(\n",
      "/home/rohinsood/.local/lib/python3.10/site-packages/sklearn/metrics/_regression.py:483: FutureWarning: 'squared' is deprecated in version 1.4 and will be removed in 1.6. To calculate the root mean squared error, use the function'root_mean_squared_error'.\n",
      "  warnings.warn(\n"
     ]
    },
    {
     "name": "stdout",
     "output_type": "stream",
     "text": [
      "Tur: 5, alpha: 0.09999999999999999, best_score: -0.04057573615648389, R2: 0.007515724319539396, RMSE: 4.836403816377353\n",
      "Tur: r_squared_test: -0.11706619243379479, rmse_test: 5.469606040646218, smape_test: 0.500065681409769\n",
      "--------------------------------------\n",
      "\n",
      "\n",
      "--------------------------------------\n",
      "Training split: 0 to 294, Testing split: 295 to 353\n",
      "Fitting 5 folds for each of 72 candidates, totalling 360 fits\n"
     ]
    },
    {
     "name": "stderr",
     "output_type": "stream",
     "text": [
      "/home/rohinsood/.local/lib/python3.10/site-packages/sklearn/metrics/_regression.py:483: FutureWarning: 'squared' is deprecated in version 1.4 and will be removed in 1.6. To calculate the root mean squared error, use the function'root_mean_squared_error'.\n",
      "  warnings.warn(\n",
      "/home/rohinsood/.local/lib/python3.10/site-packages/sklearn/metrics/_regression.py:483: FutureWarning: 'squared' is deprecated in version 1.4 and will be removed in 1.6. To calculate the root mean squared error, use the function'root_mean_squared_error'.\n",
      "  warnings.warn(\n"
     ]
    },
    {
     "name": "stdout",
     "output_type": "stream",
     "text": [
      "Tur: 2, alpha: 0.01, best_score: 0.03029429833156185, R2: 0.2506958794460402, RMSE: 4.489198978636002\n",
      "Tur: r_squared_test: 0.00030683382063156905, rmse_test: 2.027310983312018, smape_test: 0.37526578195393584\n",
      "--------------------------------------\n",
      "\n",
      "Tur Finished\n",
      "nvar 11\n",
      "Seed 1\n",
      "\n",
      "--------------------------------------\n",
      "Training split: 0 to 58, Testing split: 59 to 117\n",
      "Fitting 5 folds for each of 72 candidates, totalling 360 fits\n"
     ]
    },
    {
     "name": "stderr",
     "output_type": "stream",
     "text": [
      "/home/rohinsood/.local/lib/python3.10/site-packages/sklearn/metrics/_regression.py:483: FutureWarning: 'squared' is deprecated in version 1.4 and will be removed in 1.6. To calculate the root mean squared error, use the function'root_mean_squared_error'.\n",
      "  warnings.warn(\n",
      "/home/rohinsood/.local/lib/python3.10/site-packages/sklearn/metrics/_regression.py:483: FutureWarning: 'squared' is deprecated in version 1.4 and will be removed in 1.6. To calculate the root mean squared error, use the function'root_mean_squared_error'.\n",
      "  warnings.warn(\n"
     ]
    },
    {
     "name": "stdout",
     "output_type": "stream",
     "text": [
      "Tur: 2, alpha: 1e-06, best_score: -0.7510697705279046, R2: 0.5170359557300616, RMSE: 1.5091387699753767\n",
      "Tur: r_squared_test: -0.06618888149165247, rmse_test: 3.8114736381516274, smape_test: 0.4199900651387246\n",
      "--------------------------------------\n",
      "\n",
      "\n",
      "--------------------------------------\n",
      "Training split: 0 to 117, Testing split: 118 to 176\n",
      "Fitting 5 folds for each of 72 candidates, totalling 360 fits\n"
     ]
    },
    {
     "name": "stderr",
     "output_type": "stream",
     "text": [
      "/home/rohinsood/.local/lib/python3.10/site-packages/sklearn/metrics/_regression.py:483: FutureWarning: 'squared' is deprecated in version 1.4 and will be removed in 1.6. To calculate the root mean squared error, use the function'root_mean_squared_error'.\n",
      "  warnings.warn(\n",
      "/home/rohinsood/.local/lib/python3.10/site-packages/sklearn/metrics/_regression.py:483: FutureWarning: 'squared' is deprecated in version 1.4 and will be removed in 1.6. To calculate the root mean squared error, use the function'root_mean_squared_error'.\n",
      "  warnings.warn(\n"
     ]
    },
    {
     "name": "stdout",
     "output_type": "stream",
     "text": [
      "Tur: 2, alpha: 1e-06, best_score: -0.05158602442771996, R2: 0.1339929287817606, RMSE: 2.8844653896832115\n",
      "Tur: r_squared_test: 0.06641899672017715, rmse_test: 7.407298714074425, smape_test: 0.6859136125538559\n",
      "--------------------------------------\n",
      "\n",
      "\n",
      "--------------------------------------\n",
      "Training split: 0 to 176, Testing split: 177 to 235\n",
      "Fitting 5 folds for each of 72 candidates, totalling 360 fits\n"
     ]
    },
    {
     "name": "stderr",
     "output_type": "stream",
     "text": [
      "/home/rohinsood/.local/lib/python3.10/site-packages/sklearn/metrics/_regression.py:483: FutureWarning: 'squared' is deprecated in version 1.4 and will be removed in 1.6. To calculate the root mean squared error, use the function'root_mean_squared_error'.\n",
      "  warnings.warn(\n",
      "/home/rohinsood/.local/lib/python3.10/site-packages/sklearn/metrics/_regression.py:483: FutureWarning: 'squared' is deprecated in version 1.4 and will be removed in 1.6. To calculate the root mean squared error, use the function'root_mean_squared_error'.\n",
      "  warnings.warn(\n"
     ]
    },
    {
     "name": "stdout",
     "output_type": "stream",
     "text": [
      "Tur: 4, alpha: 0.01, best_score: -0.1331731004039435, R2: 0.21968123097239634, RMSE: 4.584371278649598\n",
      "Tur: r_squared_test: 0.37104077777974476, rmse_test: 3.362670353028281, smape_test: 0.6018468609267504\n",
      "--------------------------------------\n",
      "\n",
      "\n",
      "--------------------------------------\n",
      "Training split: 0 to 235, Testing split: 236 to 294\n",
      "Fitting 5 folds for each of 72 candidates, totalling 360 fits\n"
     ]
    },
    {
     "name": "stderr",
     "output_type": "stream",
     "text": [
      "/home/rohinsood/.local/lib/python3.10/site-packages/sklearn/metrics/_regression.py:483: FutureWarning: 'squared' is deprecated in version 1.4 and will be removed in 1.6. To calculate the root mean squared error, use the function'root_mean_squared_error'.\n",
      "  warnings.warn(\n",
      "/home/rohinsood/.local/lib/python3.10/site-packages/sklearn/metrics/_regression.py:483: FutureWarning: 'squared' is deprecated in version 1.4 and will be removed in 1.6. To calculate the root mean squared error, use the function'root_mean_squared_error'.\n",
      "  warnings.warn(\n"
     ]
    },
    {
     "name": "stdout",
     "output_type": "stream",
     "text": [
      "Tur: 2, alpha: 0.09999999999999999, best_score: -0.06136949659211608, R2: 0.1844287305252601, RMSE: 4.485891498514841\n",
      "Tur: r_squared_test: 0.1597964845272819, rmse_test: 4.904617816964207, smape_test: 0.4625469186469722\n",
      "--------------------------------------\n",
      "\n",
      "\n",
      "--------------------------------------\n",
      "Training split: 0 to 294, Testing split: 295 to 353\n",
      "Fitting 5 folds for each of 72 candidates, totalling 360 fits\n"
     ]
    },
    {
     "name": "stderr",
     "output_type": "stream",
     "text": [
      "/home/rohinsood/.local/lib/python3.10/site-packages/sklearn/metrics/_regression.py:483: FutureWarning: 'squared' is deprecated in version 1.4 and will be removed in 1.6. To calculate the root mean squared error, use the function'root_mean_squared_error'.\n",
      "  warnings.warn(\n",
      "/home/rohinsood/.local/lib/python3.10/site-packages/sklearn/metrics/_regression.py:483: FutureWarning: 'squared' is deprecated in version 1.4 and will be removed in 1.6. To calculate the root mean squared error, use the function'root_mean_squared_error'.\n",
      "  warnings.warn(\n"
     ]
    },
    {
     "name": "stdout",
     "output_type": "stream",
     "text": [
      "Tur: 2, alpha: 1e-06, best_score: 0.04266313715102641, R2: 0.23947233997419792, RMSE: 4.5034141774781995\n",
      "Tur: r_squared_test: 0.05719960703051674, rmse_test: 1.975751555738372, smape_test: 0.3698401349451177\n",
      "--------------------------------------\n",
      "\n",
      "Tur Finished\n",
      "nvar 12\n",
      "Seed 1\n",
      "\n",
      "--------------------------------------\n",
      "Training split: 0 to 58, Testing split: 59 to 117\n",
      "Fitting 5 folds for each of 72 candidates, totalling 360 fits\n"
     ]
    },
    {
     "name": "stderr",
     "output_type": "stream",
     "text": [
      "/home/rohinsood/.local/lib/python3.10/site-packages/sklearn/metrics/_regression.py:483: FutureWarning: 'squared' is deprecated in version 1.4 and will be removed in 1.6. To calculate the root mean squared error, use the function'root_mean_squared_error'.\n",
      "  warnings.warn(\n",
      "/home/rohinsood/.local/lib/python3.10/site-packages/sklearn/metrics/_regression.py:483: FutureWarning: 'squared' is deprecated in version 1.4 and will be removed in 1.6. To calculate the root mean squared error, use the function'root_mean_squared_error'.\n",
      "  warnings.warn(\n"
     ]
    },
    {
     "name": "stdout",
     "output_type": "stream",
     "text": [
      "Tur: 5, alpha: 9.999999999999999e-05, best_score: -0.6520922151872062, R2: 0.5960195596594786, RMSE: 1.460093017086307\n",
      "Tur: r_squared_test: -0.08763534373553816, rmse_test: 3.8412929017305695, smape_test: 0.44654994029469275\n",
      "--------------------------------------\n",
      "\n",
      "\n",
      "--------------------------------------\n",
      "Training split: 0 to 117, Testing split: 118 to 176\n",
      "Fitting 5 folds for each of 72 candidates, totalling 360 fits\n"
     ]
    },
    {
     "name": "stderr",
     "output_type": "stream",
     "text": [
      "/home/rohinsood/.local/lib/python3.10/site-packages/sklearn/metrics/_regression.py:483: FutureWarning: 'squared' is deprecated in version 1.4 and will be removed in 1.6. To calculate the root mean squared error, use the function'root_mean_squared_error'.\n",
      "  warnings.warn(\n",
      "/home/rohinsood/.local/lib/python3.10/site-packages/sklearn/metrics/_regression.py:483: FutureWarning: 'squared' is deprecated in version 1.4 and will be removed in 1.6. To calculate the root mean squared error, use the function'root_mean_squared_error'.\n",
      "  warnings.warn(\n"
     ]
    },
    {
     "name": "stdout",
     "output_type": "stream",
     "text": [
      "Tur: 8, alpha: 0.01, best_score: -0.01670367148622882, R2: 0.17278658646123013, RMSE: 2.8233561525702333\n",
      "Tur: r_squared_test: 0.08651417384409854, rmse_test: 7.3394196635456295, smape_test: 0.6748013399879477\n",
      "--------------------------------------\n",
      "\n",
      "\n",
      "--------------------------------------\n",
      "Training split: 0 to 176, Testing split: 177 to 235\n",
      "Fitting 5 folds for each of 72 candidates, totalling 360 fits\n"
     ]
    },
    {
     "name": "stderr",
     "output_type": "stream",
     "text": [
      "/home/rohinsood/.local/lib/python3.10/site-packages/sklearn/metrics/_regression.py:483: FutureWarning: 'squared' is deprecated in version 1.4 and will be removed in 1.6. To calculate the root mean squared error, use the function'root_mean_squared_error'.\n",
      "  warnings.warn(\n",
      "/home/rohinsood/.local/lib/python3.10/site-packages/sklearn/metrics/_regression.py:483: FutureWarning: 'squared' is deprecated in version 1.4 and will be removed in 1.6. To calculate the root mean squared error, use the function'root_mean_squared_error'.\n",
      "  warnings.warn(\n"
     ]
    },
    {
     "name": "stdout",
     "output_type": "stream",
     "text": [
      "Tur: (6, 6), alpha: 1e-06, best_score: -0.07337214263282073, R2: 0.007226597964838266, RMSE: 5.089177120083426\n",
      "Tur: r_squared_test: -0.013707197568775475, rmse_test: 3.9441669689875587, smape_test: 0.6130988414955241\n",
      "--------------------------------------\n",
      "\n",
      "\n",
      "--------------------------------------\n",
      "Training split: 0 to 235, Testing split: 236 to 294\n",
      "Fitting 5 folds for each of 72 candidates, totalling 360 fits\n"
     ]
    },
    {
     "name": "stderr",
     "output_type": "stream",
     "text": [
      "/home/rohinsood/.local/lib/python3.10/site-packages/sklearn/metrics/_regression.py:483: FutureWarning: 'squared' is deprecated in version 1.4 and will be removed in 1.6. To calculate the root mean squared error, use the function'root_mean_squared_error'.\n",
      "  warnings.warn(\n",
      "/home/rohinsood/.local/lib/python3.10/site-packages/sklearn/metrics/_regression.py:483: FutureWarning: 'squared' is deprecated in version 1.4 and will be removed in 1.6. To calculate the root mean squared error, use the function'root_mean_squared_error'.\n",
      "  warnings.warn(\n"
     ]
    },
    {
     "name": "stdout",
     "output_type": "stream",
     "text": [
      "Tur: 4, alpha: 0.09999999999999999, best_score: -0.009893301482409255, R2: 0.18772489362495592, RMSE: 4.484398721289528\n",
      "Tur: r_squared_test: 0.12373960436759113, rmse_test: 5.0044147587281635, smape_test: 0.465429368343803\n",
      "--------------------------------------\n",
      "\n",
      "\n",
      "--------------------------------------\n",
      "Training split: 0 to 294, Testing split: 295 to 353\n",
      "Fitting 5 folds for each of 72 candidates, totalling 360 fits\n"
     ]
    },
    {
     "name": "stderr",
     "output_type": "stream",
     "text": [
      "/home/rohinsood/.local/lib/python3.10/site-packages/sklearn/metrics/_regression.py:483: FutureWarning: 'squared' is deprecated in version 1.4 and will be removed in 1.6. To calculate the root mean squared error, use the function'root_mean_squared_error'.\n",
      "  warnings.warn(\n",
      "/home/rohinsood/.local/lib/python3.10/site-packages/sklearn/metrics/_regression.py:483: FutureWarning: 'squared' is deprecated in version 1.4 and will be removed in 1.6. To calculate the root mean squared error, use the function'root_mean_squared_error'.\n",
      "  warnings.warn(\n"
     ]
    },
    {
     "name": "stdout",
     "output_type": "stream",
     "text": [
      "Tur: 4, alpha: 1e-06, best_score: 0.019212969438120852, R2: 0.16105394799960582, RMSE: 4.668935024911024\n",
      "Tur: r_squared_test: 0.2441555953569362, rmse_test: 1.8598073933149515, smape_test: 0.3394345495019868\n",
      "--------------------------------------\n",
      "\n",
      "Tur Finished\n",
      "All ANN training finished.\n",
      "Results saved to data/ANN_results.csv\n"
     ]
    }
   ],
   "source": [
    "import pandas as pd\n",
    "import numpy as np\n",
    "from sklearn.model_selection import TimeSeriesSplit, GridSearchCV\n",
    "from sklearn.neural_network import MLPRegressor\n",
    "from sklearn.preprocessing import StandardScaler\n",
    "from sklearn.metrics import mean_squared_error, mean_absolute_error\n",
    "\n",
    "# Assuming 'df' is your pandas DataFrame containing the time series data\n",
    "\n",
    "print(\"Starting ANN training...\")\n",
    "\n",
    "wq = ['Chla', 'SS', 'Tur']\n",
    "n_splits = 5\n",
    "seed = 1\n",
    "\n",
    "ANN_results = []\n",
    "\n",
    "for wq_name in wq:\n",
    "    print(f\"\\n{wq_name} Started\")\n",
    "    \n",
    "    for first in range(4, 13):\n",
    "        print(f\"nvar {first}\")\n",
    "        print(f\"Seed {seed}\")\n",
    "        \n",
    "        # Define the TimeSeriesSplit\n",
    "        tscv = TimeSeriesSplit(n_splits=n_splits)\n",
    "\n",
    "        for i, (train_index, test_index) in enumerate(tscv.split(df)):\n",
    "            df_train, df_test = df.iloc[train_index], df.iloc[test_index]\n",
    "            X_train, X_test = df_train.drop(columns=wq), df_test.drop(columns=wq)\n",
    "            Y_train, Y_test = df_train[wq_name], df_test[wq_name]\n",
    "\n",
    "            # Fit scaler on training data and transform both training and test data\n",
    "            scaler_X = StandardScaler()\n",
    "            scaler_Y = StandardScaler()\n",
    "            X_train_scaled = scaler_X.fit_transform(X_train)\n",
    "            X_test_scaled = scaler_X.transform(X_test)\n",
    "            Y_train_scaled = scaler_Y.fit_transform(Y_train.values.reshape(-1, 1)).flatten()\n",
    "            Y_test_scaled = scaler_Y.transform(Y_test.values.reshape(-1, 1)).flatten()\n",
    "\n",
    "            print(\"\\n--------------------------------------\")\n",
    "            print(f'Training split: {train_index[0]} to {train_index[-1]}, Testing split: {test_index[0]} to {test_index[-1]}')\n",
    "\n",
    "            # Correlation-based feature selection\n",
    "            c = df_train.corr().copy()\n",
    "            c = c[wq_name][22:113]\n",
    "            c = abs(c).sort_values(ascending=False)[0:first]\n",
    "            var = c.index.tolist()\n",
    "\n",
    "            X_train2 = X_train_scaled[:, [X_train.columns.get_loc(col) for col in var]]\n",
    "            X_test2 = X_test_scaled[:, [X_test.columns.get_loc(col) for col in var]]\n",
    "\n",
    "            hidden_layer_sizes = [2, 4, 5, 6, 8, 10, (2, 2), (4, 4), (5, 5), (6, 6), (8, 8), (10, 10)]\n",
    "            tuned_parameters = {'hidden_layer_sizes': hidden_layer_sizes, 'alpha': 10.0 ** -np.arange(1, 7)}\n",
    "\n",
    "            clf = GridSearchCV(\n",
    "                MLPRegressor(random_state=seed, activation='logistic', solver='sgd', max_iter=10000, early_stopping=True),\n",
    "                param_grid=tuned_parameters, scoring='r2', verbose=1, cv=5\n",
    "            )\n",
    "\n",
    "            clf.fit(X_train2, Y_train_scaled)\n",
    "            nvar = len(var)\n",
    "            best_layer = clf.best_estimator_.hidden_layer_sizes\n",
    "            best_alpha = clf.best_estimator_.alpha\n",
    "\n",
    "            regr = MLPRegressor(\n",
    "                random_state=seed, hidden_layer_sizes=best_layer, alpha=best_alpha, activation='logistic',\n",
    "                solver='sgd', max_iter=10000, early_stopping=True\n",
    "            ).fit(X_train2, Y_train_scaled)\n",
    "\n",
    "            r_squared = regr.score(X_train2, Y_train_scaled)\n",
    "            adjusted_r_squared = 1 - (1 - r_squared) * (len(Y_train) - 1) / (len(Y_train) - X_train2.shape[1] - 1)\n",
    "\n",
    "            # Evaluate model on training data\n",
    "            Y_train_pred_scaled = regr.predict(X_train2)\n",
    "            Y_train_pred_scaled[Y_train_pred_scaled < 0] = 0.0\n",
    "\n",
    "            # Inverse transform the predictions and actual values\n",
    "            Y_train_pred = scaler_Y.inverse_transform(Y_train_pred_scaled.reshape(-1, 1)).flatten()\n",
    "            Y_train_unscaled = scaler_Y.inverse_transform(Y_train_scaled.reshape(-1, 1)).flatten()\n",
    "\n",
    "            corr_model = np.corrcoef(Y_train_unscaled, Y_train_pred)[0, 1]\n",
    "            rmse = mean_squared_error(Y_train_unscaled, Y_train_pred, squared=False)\n",
    "            mae = mean_absolute_error(Y_train_unscaled, Y_train_pred)\n",
    "            smape = np.mean(2 * (np.abs(Y_train_pred - Y_train_unscaled)) / (np.abs(Y_train_unscaled) + np.abs(Y_train_pred)))\n",
    "            print(f'{wq_name}: {best_layer}, alpha: {best_alpha}, best_score: {clf.best_score_}, R2: {r_squared}, RMSE: {rmse}')\n",
    "\n",
    "            # Test model on testing data\n",
    "            Y_test_pred_scaled = regr.predict(X_test2)\n",
    "            Y_test_pred_scaled[Y_test_pred_scaled < 0] = 0.0\n",
    "\n",
    "            # Inverse transform the predictions and actual values\n",
    "            Y_test_pred = scaler_Y.inverse_transform(Y_test_pred_scaled.reshape(-1, 1)).flatten()\n",
    "            Y_test_unscaled = scaler_Y.inverse_transform(Y_test_scaled.reshape(-1, 1)).flatten()\n",
    "\n",
    "            r_squared_test = regr.score(X_test2, Y_test_scaled)\n",
    "            corr_test = np.corrcoef(Y_test_unscaled, Y_test_pred)[0, 1]\n",
    "            rmse_test = mean_squared_error(Y_test_unscaled, Y_test_pred, squared=False)\n",
    "            mae_test = mean_absolute_error(Y_test_unscaled, Y_test_pred)\n",
    "            smape_test = np.mean(2 * (np.abs(Y_test_pred - Y_test_unscaled)) / (np.abs(Y_test_unscaled) + np.abs(Y_test_pred)))\n",
    "            print(f'{wq_name}: r_squared_test: {r_squared_test}, rmse_test: {rmse_test}, smape_test: {smape_test}')\n",
    "\n",
    "            # Store results in a DataFrame\n",
    "            ANN_df = pd.DataFrame({\n",
    "                'WQ': [wq_name], 'nvar': [nvar], 'var': [var], 'random_state': [seed],\n",
    "                'best_layer': [best_layer], 'best_alpha': [best_alpha], 'best_score': [clf.best_score_],\n",
    "                'r2': [r_squared], 'adjusted_r2': [adjusted_r_squared], 'corr_model': [corr_model],\n",
    "                'rmse': [rmse], 'mae': [mae], 'smape': [smape],\n",
    "                'r2_test': [r_squared_test], 'corr_test': [corr_test],\n",
    "                'rmse_test': [rmse_test], 'mae_test': [mae_test], 'smape_test': [smape_test],\n",
    "                'train_index': [train_index], 'test_index': [test_index],\n",
    "                'Y_train': [Y_train], 'Y_train_pred': [Y_train_pred],\n",
    "                'Y_test': [Y_test], 'Y_test_pred': [Y_test_pred]\n",
    "            })\n",
    "\n",
    "            ANN_results.append(ANN_df)\n",
    "            print(\"--------------------------------------\\n\")\n",
    "\n",
    "        print(f\"{wq_name} Finished\")\n",
    "\n",
    "print(\"All ANN training finished.\")\n",
    "\n",
    "# Combine all results into a single DataFrame\n",
    "ANN_result = pd.concat(ANN_results, ignore_index=True)\n",
    "\n",
    "# Save results to CSV\n",
    "ANN_result.to_csv(\"data/ANN_results.csv\", index=False)\n",
    "\n",
    "print(\"Results saved to data/ANN_results.csv\")\n"
   ]
  },
  {
   "cell_type": "code",
   "execution_count": null,
   "metadata": {},
   "outputs": [],
   "source": [
    "df = pd.read_csv(\"data/df_data_filter.csv\")\n",
    "df2 = pd.read_csv(\"data/df_data_graphing_filter.csv\")"
   ]
  },
  {
   "cell_type": "code",
   "execution_count": 86,
   "metadata": {},
   "outputs": [
    {
     "name": "stdout",
     "output_type": "stream",
     "text": [
      "Lowest rmse_test value: 2.405374546949454\n",
      "Other properties: WQ                                                           Chla\n",
      "nvar                                                            9\n",
      "var             ['TB_B2B3B4', 'LH_B3B4B5', 'LH_B7B8AB11', 'B8A...\n",
      "random_state                                                    1\n",
      "best_layer                                                      5\n",
      "best_alpha                                               0.000001\n",
      "best_score                                              -0.156779\n",
      "r2                                                       0.238763\n",
      "adjusted_r2                                              0.208448\n",
      "corr_model                                               0.622966\n",
      "rmse                                                     4.861464\n",
      "mae                                                      2.671804\n",
      "smape                                                    0.844137\n",
      "r2_test                                                  0.143191\n",
      "corr_test                                                0.283775\n",
      "rmse_test                                                2.405375\n",
      "mae_test                                                 1.945885\n",
      "smape_test                                               0.730043\n",
      "train_index     [  0   1   2   3   4   5   6   7   8   9  10  ...\n",
      "test_index      [236 237 238 239 240 241 242 243 244 245 246 2...\n",
      "Y_train         0       1.8\\n1      11.0\\n2       6.2\\n3      ...\n",
      "Y_train_pred    [4.03212765 5.5363453  4.32596834 4.42957131 3...\n",
      "Y_test          236     1.1\\n237     0.9\\n238     0.9\\n239    ...\n",
      "Y_test_pred     [2.96398305 2.96398305 2.96398305 2.96398305 2...\n",
      "Name: 28, dtype: object\n"
     ]
    }
   ],
   "source": [
    "df = pd.read_csv(\"data/ANN_results.csv\")\n",
    "\n",
    "# Assuming df is your DataFrame\n",
    "filtered_df = df[df['WQ'] == 'Chla']\n",
    "\n",
    "lowest_rmse_entry_chla = filtered_df.loc[filtered_df['rmse_test'].idxmin()]\n",
    "\n",
    "print('Lowest rmse_test value:', lowest_rmse_entry_chla['rmse_test'])\n",
    "print('Other properties:', lowest_rmse_entry_chla)\n"
   ]
  }
 ],
 "metadata": {
  "colab": {
   "provenance": []
  },
  "kernelspec": {
   "display_name": "Python 3 (ipykernel)",
   "language": "python",
   "name": "python3"
  },
  "language_info": {
   "codemirror_mode": {
    "name": "ipython",
    "version": 3
   },
   "file_extension": ".py",
   "mimetype": "text/x-python",
   "name": "python",
   "nbconvert_exporter": "python",
   "pygments_lexer": "ipython3",
   "version": "3.10.12"
  },
  "vscode": {
   "interpreter": {
    "hash": "767d51c1340bd893661ea55ea3124f6de3c7a262a8b4abca0554b478b1e2ff90"
   }
  }
 },
 "nbformat": 4,
 "nbformat_minor": 4
}
